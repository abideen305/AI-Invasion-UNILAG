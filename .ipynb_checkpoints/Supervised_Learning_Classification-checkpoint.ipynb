{
 "cells": [
  {
   "cell_type": "markdown",
   "metadata": {
    "id": "h__dNa62Bbc4"
   },
   "source": [
    "# Data Science Nigeria: Introductory Machine Learning\n",
    "\n",
    "![](../Images/banner.jpeg)"
   ]
  },
  {
   "cell_type": "markdown",
   "metadata": {
    "id": "YGz8TaGjBbc-"
   },
   "source": [
    "# INTRODUCTION TO CLASSIFICATION\n",
    "\n",
    "## Course Overview \n",
    "\n",
    "Upon completion of this study unit, you should be able to:\n",
    "\n",
    "- Distinguish between Classfication and Regression\n",
    "\n",
    "- Identify real world examples of classification\n",
    "\n",
    "- Distinguish between binary and Multi-class problems\n",
    "\n",
    "- List types of classification algorithms \n",
    "\n",
    "- Build different classification algorithms using SKLearn\n",
    "\n",
    "- Evaluation and compare the performance of different classification models \n",
    "\n"
   ]
  },
  {
   "cell_type": "markdown",
   "metadata": {
    "id": "VyT3q5fMBbc_"
   },
   "source": [
    "Classification is a sub-category of supervised Machine Learning methods where data points are grouped into classes as output, using a decision boundary to separate each class.\n",
    "In Classification, we predict the category a data point belongs to ie. Classification algorithms are used to predict labels/classes. Examples;\n",
    "* Spam Detection\n",
    "* Churn Prediction\n",
    "* Sentiment Analysis\n",
    "* Dog Breed Detection\n",
    "\n",
    "### TYPES OF CLASSIFICATION TASK\n",
    "\n",
    "* Binary classification eg. e-mail spam detection (1 ->spam; or 0→not spam), biometric identification, whether a customer will default or Not\n",
    "* Multi-class classification eg. digit recognition (where classes go from 0 to 9), predicting a party that wins the election,  \n",
    "\n",
    "<center><img src=\"..\\Images\\class.png\" style=\"width: 800px; height:400px\"/></center>\n",
    "\n",
    "\n",
    "### Types of Classification Algorithms\n",
    "- Logistic Regression         \n",
    "- Naive Bayes Classifier\n",
    "- Nearest Neighbor\t\t\t\n",
    "- Support Vector Machines\n",
    "- Decision Trees\t\t\t\t\n",
    "- Boosted Trees\n",
    "- Random Forest\t            \n"
   ]
  },
  {
   "cell_type": "markdown",
   "metadata": {
    "id": "uKs2uVviBbc_"
   },
   "source": [
    "## The Scikit-learn\n",
    "\n",
    "Scikit-learn is a library in Python that provides many supervised learning and unsupervised algorithms. It’s built upon some of the packages you already familiar with, like NumPy, Pandas, and Matplotlib!\n",
    "\n",
    "The functionality that scikit-learn provides include:\n",
    "\n",
    "- Regression\n",
    "\n",
    "- Classification\n",
    "\n",
    "- Clustering\n",
    "\n",
    "- Model selection\n",
    "\n",
    "- Preprocessing"
   ]
  },
  {
   "cell_type": "markdown",
   "metadata": {
    "id": "dyu8YyzuBbdA"
   },
   "source": [
    "### Installation\n",
    "\n",
    "The easiest way to install scikit-learn is using:\n",
    "\n",
    "`pip install -U scikit-learn`\n",
    "\n",
    "or \n",
    "\n",
    "`conda install -c conda-forge scikit-learn`\n"
   ]
  },
  {
   "cell_type": "markdown",
   "metadata": {
    "id": "mois2HkSBbdA"
   },
   "source": [
    "### Importing Scikit-learn Module\n",
    "\n",
    "\n",
    "Some of the classsification models that can be imported from sklearn library includes:\n",
    "\n",
    "* **Logistic Regression**: `from sklearn.linear_model import LogisticRegression`\n",
    "* **K Nearest Neighbor**: `from sklearn.neighbors import KNeighborsClassifier`\n",
    "* **Support Vector Machine**: `from sklearn.svm import SVC`\n",
    "* **Decision Trees Classifier**: `from sklearn.tree import DecisionTreeClassifier`\n",
    "* **Random Forest Classifier**: `from sklearn.ensemble import RandomForestClassifier`\n",
    "* **Gradient Boost Classifier**: `from sklearn.ensemble import GradientBoostingClassifier`"
   ]
  },
  {
   "cell_type": "markdown",
   "metadata": {
    "id": "89dFQqymBbdA"
   },
   "source": [
    "## Building Classification Machine Learning Model for AXA Mansard Medical Insurance \n",
    "\n",
    "### Problem statement\n",
    "\n",
    "You work as an analyst in the marketing department of a company that provides various medical insurance in Nigeria. Your manager is unhappy with the low sales volume of a specific kind of insurance. The data engeenier provides you with a sample dataset for those that visit the company webiste for medical insurance.\n",
    "\n",
    "The dataset contains the following columns:\n",
    "\n",
    "- User ID\n",
    "- Gender\n",
    "- Age\n",
    "- Salary\n",
    "- Purchase: An indicator of whether the users purchased (1/Positive Class) or not-purchased (0/Negative Class) a particular product.\n",
    "\n",
    "As we must have guessed, this is a binary classification problem, with the postive class being \"Purchased\" and the negative class being \"Not purchased\"."
   ]
  },
  {
   "cell_type": "markdown",
   "metadata": {
    "id": "fZHbFyJEBbdB"
   },
   "source": [
    "In Machine learning, we have something called the **\"No Free Lunch Theorem\"**. Which simply implies that we do not try one single algorithm for a given problem and decide it is the best. We have to choose a class of algorithms(Binary classifiiers in b=this case), then train and predict on each of them, compare performance using the chosen metrics, and choose the best one. Note that one Algorithm is not always the best one across all problems.\n",
    "\n",
    "FOr this problem, We plan to use the following classifiers to predict the classes 'Purchased' or 'not-purchased'.\n",
    "\n",
    "- Logistic regression\n",
    "\n",
    "- Random forest\n",
    "\n",
    "- Naive Bayes\n",
    "\n",
    "- XGBoost\n",
    "\n",
    "- Support Vector Machine"
   ]
  },
  {
   "cell_type": "markdown",
   "metadata": {
    "id": "aIaS9NSyBbdB"
   },
   "source": [
    "### Import Python modules\n",
    "\n",
    "We need to import some packages that will enable us to explore the data and build machine learning models"
   ]
  },
  {
   "cell_type": "code",
   "execution_count": null,
   "metadata": {
    "id": "XPTj1BGeBbdB"
   },
   "outputs": [],
   "source": [
    "#Importing the required libraries\n",
    "import numpy as np #for linear algebra/data preprocessing\n",
    "import pandas as pd #for data preprocessing\n",
    "import matplotlib.pyplot as plt #For visualization\n",
    "import seaborn as sns #for visualization"
   ]
  },
  {
   "cell_type": "markdown",
   "metadata": {
    "id": "BpcByojPLy9P"
   },
   "source": [
    "# Read the Data"
   ]
  },
  {
   "cell_type": "code",
   "execution_count": null,
   "metadata": {
    "id": "dDkvXfEJBbdC",
    "outputId": "82dd5587-2e3d-410b-b5c9-69ec99ca9865"
   },
   "outputs": [
    {
     "data": {
      "text/html": [
       "<div>\n",
       "<style scoped>\n",
       "    .dataframe tbody tr th:only-of-type {\n",
       "        vertical-align: middle;\n",
       "    }\n",
       "\n",
       "    .dataframe tbody tr th {\n",
       "        vertical-align: top;\n",
       "    }\n",
       "\n",
       "    .dataframe thead th {\n",
       "        text-align: right;\n",
       "    }\n",
       "</style>\n",
       "<table border=\"1\" class=\"dataframe\">\n",
       "  <thead>\n",
       "    <tr style=\"text-align: right;\">\n",
       "      <th></th>\n",
       "      <th>User ID</th>\n",
       "      <th>Gender</th>\n",
       "      <th>Age</th>\n",
       "      <th>EstimatedSalary</th>\n",
       "      <th>Purchased</th>\n",
       "    </tr>\n",
       "  </thead>\n",
       "  <tbody>\n",
       "    <tr>\n",
       "      <th>0</th>\n",
       "      <td>15624510</td>\n",
       "      <td>Male</td>\n",
       "      <td>19</td>\n",
       "      <td>19000</td>\n",
       "      <td>not-purchased</td>\n",
       "    </tr>\n",
       "    <tr>\n",
       "      <th>1</th>\n",
       "      <td>15810944</td>\n",
       "      <td>Male</td>\n",
       "      <td>35</td>\n",
       "      <td>20000</td>\n",
       "      <td>not-purchased</td>\n",
       "    </tr>\n",
       "    <tr>\n",
       "      <th>2</th>\n",
       "      <td>15668575</td>\n",
       "      <td>Female</td>\n",
       "      <td>26</td>\n",
       "      <td>43000</td>\n",
       "      <td>not-purchased</td>\n",
       "    </tr>\n",
       "    <tr>\n",
       "      <th>3</th>\n",
       "      <td>15603246</td>\n",
       "      <td>Female</td>\n",
       "      <td>27</td>\n",
       "      <td>57000</td>\n",
       "      <td>not-purchased</td>\n",
       "    </tr>\n",
       "    <tr>\n",
       "      <th>4</th>\n",
       "      <td>15804002</td>\n",
       "      <td>Male</td>\n",
       "      <td>19</td>\n",
       "      <td>76000</td>\n",
       "      <td>not-purchased</td>\n",
       "    </tr>\n",
       "    <tr>\n",
       "      <th>5</th>\n",
       "      <td>15728773</td>\n",
       "      <td>Male</td>\n",
       "      <td>27</td>\n",
       "      <td>58000</td>\n",
       "      <td>not-purchased</td>\n",
       "    </tr>\n",
       "    <tr>\n",
       "      <th>6</th>\n",
       "      <td>15598044</td>\n",
       "      <td>Female</td>\n",
       "      <td>27</td>\n",
       "      <td>84000</td>\n",
       "      <td>not-purchased</td>\n",
       "    </tr>\n",
       "    <tr>\n",
       "      <th>7</th>\n",
       "      <td>15694829</td>\n",
       "      <td>Female</td>\n",
       "      <td>32</td>\n",
       "      <td>150000</td>\n",
       "      <td>purchased</td>\n",
       "    </tr>\n",
       "    <tr>\n",
       "      <th>8</th>\n",
       "      <td>15600575</td>\n",
       "      <td>Male</td>\n",
       "      <td>25</td>\n",
       "      <td>33000</td>\n",
       "      <td>not-purchased</td>\n",
       "    </tr>\n",
       "    <tr>\n",
       "      <th>9</th>\n",
       "      <td>15727311</td>\n",
       "      <td>Female</td>\n",
       "      <td>35</td>\n",
       "      <td>65000</td>\n",
       "      <td>not-purchased</td>\n",
       "    </tr>\n",
       "    <tr>\n",
       "      <th>10</th>\n",
       "      <td>15570769</td>\n",
       "      <td>Female</td>\n",
       "      <td>26</td>\n",
       "      <td>80000</td>\n",
       "      <td>not-purchased</td>\n",
       "    </tr>\n",
       "    <tr>\n",
       "      <th>11</th>\n",
       "      <td>15606274</td>\n",
       "      <td>Female</td>\n",
       "      <td>26</td>\n",
       "      <td>52000</td>\n",
       "      <td>not-purchased</td>\n",
       "    </tr>\n",
       "    <tr>\n",
       "      <th>12</th>\n",
       "      <td>15746139</td>\n",
       "      <td>Male</td>\n",
       "      <td>20</td>\n",
       "      <td>86000</td>\n",
       "      <td>not-purchased</td>\n",
       "    </tr>\n",
       "    <tr>\n",
       "      <th>13</th>\n",
       "      <td>15704987</td>\n",
       "      <td>Male</td>\n",
       "      <td>32</td>\n",
       "      <td>18000</td>\n",
       "      <td>not-purchased</td>\n",
       "    </tr>\n",
       "    <tr>\n",
       "      <th>14</th>\n",
       "      <td>15628972</td>\n",
       "      <td>Male</td>\n",
       "      <td>18</td>\n",
       "      <td>82000</td>\n",
       "      <td>not-purchased</td>\n",
       "    </tr>\n",
       "    <tr>\n",
       "      <th>15</th>\n",
       "      <td>15697686</td>\n",
       "      <td>Male</td>\n",
       "      <td>29</td>\n",
       "      <td>80000</td>\n",
       "      <td>not-purchased</td>\n",
       "    </tr>\n",
       "    <tr>\n",
       "      <th>16</th>\n",
       "      <td>15733883</td>\n",
       "      <td>Male</td>\n",
       "      <td>47</td>\n",
       "      <td>25000</td>\n",
       "      <td>purchased</td>\n",
       "    </tr>\n",
       "    <tr>\n",
       "      <th>17</th>\n",
       "      <td>15617482</td>\n",
       "      <td>Male</td>\n",
       "      <td>45</td>\n",
       "      <td>26000</td>\n",
       "      <td>purchased</td>\n",
       "    </tr>\n",
       "    <tr>\n",
       "      <th>18</th>\n",
       "      <td>15704583</td>\n",
       "      <td>Male</td>\n",
       "      <td>46</td>\n",
       "      <td>28000</td>\n",
       "      <td>purchased</td>\n",
       "    </tr>\n",
       "    <tr>\n",
       "      <th>19</th>\n",
       "      <td>15621083</td>\n",
       "      <td>Female</td>\n",
       "      <td>48</td>\n",
       "      <td>29000</td>\n",
       "      <td>purchased</td>\n",
       "    </tr>\n",
       "  </tbody>\n",
       "</table>\n",
       "</div>"
      ],
      "text/plain": [
       "     User ID  Gender  Age  EstimatedSalary      Purchased\n",
       "0   15624510    Male   19            19000  not-purchased\n",
       "1   15810944    Male   35            20000  not-purchased\n",
       "2   15668575  Female   26            43000  not-purchased\n",
       "3   15603246  Female   27            57000  not-purchased\n",
       "4   15804002    Male   19            76000  not-purchased\n",
       "5   15728773    Male   27            58000  not-purchased\n",
       "6   15598044  Female   27            84000  not-purchased\n",
       "7   15694829  Female   32           150000      purchased\n",
       "8   15600575    Male   25            33000  not-purchased\n",
       "9   15727311  Female   35            65000  not-purchased\n",
       "10  15570769  Female   26            80000  not-purchased\n",
       "11  15606274  Female   26            52000  not-purchased\n",
       "12  15746139    Male   20            86000  not-purchased\n",
       "13  15704987    Male   32            18000  not-purchased\n",
       "14  15628972    Male   18            82000  not-purchased\n",
       "15  15697686    Male   29            80000  not-purchased\n",
       "16  15733883    Male   47            25000      purchased\n",
       "17  15617482    Male   45            26000      purchased\n",
       "18  15704583    Male   46            28000      purchased\n",
       "19  15621083  Female   48            29000      purchased"
      ]
     },
     "execution_count": 2,
     "metadata": {
      "tags": []
     },
     "output_type": "execute_result"
    }
   ],
   "source": [
    "#Reading the data as a  .csv file and checking the first 20 observations\n",
    "insurance = pd.read_csv(\"../Data/Medical_insurance_dataset.csv\")\n",
    "\n",
    "insurance.head(20)"
   ]
  },
  {
   "cell_type": "code",
   "execution_count": null,
   "metadata": {
    "id": "Xj0J9IIWBbdD",
    "outputId": "054b02f8-c71a-4103-e863-c62403b777c9"
   },
   "outputs": [
    {
     "data": {
      "text/plain": [
       "(400, 5)"
      ]
     },
     "execution_count": 3,
     "metadata": {
      "tags": []
     },
     "output_type": "execute_result"
    }
   ],
   "source": [
    "#Checking the shape of the data\n",
    "insurance.shape"
   ]
  },
  {
   "cell_type": "markdown",
   "metadata": {
    "id": "m8Im8v2yBbdD"
   },
   "source": [
    "\n",
    "#Describing the Data and its features\n",
    "We have 5  features and 400 instances/collected examples of those who want to buy medical insurance or not in this data.\n",
    "\n",
    "Among the 5 features, 4 of them are descriptive features of the problem and the last feature is the Target column. The 3 features include `gender`, `age`, and `estimated salary` while the column `purchased` is the label/Target column in this data. Since the label has just two classes or categories (purchased (1) and not-purchased (0)), this is a binary classification problem. \n",
    "\n",
    "\n",
    "\n"
   ]
  },
  {
   "cell_type": "markdown",
   "metadata": {
    "id": "qATRXQNrLeMH"
   },
   "source": [
    "#Dropping a Column/Feature not useful for prediction/Modeling\n",
    "\n",
    "The User ID is a random number generated for every customer that comes to the company for medical insurance. Therefore, it is not useful in prediciting whether the person will buy medical insurance or not. It will hence be removed from the  data, as it is not useful for modeling."
   ]
  },
  {
   "cell_type": "code",
   "execution_count": null,
   "metadata": {
    "id": "S7SjhTNaBbdD"
   },
   "outputs": [],
   "source": [
    "#Dropping User ID column\n",
    "insurance.drop([\"User ID\"], axis= \"columns\", inplace= True)"
   ]
  },
  {
   "cell_type": "code",
   "execution_count": null,
   "metadata": {
    "id": "lTJ912JmBbdE",
    "outputId": "8a16a2b8-34a3-4a3f-fc59-e87e9c830859"
   },
   "outputs": [
    {
     "data": {
      "text/html": [
       "<div>\n",
       "<style scoped>\n",
       "    .dataframe tbody tr th:only-of-type {\n",
       "        vertical-align: middle;\n",
       "    }\n",
       "\n",
       "    .dataframe tbody tr th {\n",
       "        vertical-align: top;\n",
       "    }\n",
       "\n",
       "    .dataframe thead th {\n",
       "        text-align: right;\n",
       "    }\n",
       "</style>\n",
       "<table border=\"1\" class=\"dataframe\">\n",
       "  <thead>\n",
       "    <tr style=\"text-align: right;\">\n",
       "      <th></th>\n",
       "      <th>Gender</th>\n",
       "      <th>Age</th>\n",
       "      <th>EstimatedSalary</th>\n",
       "      <th>Purchased</th>\n",
       "    </tr>\n",
       "  </thead>\n",
       "  <tbody>\n",
       "    <tr>\n",
       "      <th>0</th>\n",
       "      <td>Male</td>\n",
       "      <td>19</td>\n",
       "      <td>19000</td>\n",
       "      <td>not-purchased</td>\n",
       "    </tr>\n",
       "    <tr>\n",
       "      <th>1</th>\n",
       "      <td>Male</td>\n",
       "      <td>35</td>\n",
       "      <td>20000</td>\n",
       "      <td>not-purchased</td>\n",
       "    </tr>\n",
       "    <tr>\n",
       "      <th>2</th>\n",
       "      <td>Female</td>\n",
       "      <td>26</td>\n",
       "      <td>43000</td>\n",
       "      <td>not-purchased</td>\n",
       "    </tr>\n",
       "    <tr>\n",
       "      <th>3</th>\n",
       "      <td>Female</td>\n",
       "      <td>27</td>\n",
       "      <td>57000</td>\n",
       "      <td>not-purchased</td>\n",
       "    </tr>\n",
       "    <tr>\n",
       "      <th>4</th>\n",
       "      <td>Male</td>\n",
       "      <td>19</td>\n",
       "      <td>76000</td>\n",
       "      <td>not-purchased</td>\n",
       "    </tr>\n",
       "    <tr>\n",
       "      <th>5</th>\n",
       "      <td>Male</td>\n",
       "      <td>27</td>\n",
       "      <td>58000</td>\n",
       "      <td>not-purchased</td>\n",
       "    </tr>\n",
       "    <tr>\n",
       "      <th>6</th>\n",
       "      <td>Female</td>\n",
       "      <td>27</td>\n",
       "      <td>84000</td>\n",
       "      <td>not-purchased</td>\n",
       "    </tr>\n",
       "    <tr>\n",
       "      <th>7</th>\n",
       "      <td>Female</td>\n",
       "      <td>32</td>\n",
       "      <td>150000</td>\n",
       "      <td>purchased</td>\n",
       "    </tr>\n",
       "    <tr>\n",
       "      <th>8</th>\n",
       "      <td>Male</td>\n",
       "      <td>25</td>\n",
       "      <td>33000</td>\n",
       "      <td>not-purchased</td>\n",
       "    </tr>\n",
       "    <tr>\n",
       "      <th>9</th>\n",
       "      <td>Female</td>\n",
       "      <td>35</td>\n",
       "      <td>65000</td>\n",
       "      <td>not-purchased</td>\n",
       "    </tr>\n",
       "    <tr>\n",
       "      <th>10</th>\n",
       "      <td>Female</td>\n",
       "      <td>26</td>\n",
       "      <td>80000</td>\n",
       "      <td>not-purchased</td>\n",
       "    </tr>\n",
       "    <tr>\n",
       "      <th>11</th>\n",
       "      <td>Female</td>\n",
       "      <td>26</td>\n",
       "      <td>52000</td>\n",
       "      <td>not-purchased</td>\n",
       "    </tr>\n",
       "    <tr>\n",
       "      <th>12</th>\n",
       "      <td>Male</td>\n",
       "      <td>20</td>\n",
       "      <td>86000</td>\n",
       "      <td>not-purchased</td>\n",
       "    </tr>\n",
       "    <tr>\n",
       "      <th>13</th>\n",
       "      <td>Male</td>\n",
       "      <td>32</td>\n",
       "      <td>18000</td>\n",
       "      <td>not-purchased</td>\n",
       "    </tr>\n",
       "    <tr>\n",
       "      <th>14</th>\n",
       "      <td>Male</td>\n",
       "      <td>18</td>\n",
       "      <td>82000</td>\n",
       "      <td>not-purchased</td>\n",
       "    </tr>\n",
       "    <tr>\n",
       "      <th>15</th>\n",
       "      <td>Male</td>\n",
       "      <td>29</td>\n",
       "      <td>80000</td>\n",
       "      <td>not-purchased</td>\n",
       "    </tr>\n",
       "    <tr>\n",
       "      <th>16</th>\n",
       "      <td>Male</td>\n",
       "      <td>47</td>\n",
       "      <td>25000</td>\n",
       "      <td>purchased</td>\n",
       "    </tr>\n",
       "    <tr>\n",
       "      <th>17</th>\n",
       "      <td>Male</td>\n",
       "      <td>45</td>\n",
       "      <td>26000</td>\n",
       "      <td>purchased</td>\n",
       "    </tr>\n",
       "    <tr>\n",
       "      <th>18</th>\n",
       "      <td>Male</td>\n",
       "      <td>46</td>\n",
       "      <td>28000</td>\n",
       "      <td>purchased</td>\n",
       "    </tr>\n",
       "    <tr>\n",
       "      <th>19</th>\n",
       "      <td>Female</td>\n",
       "      <td>48</td>\n",
       "      <td>29000</td>\n",
       "      <td>purchased</td>\n",
       "    </tr>\n",
       "  </tbody>\n",
       "</table>\n",
       "</div>"
      ],
      "text/plain": [
       "    Gender  Age  EstimatedSalary      Purchased\n",
       "0     Male   19            19000  not-purchased\n",
       "1     Male   35            20000  not-purchased\n",
       "2   Female   26            43000  not-purchased\n",
       "3   Female   27            57000  not-purchased\n",
       "4     Male   19            76000  not-purchased\n",
       "5     Male   27            58000  not-purchased\n",
       "6   Female   27            84000  not-purchased\n",
       "7   Female   32           150000      purchased\n",
       "8     Male   25            33000  not-purchased\n",
       "9   Female   35            65000  not-purchased\n",
       "10  Female   26            80000  not-purchased\n",
       "11  Female   26            52000  not-purchased\n",
       "12    Male   20            86000  not-purchased\n",
       "13    Male   32            18000  not-purchased\n",
       "14    Male   18            82000  not-purchased\n",
       "15    Male   29            80000  not-purchased\n",
       "16    Male   47            25000      purchased\n",
       "17    Male   45            26000      purchased\n",
       "18    Male   46            28000      purchased\n",
       "19  Female   48            29000      purchased"
      ]
     },
     "execution_count": 5,
     "metadata": {
      "tags": []
     },
     "output_type": "execute_result"
    }
   ],
   "source": [
    "insurance.head(20)"
   ]
  },
  {
   "cell_type": "markdown",
   "metadata": {
    "id": "GoQcrQM-BbdE"
   },
   "source": [
    "Next, we transform or Encode the Target column 'Purchased' to discrete values $1$ representing purchased and $0$ representing \"not-purchased\".This will transform the output variable (label) to be numeric values, which is important for a machine learning model."
   ]
  },
  {
   "cell_type": "code",
   "execution_count": null,
   "metadata": {
    "id": "kpU6a-FoBbdE"
   },
   "outputs": [],
   "source": [
    "#Mapping the values 1 and to transform the target column\n",
    "insurance[\"Purchased\"] = insurance[\"Purchased\"].apply(lambda x: 1 if x == \"purchased\" else 0)"
   ]
  },
  {
   "cell_type": "code",
   "execution_count": null,
   "metadata": {
    "id": "q7XvydWtBbdE",
    "outputId": "98ca1f7b-9b47-4644-90cc-64295ccefebe"
   },
   "outputs": [
    {
     "data": {
      "text/html": [
       "<div>\n",
       "<style scoped>\n",
       "    .dataframe tbody tr th:only-of-type {\n",
       "        vertical-align: middle;\n",
       "    }\n",
       "\n",
       "    .dataframe tbody tr th {\n",
       "        vertical-align: top;\n",
       "    }\n",
       "\n",
       "    .dataframe thead th {\n",
       "        text-align: right;\n",
       "    }\n",
       "</style>\n",
       "<table border=\"1\" class=\"dataframe\">\n",
       "  <thead>\n",
       "    <tr style=\"text-align: right;\">\n",
       "      <th></th>\n",
       "      <th>Gender</th>\n",
       "      <th>Age</th>\n",
       "      <th>EstimatedSalary</th>\n",
       "      <th>Purchased</th>\n",
       "    </tr>\n",
       "  </thead>\n",
       "  <tbody>\n",
       "    <tr>\n",
       "      <th>0</th>\n",
       "      <td>Male</td>\n",
       "      <td>19</td>\n",
       "      <td>19000</td>\n",
       "      <td>0</td>\n",
       "    </tr>\n",
       "    <tr>\n",
       "      <th>1</th>\n",
       "      <td>Male</td>\n",
       "      <td>35</td>\n",
       "      <td>20000</td>\n",
       "      <td>0</td>\n",
       "    </tr>\n",
       "    <tr>\n",
       "      <th>2</th>\n",
       "      <td>Female</td>\n",
       "      <td>26</td>\n",
       "      <td>43000</td>\n",
       "      <td>0</td>\n",
       "    </tr>\n",
       "    <tr>\n",
       "      <th>3</th>\n",
       "      <td>Female</td>\n",
       "      <td>27</td>\n",
       "      <td>57000</td>\n",
       "      <td>0</td>\n",
       "    </tr>\n",
       "    <tr>\n",
       "      <th>4</th>\n",
       "      <td>Male</td>\n",
       "      <td>19</td>\n",
       "      <td>76000</td>\n",
       "      <td>0</td>\n",
       "    </tr>\n",
       "    <tr>\n",
       "      <th>5</th>\n",
       "      <td>Male</td>\n",
       "      <td>27</td>\n",
       "      <td>58000</td>\n",
       "      <td>0</td>\n",
       "    </tr>\n",
       "    <tr>\n",
       "      <th>6</th>\n",
       "      <td>Female</td>\n",
       "      <td>27</td>\n",
       "      <td>84000</td>\n",
       "      <td>0</td>\n",
       "    </tr>\n",
       "    <tr>\n",
       "      <th>7</th>\n",
       "      <td>Female</td>\n",
       "      <td>32</td>\n",
       "      <td>150000</td>\n",
       "      <td>1</td>\n",
       "    </tr>\n",
       "    <tr>\n",
       "      <th>8</th>\n",
       "      <td>Male</td>\n",
       "      <td>25</td>\n",
       "      <td>33000</td>\n",
       "      <td>0</td>\n",
       "    </tr>\n",
       "    <tr>\n",
       "      <th>9</th>\n",
       "      <td>Female</td>\n",
       "      <td>35</td>\n",
       "      <td>65000</td>\n",
       "      <td>0</td>\n",
       "    </tr>\n",
       "  </tbody>\n",
       "</table>\n",
       "</div>"
      ],
      "text/plain": [
       "   Gender  Age  EstimatedSalary  Purchased\n",
       "0    Male   19            19000          0\n",
       "1    Male   35            20000          0\n",
       "2  Female   26            43000          0\n",
       "3  Female   27            57000          0\n",
       "4    Male   19            76000          0\n",
       "5    Male   27            58000          0\n",
       "6  Female   27            84000          0\n",
       "7  Female   32           150000          1\n",
       "8    Male   25            33000          0\n",
       "9  Female   35            65000          0"
      ]
     },
     "execution_count": 7,
     "metadata": {
      "tags": []
     },
     "output_type": "execute_result"
    }
   ],
   "source": [
    "#Reading the data again\n",
    "insurance.head(10)"
   ]
  },
  {
   "cell_type": "markdown",
   "metadata": {
    "id": "Gpo-t850BbdF"
   },
   "source": [
    "# Exploratory Data Analysis\n",
    "\n",
    "Fact generated by data exploratory will help us to know those features that can predict whether a person will purhcase medical insurance or not. Let us start by visualizing the proportion of those that want to buy medical insurance or not."
   ]
  },
  {
   "cell_type": "code",
   "execution_count": null,
   "metadata": {
    "id": "7KmBioi7BbdF",
    "outputId": "80e1a710-d8b4-4c72-8b07-1e9d65dea7bb"
   },
   "outputs": [
    {
     "data": {
      "image/png": "[encoded data removed]",
      "text/plain": [
       "<Figure size 432x288 with 1 Axes>"
      ]
     },
     "metadata": {
      "needs_background": "light",
      "tags": []
     },
     "output_type": "display_data"
    }
   ],
   "source": [
    "sns.countplot(x = \"Purchased\", data = insurance);"
   ]
  },
  {
   "cell_type": "markdown",
   "metadata": {
    "id": "0SMmkbATBbdG"
   },
   "source": [
    "As you can see, majority of those that visit the medical insurance company did not want to buy the insurance. This is an example of class imbalanced. That is, there is no equal of proportion of those that will buy or not."
   ]
  },
  {
   "cell_type": "code",
   "execution_count": null,
   "metadata": {
    "id": "dSU5bplpBbdG",
    "outputId": "0aa62c53-fe5a-4f8e-bb01-3499a8d3ed2a"
   },
   "outputs": [
    {
     "data": {
      "image/png": "[encoded data removed]",
      "text/plain": [
       "<Figure size 432x288 with 1 Axes>"
      ]
     },
     "metadata": {
      "needs_background": "light",
      "tags": []
     },
     "output_type": "display_data"
    }
   ],
   "source": [
    "sns.countplot(x = \"Gender\", data = insurance);"
   ]
  },
  {
   "cell_type": "markdown",
   "metadata": {
    "id": "VH1Tm8hGBbdG"
   },
   "source": [
    "The proportion of males are almost the same as females."
   ]
  },
  {
   "cell_type": "code",
   "execution_count": null,
   "metadata": {
    "id": "D9EKMg00BbdG",
    "outputId": "ea0cb010-93dd-4925-d1a5-0035940daad9"
   },
   "outputs": [
    {
     "data": {
      "image/png": "[encoded data removed]",
      "text/plain": [
       "<Figure size 432x288 with 1 Axes>"
      ]
     },
     "metadata": {
      "needs_background": "light",
      "tags": []
     },
     "output_type": "display_data"
    }
   ],
   "source": [
    "sns.countplot(x = \"Gender\" , hue = \"Purchased\", data = insurance);"
   ]
  },
  {
   "cell_type": "markdown",
   "metadata": {
    "id": "TistkJ_cBbdH"
   },
   "source": [
    "It seems that females wanted to purchase the insurance when compare with males."
   ]
  },
  {
   "cell_type": "code",
   "execution_count": null,
   "metadata": {
    "id": "3DsCJPQyBbdH",
    "outputId": "b602377c-e709-4479-af1d-55e71eab4177"
   },
   "outputs": [
    {
     "data": {
      "image/png": "[encoded data removed]",
      "text/plain": [
       "<Figure size 432x288 with 1 Axes>"
      ]
     },
     "metadata": {
      "needs_background": "light",
      "tags": []
     },
     "output_type": "display_data"
    }
   ],
   "source": [
    "sns.boxplot(x = \"Purchased\", y = \"Age\", data = insurance);"
   ]
  },
  {
   "cell_type": "markdown",
   "metadata": {
    "id": "gpWN3m4WBbdH"
   },
   "source": [
    "From the look of things, other people purchased the insurance compared with the younger people."
   ]
  },
  {
   "cell_type": "code",
   "execution_count": null,
   "metadata": {
    "id": "y60556hlBbdH",
    "outputId": "84f18ae1-def4-46bc-c972-905cd4ecf2ff"
   },
   "outputs": [
    {
     "data": {
      "image/png": "[encoded data removed]",
      "text/plain": [
       "<Figure size 432x288 with 1 Axes>"
      ]
     },
     "metadata": {
      "needs_background": "light",
      "tags": []
     },
     "output_type": "display_data"
    }
   ],
   "source": [
    "sns.boxplot(x = \"Purchased\", y = \"EstimatedSalary\", data = insurance);"
   ]
  },
  {
   "cell_type": "markdown",
   "metadata": {
    "id": "k28vKelKBbdH"
   },
   "source": [
    "People that earned higher salary purchased the insurance while those that earned low did not purchase the insurance. Of course, it is expected you purchase a medical insurance when you have money."
   ]
  },
  {
   "cell_type": "markdown",
   "metadata": {
    "id": "Rz_plGUNBbdI"
   },
   "source": [
    "## Model building"
   ]
  },
  {
   "cell_type": "markdown",
   "metadata": {
    "id": "l1y1rlXwBbdI"
   },
   "source": [
    "- Importing machine learning models"
   ]
  },
  {
   "cell_type": "code",
   "execution_count": null,
   "metadata": {
    "id": "a8NYxlR0BbdI"
   },
   "outputs": [],
   "source": [
    "from sklearn import metrics # Module For evaluation metrics\n",
    "from sklearn.model_selection import train_test_split # Module for splitting the data"
   ]
  },
  {
   "cell_type": "markdown",
   "metadata": {
    "id": "NdgLY2bTBbdI"
   },
   "source": [
    "## Preparing the Data for modeling\n",
    "- Separating features and the label from the data"
   ]
  },
  {
   "cell_type": "markdown",
   "metadata": {
    "id": "XTUVHKrRBbdI"
   },
   "source": [
    "Now is the time to build machine learning models for the task of predicting whether the customers will buy medical insurance or not. Therefore, we shall separate the set of features (X) from the label (Y)."
   ]
  },
  {
   "cell_type": "code",
   "execution_count": null,
   "metadata": {
    "id": "9q_8taP3BbdI"
   },
   "outputs": [],
   "source": [
    "# split data into features and target\n",
    "\n",
    "X = insurance.drop([\"Purchased\"], axis= \"columns\") # droping the label variable (Purchased) from the data\n",
    "\n",
    "y = insurance[\"Purchased\"]"
   ]
  },
  {
   "cell_type": "code",
   "execution_count": null,
   "metadata": {
    "id": "ExOqBlSYBbdJ",
    "outputId": "417a121c-5662-46bc-a84f-43e0aa14084d"
   },
   "outputs": [
    {
     "data": {
      "text/html": [
       "<div>\n",
       "<style scoped>\n",
       "    .dataframe tbody tr th:only-of-type {\n",
       "        vertical-align: middle;\n",
       "    }\n",
       "\n",
       "    .dataframe tbody tr th {\n",
       "        vertical-align: top;\n",
       "    }\n",
       "\n",
       "    .dataframe thead th {\n",
       "        text-align: right;\n",
       "    }\n",
       "</style>\n",
       "<table border=\"1\" class=\"dataframe\">\n",
       "  <thead>\n",
       "    <tr style=\"text-align: right;\">\n",
       "      <th></th>\n",
       "      <th>Gender</th>\n",
       "      <th>Age</th>\n",
       "      <th>EstimatedSalary</th>\n",
       "    </tr>\n",
       "  </thead>\n",
       "  <tbody>\n",
       "    <tr>\n",
       "      <th>0</th>\n",
       "      <td>Male</td>\n",
       "      <td>19</td>\n",
       "      <td>19000</td>\n",
       "    </tr>\n",
       "    <tr>\n",
       "      <th>1</th>\n",
       "      <td>Male</td>\n",
       "      <td>35</td>\n",
       "      <td>20000</td>\n",
       "    </tr>\n",
       "    <tr>\n",
       "      <th>2</th>\n",
       "      <td>Female</td>\n",
       "      <td>26</td>\n",
       "      <td>43000</td>\n",
       "    </tr>\n",
       "    <tr>\n",
       "      <th>3</th>\n",
       "      <td>Female</td>\n",
       "      <td>27</td>\n",
       "      <td>57000</td>\n",
       "    </tr>\n",
       "    <tr>\n",
       "      <th>4</th>\n",
       "      <td>Male</td>\n",
       "      <td>19</td>\n",
       "      <td>76000</td>\n",
       "    </tr>\n",
       "  </tbody>\n",
       "</table>\n",
       "</div>"
      ],
      "text/plain": [
       "   Gender  Age  EstimatedSalary\n",
       "0    Male   19            19000\n",
       "1    Male   35            20000\n",
       "2  Female   26            43000\n",
       "3  Female   27            57000\n",
       "4    Male   19            76000"
      ]
     },
     "execution_count": 15,
     "metadata": {
      "tags": []
     },
     "output_type": "execute_result"
    }
   ],
   "source": [
    "X.head()"
   ]
  },
  {
   "cell_type": "code",
   "execution_count": null,
   "metadata": {
    "id": "vsTYXNchBbdJ",
    "outputId": "b4728dee-a813-4b11-e4f9-383768a75cdb"
   },
   "outputs": [
    {
     "data": {
      "text/plain": [
       "0    0\n",
       "1    0\n",
       "2    0\n",
       "3    0\n",
       "4    0\n",
       "Name: Purchased, dtype: int64"
      ]
     },
     "execution_count": 16,
     "metadata": {
      "tags": []
     },
     "output_type": "execute_result"
    }
   ],
   "source": [
    "y.head()"
   ]
  },
  {
   "cell_type": "markdown",
   "metadata": {
    "id": "XElDfm2ABbdJ"
   },
   "source": [
    "- One-hot encoding"
   ]
  },
  {
   "cell_type": "markdown",
   "metadata": {
    "id": "g28sE9YdBbdJ"
   },
   "source": [
    "As dicussed in Part 3, we need to create a one-hot encoding for all the categorical features in the data because some algorithms cannot work with categorical data directly. They require all input variables and output variables to be numeric. In this case, we will create a one-hot encoding for the gender feature by using `pd.get_dummies()`."
   ]
  },
  {
   "cell_type": "code",
   "execution_count": null,
   "metadata": {
    "id": "Hl3ozL7NBbdJ",
    "outputId": "8e70a1a1-0c65-4947-c835-ffaea6b50195"
   },
   "outputs": [
    {
     "data": {
      "text/html": [
       "<div>\n",
       "<style scoped>\n",
       "    .dataframe tbody tr th:only-of-type {\n",
       "        vertical-align: middle;\n",
       "    }\n",
       "\n",
       "    .dataframe tbody tr th {\n",
       "        vertical-align: top;\n",
       "    }\n",
       "\n",
       "    .dataframe thead th {\n",
       "        text-align: right;\n",
       "    }\n",
       "</style>\n",
       "<table border=\"1\" class=\"dataframe\">\n",
       "  <thead>\n",
       "    <tr style=\"text-align: right;\">\n",
       "      <th></th>\n",
       "      <th>Female</th>\n",
       "      <th>Male</th>\n",
       "    </tr>\n",
       "  </thead>\n",
       "  <tbody>\n",
       "    <tr>\n",
       "      <th>0</th>\n",
       "      <td>0</td>\n",
       "      <td>1</td>\n",
       "    </tr>\n",
       "    <tr>\n",
       "      <th>1</th>\n",
       "      <td>0</td>\n",
       "      <td>1</td>\n",
       "    </tr>\n",
       "    <tr>\n",
       "      <th>2</th>\n",
       "      <td>1</td>\n",
       "      <td>0</td>\n",
       "    </tr>\n",
       "    <tr>\n",
       "      <th>3</th>\n",
       "      <td>1</td>\n",
       "      <td>0</td>\n",
       "    </tr>\n",
       "    <tr>\n",
       "      <th>4</th>\n",
       "      <td>0</td>\n",
       "      <td>1</td>\n",
       "    </tr>\n",
       "    <tr>\n",
       "      <th>...</th>\n",
       "      <td>...</td>\n",
       "      <td>...</td>\n",
       "    </tr>\n",
       "    <tr>\n",
       "      <th>395</th>\n",
       "      <td>1</td>\n",
       "      <td>0</td>\n",
       "    </tr>\n",
       "    <tr>\n",
       "      <th>396</th>\n",
       "      <td>0</td>\n",
       "      <td>1</td>\n",
       "    </tr>\n",
       "    <tr>\n",
       "      <th>397</th>\n",
       "      <td>1</td>\n",
       "      <td>0</td>\n",
       "    </tr>\n",
       "    <tr>\n",
       "      <th>398</th>\n",
       "      <td>0</td>\n",
       "      <td>1</td>\n",
       "    </tr>\n",
       "    <tr>\n",
       "      <th>399</th>\n",
       "      <td>1</td>\n",
       "      <td>0</td>\n",
       "    </tr>\n",
       "  </tbody>\n",
       "</table>\n",
       "<p>400 rows × 2 columns</p>\n",
       "</div>"
      ],
      "text/plain": [
       "     Female  Male\n",
       "0         0     1\n",
       "1         0     1\n",
       "2         1     0\n",
       "3         1     0\n",
       "4         0     1\n",
       "..      ...   ...\n",
       "395       1     0\n",
       "396       0     1\n",
       "397       1     0\n",
       "398       0     1\n",
       "399       1     0\n",
       "\n",
       "[400 rows x 2 columns]"
      ]
     },
     "execution_count": 17,
     "metadata": {
      "tags": []
     },
     "output_type": "execute_result"
    }
   ],
   "source": [
    "pd.get_dummies(insurance[\"Gender\"])"
   ]
  },
  {
   "cell_type": "markdown",
   "metadata": {
    "id": "kPxeHU6QBbdK"
   },
   "source": [
    "In fact, `pd.get_dummies()` is very powerful to actually locate the categorical features and create a one-hot encoding for them. For example:"
   ]
  },
  {
   "cell_type": "code",
   "execution_count": null,
   "metadata": {
    "id": "sf7Bc6PgBbdK",
    "outputId": "798e7e8b-b334-490f-ea0d-a7128701e0cd"
   },
   "outputs": [
    {
     "data": {
      "text/html": [
       "<div>\n",
       "<style scoped>\n",
       "    .dataframe tbody tr th:only-of-type {\n",
       "        vertical-align: middle;\n",
       "    }\n",
       "\n",
       "    .dataframe tbody tr th {\n",
       "        vertical-align: top;\n",
       "    }\n",
       "\n",
       "    .dataframe thead th {\n",
       "        text-align: right;\n",
       "    }\n",
       "</style>\n",
       "<table border=\"1\" class=\"dataframe\">\n",
       "  <thead>\n",
       "    <tr style=\"text-align: right;\">\n",
       "      <th></th>\n",
       "      <th>Age</th>\n",
       "      <th>EstimatedSalary</th>\n",
       "      <th>Gender_Female</th>\n",
       "      <th>Gender_Male</th>\n",
       "    </tr>\n",
       "  </thead>\n",
       "  <tbody>\n",
       "    <tr>\n",
       "      <th>0</th>\n",
       "      <td>19</td>\n",
       "      <td>19000</td>\n",
       "      <td>0</td>\n",
       "      <td>1</td>\n",
       "    </tr>\n",
       "    <tr>\n",
       "      <th>1</th>\n",
       "      <td>35</td>\n",
       "      <td>20000</td>\n",
       "      <td>0</td>\n",
       "      <td>1</td>\n",
       "    </tr>\n",
       "    <tr>\n",
       "      <th>2</th>\n",
       "      <td>26</td>\n",
       "      <td>43000</td>\n",
       "      <td>1</td>\n",
       "      <td>0</td>\n",
       "    </tr>\n",
       "    <tr>\n",
       "      <th>3</th>\n",
       "      <td>27</td>\n",
       "      <td>57000</td>\n",
       "      <td>1</td>\n",
       "      <td>0</td>\n",
       "    </tr>\n",
       "    <tr>\n",
       "      <th>4</th>\n",
       "      <td>19</td>\n",
       "      <td>76000</td>\n",
       "      <td>0</td>\n",
       "      <td>1</td>\n",
       "    </tr>\n",
       "    <tr>\n",
       "      <th>...</th>\n",
       "      <td>...</td>\n",
       "      <td>...</td>\n",
       "      <td>...</td>\n",
       "      <td>...</td>\n",
       "    </tr>\n",
       "    <tr>\n",
       "      <th>395</th>\n",
       "      <td>46</td>\n",
       "      <td>41000</td>\n",
       "      <td>1</td>\n",
       "      <td>0</td>\n",
       "    </tr>\n",
       "    <tr>\n",
       "      <th>396</th>\n",
       "      <td>51</td>\n",
       "      <td>23000</td>\n",
       "      <td>0</td>\n",
       "      <td>1</td>\n",
       "    </tr>\n",
       "    <tr>\n",
       "      <th>397</th>\n",
       "      <td>50</td>\n",
       "      <td>20000</td>\n",
       "      <td>1</td>\n",
       "      <td>0</td>\n",
       "    </tr>\n",
       "    <tr>\n",
       "      <th>398</th>\n",
       "      <td>36</td>\n",
       "      <td>33000</td>\n",
       "      <td>0</td>\n",
       "      <td>1</td>\n",
       "    </tr>\n",
       "    <tr>\n",
       "      <th>399</th>\n",
       "      <td>49</td>\n",
       "      <td>36000</td>\n",
       "      <td>1</td>\n",
       "      <td>0</td>\n",
       "    </tr>\n",
       "  </tbody>\n",
       "</table>\n",
       "<p>400 rows × 4 columns</p>\n",
       "</div>"
      ],
      "text/plain": [
       "     Age  EstimatedSalary  Gender_Female  Gender_Male\n",
       "0     19            19000              0            1\n",
       "1     35            20000              0            1\n",
       "2     26            43000              1            0\n",
       "3     27            57000              1            0\n",
       "4     19            76000              0            1\n",
       "..   ...              ...            ...          ...\n",
       "395   46            41000              1            0\n",
       "396   51            23000              0            1\n",
       "397   50            20000              1            0\n",
       "398   36            33000              0            1\n",
       "399   49            36000              1            0\n",
       "\n",
       "[400 rows x 4 columns]"
      ]
     },
     "execution_count": 18,
     "metadata": {
      "tags": []
     },
     "output_type": "execute_result"
    }
   ],
   "source": [
    "pd.get_dummies(X)"
   ]
  },
  {
   "cell_type": "markdown",
   "metadata": {
    "id": "r6Bd5CEyBbdK"
   },
   "source": [
    "We now save this result of one-hot encoding into X."
   ]
  },
  {
   "cell_type": "code",
   "execution_count": null,
   "metadata": {
    "id": "cmBDDzZXBbdK"
   },
   "outputs": [],
   "source": [
    "X = pd.get_dummies(X)"
   ]
  },
  {
   "cell_type": "markdown",
   "metadata": {
    "id": "EIYCf6d3BbdK"
   },
   "source": [
    "- Split the data into training and test set"
   ]
  },
  {
   "cell_type": "markdown",
   "metadata": {
    "id": "jbspJXJNBbdK"
   },
   "source": [
    "As discussed in A, We will split our dataset (Features (X) and Label (Y)) into training and test data by using `train_test_split()` function from the sklearn. The training set will be $80\\%$ while the test set will be $20\\%$. The `random_state` that is set to 1234 is for all of us to have the same set of data."
   ]
  },
  {
   "cell_type": "code",
   "execution_count": null,
   "metadata": {
    "id": "VdollSU8BbdL"
   },
   "outputs": [],
   "source": [
    "X_train, X_test, y_train, y_test = train_test_split(X, y, test_size = 0.2, random_state= 1234)"
   ]
  },
  {
   "cell_type": "markdown",
   "metadata": {
    "id": "a9SgxfViBbdL"
   },
   "source": [
    "We now have the pair of training data `(X_train, y_train)` and test data `(X_test, y_test)`"
   ]
  },
  {
   "cell_type": "markdown",
   "metadata": {
    "id": "0oz2D_w6BbdL"
   },
   "source": [
    "- Model training\n",
    "\n",
    "We will use the training data to build the model and then use test data to make prediction and evaluation respectively.\n",
    "\n",
    "## Logistic regression"
   ]
  },
  {
   "cell_type": "markdown",
   "metadata": {
    "id": "lQ_01I8JBbdL"
   },
   "source": [
    "Let's train a Logistic regression model with our training data. We need to import the Logistic regression from the sklearn model"
   ]
  },
  {
   "cell_type": "code",
   "execution_count": null,
   "metadata": {
    "id": "HJQ7dsxlBbdL"
   },
   "outputs": [],
   "source": [
    "# Fitting Logistic Regression to the Training set\n",
    "from sklearn.linear_model import LogisticRegression"
   ]
  },
  {
   "cell_type": "markdown",
   "metadata": {
    "id": "buinEW4VBbdL"
   },
   "source": [
    "We now create an object of class `LogisticRegression()` to train the model on"
   ]
  },
  {
   "cell_type": "code",
   "execution_count": null,
   "metadata": {
    "id": "fEtxVcshBbdL",
    "outputId": "8e4124e1-8bec-4d5f-b513-aa315860e5a0"
   },
   "outputs": [
    {
     "data": {
      "text/plain": [
       "LogisticRegression()"
      ]
     },
     "execution_count": 23,
     "metadata": {
      "tags": []
     },
     "output_type": "execute_result"
    }
   ],
   "source": [
    "#Instance for the logistiv regression model\n",
    "logisticmodel = LogisticRegression()\n",
    "\n",
    "logisticmodel.fit(X_train, y_train) #Fitting the train set"
   ]
  },
  {
   "cell_type": "markdown",
   "metadata": {
    "id": "rjMJfAXzBbdM"
   },
   "source": [
    "`logisticmodel.fit` trained the Logistic regression model. The model is now ready to make prediction for the unknown label by using only the features from the test data (`X_test`)."
   ]
  },
  {
   "cell_type": "code",
   "execution_count": null,
   "metadata": {
    "id": "ue3iMYrIBbdM",
    "outputId": "bb9a3305-d711-43a7-fe71-bc74cec96be8"
   },
   "outputs": [
    {
     "data": {
      "text/plain": [
       "array([0, 0, 0, 0, 0, 0, 0, 0, 0, 0, 0, 0, 0, 0, 0, 0, 0, 0, 0, 0, 0, 0,\n",
       "       0, 0, 0, 0, 0, 0, 0, 0, 0, 0, 0, 0, 0, 0, 0, 0, 0, 0, 0, 0, 0, 0,\n",
       "       0, 0, 0, 0, 0, 0, 0, 0, 0, 0, 0, 0, 0, 0, 0, 0, 0, 0, 0, 0, 0, 0,\n",
       "       0, 0, 0, 0, 0, 0, 0, 0, 0, 0, 0, 0, 0, 0], dtype=int64)"
      ]
     },
     "execution_count": 24,
     "metadata": {
      "tags": []
     },
     "output_type": "execute_result"
    }
   ],
   "source": [
    "logisticmodel.predict(X_test)"
   ]
  },
  {
   "cell_type": "markdown",
   "metadata": {
    "id": "3Q_60MxHBbdM"
   },
   "source": [
    "Let's save the prediction result into `logistic_prediction`. This is what the model predicted for us."
   ]
  },
  {
   "cell_type": "code",
   "execution_count": null,
   "metadata": {
    "id": "tnIFhmb5BbdM"
   },
   "outputs": [],
   "source": [
    "#Making a prediction\n",
    "logistic_prediction = logisticmodel.predict(X_test)"
   ]
  },
  {
   "cell_type": "markdown",
   "metadata": {
    "id": "eVTq0Z_SBbdM"
   },
   "source": [
    "- Model evaluation"
   ]
  },
  {
   "cell_type": "markdown",
   "metadata": {
    "id": "6s0m-UYDBbdM"
   },
   "source": [
    "Since we know the true label in the test set (i.e. `y_test`), we can compare this prediction with it, hence evaluate the logistic model. I have created a function that will help you visualize a confusion matrix for the logistic model and you can call on it henceforth to check the performance of any model."
   ]
  },
  {
   "cell_type": "code",
   "execution_count": null,
   "metadata": {
    "id": "QADACZ3vBbdN"
   },
   "outputs": [],
   "source": [
    "def ConfusionMatrix(ytest, ypred, label = [\"Negative\", \"Positive\"]):\n",
    "    \"A beautiful confusion matrix function to check the model performance\"\n",
    "    from sklearn.metrics import confusion_matrix\n",
    "    import seaborn as sns\n",
    "    cm = confusion_matrix(ytest, ypred)\n",
    "    plt.figure(figsize=(7, 5))\n",
    "    sns.heatmap(cm, annot = True, cbar = False, fmt = 'd', cmap = 'winter')\n",
    "    plt.xlabel('Predicted', fontsize = 13)\n",
    "    plt.xticks([0.5, 1.5], label)\n",
    "    plt.yticks([0.5, 1.5], label)\n",
    "    plt.ylabel('Truth', fontsize = 13)\n",
    "    plt.title('A confusion matrix');"
   ]
  },
  {
   "cell_type": "markdown",
   "metadata": {
    "id": "_S65CpcXBbdN"
   },
   "source": [
    "By using the `ConfusionMatrix()` function, we have:"
   ]
  },
  {
   "cell_type": "code",
   "execution_count": null,
   "metadata": {
    "id": "45DcIgFrBbdN",
    "outputId": "947ff79b-4e2e-4fdf-ec12-cfa2a497e169"
   },
   "outputs": [
    {
     "data": {
      "image/png": "[encoded data removed]",
      "text/plain": [
       "<Figure size 504x360 with 1 Axes>"
      ]
     },
     "metadata": {
      "needs_background": "light",
      "tags": []
     },
     "output_type": "display_data"
    }
   ],
   "source": [
    "ConfusionMatrix(y_test, logistic_prediction, label= [\"not-purchaed\", \"purchased\"])"
   ]
  },
  {
   "cell_type": "markdown",
   "metadata": {
    "id": "dCMOJYwJBbdN"
   },
   "source": [
    "## Interpretation of the Naive model evaluation performance\n",
    "\n",
    "\n",
    "There are 53 True Negatives (TN): predicting that the customer will not buy the insurance and truly the customer did not buy the insurance.\n",
    "\n",
    "There are 27 False Negative (FN): predicting that the customer will not buy the insurance and the customer actually bought the insurance."
   ]
  },
  {
   "cell_type": "markdown",
   "metadata": {
    "id": "lPxKyJQgBbdN"
   },
   "source": [
    "**We can check the accuracy by using:**"
   ]
  },
  {
   "cell_type": "code",
   "execution_count": null,
   "metadata": {
    "id": "4EDmIkPSBbdN",
    "outputId": "f02f2999-97d9-4868-ddf8-161fcb1c362f"
   },
   "outputs": [
    {
     "data": {
      "text/plain": [
       "0.6625"
      ]
     },
     "execution_count": 28,
     "metadata": {
      "tags": []
     },
     "output_type": "execute_result"
    }
   ],
   "source": [
    "metrics.accuracy_score(y_test, logistic_prediction)"
   ]
  },
  {
   "cell_type": "markdown",
   "metadata": {
    "id": "3iaAFmErBbdO"
   },
   "source": [
    "The accuracy of the model is $66.25\\%$. We cannot trust this accuracy since the data is class imbalanced. Therefore, we are going to use F1 score instead."
   ]
  },
  {
   "cell_type": "code",
   "execution_count": null,
   "metadata": {
    "id": "YF7M-hAGBbdO",
    "outputId": "c611b4b5-f214-4da5-9d28-4d6f20ca4130"
   },
   "outputs": [
    {
     "data": {
      "text/plain": [
       "0.0"
      ]
     },
     "execution_count": 29,
     "metadata": {
      "tags": []
     },
     "output_type": "execute_result"
    }
   ],
   "source": [
    "metrics.f1_score(y_test, logistic_prediction)"
   ]
  },
  {
   "cell_type": "markdown",
   "metadata": {
    "id": "vkhnlb7xBbdO"
   },
   "source": [
    "As you can see from the confusion matrix and the result of F1 score, this model is not efficient to predict whether or not a customer will buy the insurance."
   ]
  },
  {
   "cell_type": "markdown",
   "metadata": {
    "id": "wOq3_E2TBbdO"
   },
   "source": [
    "## Naive Bayes model\n",
    "\n",
    "Let's train a Naive Bayes model with our training data. We need to import the Naive Model from the sklearn model"
   ]
  },
  {
   "cell_type": "code",
   "execution_count": null,
   "metadata": {
    "id": "yYmFrf4YBbdO",
    "outputId": "5a1eafee-7ae0-4674-89b7-95d82e59be83"
   },
   "outputs": [
    {
     "data": {
      "text/plain": [
       "GaussianNB()"
      ]
     },
     "execution_count": 30,
     "metadata": {
      "tags": []
     },
     "output_type": "execute_result"
    }
   ],
   "source": [
    "from sklearn.naive_bayes import GaussianNB\n",
    "\n",
    "naivemodel = GaussianNB()\n",
    "\n",
    "naivemodel.fit(X_train, y_train)"
   ]
  },
  {
   "cell_type": "markdown",
   "metadata": {
    "id": "vYOT0d3qBbdO"
   },
   "source": [
    "`naivemodel.fit()` trained the Naive Bayes model. The model is now ready to make prediction for the unknown label by using only the features from the test data (`X_test`)."
   ]
  },
  {
   "cell_type": "code",
   "execution_count": null,
   "metadata": {
    "id": "3UjJaRN3BbdP"
   },
   "outputs": [],
   "source": [
    "naivemodel_prediction = naivemodel.predict(X_test)"
   ]
  },
  {
   "cell_type": "markdown",
   "metadata": {
    "id": "RvtNWQ-hBbdP"
   },
   "source": [
    "You can call one `naivemodel_prediction`to see the prediction"
   ]
  },
  {
   "cell_type": "code",
   "execution_count": null,
   "metadata": {
    "id": "tLsN0YF4BbdP",
    "outputId": "a4e23b94-25ad-4f2a-9a9d-8b8d633644dd"
   },
   "outputs": [
    {
     "data": {
      "text/plain": [
       "array([0, 0, 0, 0, 0, 1, 0, 1, 1, 0, 1, 0, 1, 0, 0, 1, 0, 1, 1, 0, 0, 1,\n",
       "       0, 0, 0, 1, 0, 1, 0, 1, 0, 0, 0, 0, 1, 0, 0, 1, 0, 0, 1, 0, 0, 0,\n",
       "       0, 0, 0, 1, 1, 0, 0, 0, 0, 1, 0, 0, 0, 1, 1, 0, 1, 0, 1, 0, 0, 1,\n",
       "       0, 0, 0, 1, 0, 0, 0, 0, 0, 1, 0, 0, 0, 0], dtype=int64)"
      ]
     },
     "execution_count": 32,
     "metadata": {
      "tags": []
     },
     "output_type": "execute_result"
    }
   ],
   "source": [
    "naivemodel_prediction"
   ]
  },
  {
   "cell_type": "markdown",
   "metadata": {
    "id": "h6PMT6J5BbdP"
   },
   "source": [
    "By using the `ConfusionMatrix()` function, we can see how the model performed:"
   ]
  },
  {
   "cell_type": "code",
   "execution_count": null,
   "metadata": {
    "id": "R3YFIAWrBbdP",
    "outputId": "390c256e-6b8d-457b-ceb7-cf5fca94e1e6"
   },
   "outputs": [
    {
     "data": {
      "image/png": "[encoded data removed]",
      "text/plain": [
       "<Figure size 504x360 with 1 Axes>"
      ]
     },
     "metadata": {
      "needs_background": "light",
      "tags": []
     },
     "output_type": "display_data"
    }
   ],
   "source": [
    "ConfusionMatrix(y_test, naivemodel_prediction, label= [\"not-purchaed\", \"purchased\"])"
   ]
  },
  {
   "cell_type": "markdown",
   "metadata": {
    "id": "tBtCO-DRBbdP"
   },
   "source": [
    "## Interpretation of the Naive model evaluation performance\n",
    "\n",
    "There are 48 True Negatives (TN): predicting that the customer will not buy the insurance and truly the customer did not buy the insurance.\n",
    "\n",
    "There are 20 True Positives (TP): predicting that the customer will buy the insurance and truly the customer did buy the insurance.\n",
    "\n",
    "There are 7 False Negatives (FN): predicting that the customer will not buy the insurance and the customer actually bought the insurance.\n",
    "\n",
    "There are 5 False Positives (FN): predicting that the customer will buy the insurance and the customer did not buy the insurance."
   ]
  },
  {
   "cell_type": "markdown",
   "metadata": {
    "id": "0gAdpT_NBbdQ"
   },
   "source": [
    "## Evaluation metrics"
   ]
  },
  {
   "cell_type": "markdown",
   "metadata": {
    "id": "LL7qTyUwBbdQ"
   },
   "source": [
    "We are going to check the **accuracy** and **F1** score of them model. "
   ]
  },
  {
   "cell_type": "markdown",
   "metadata": {
    "id": "eoAmhUPaBbdQ"
   },
   "source": [
    "**We can check the accuracy by using:**"
   ]
  },
  {
   "cell_type": "code",
   "execution_count": null,
   "metadata": {
    "id": "Q5Xfl9RoBbdQ",
    "outputId": "96c31db0-9a9b-432d-e3c8-d4b4580077ba"
   },
   "outputs": [
    {
     "data": {
      "text/plain": [
       "0.85"
      ]
     },
     "execution_count": 34,
     "metadata": {
      "tags": []
     },
     "output_type": "execute_result"
    }
   ],
   "source": [
    "metrics.accuracy_score(y_test, naivemodel_prediction)"
   ]
  },
  {
   "cell_type": "markdown",
   "metadata": {
    "id": "V4UdolV_BbdQ"
   },
   "source": [
    "The accuracy of the model is $85\\%$"
   ]
  },
  {
   "cell_type": "markdown",
   "metadata": {
    "id": "H9Ny2QZBBbdQ"
   },
   "source": [
    "**We can check the F1 score by using:**"
   ]
  },
  {
   "cell_type": "code",
   "execution_count": null,
   "metadata": {
    "id": "gBSXqpBVBbdR",
    "outputId": "0a02cbd0-63ea-4a56-cac4-6dab1c27cb1f"
   },
   "outputs": [
    {
     "data": {
      "text/plain": [
       "0.7692307692307692"
      ]
     },
     "execution_count": 35,
     "metadata": {
      "tags": []
     },
     "output_type": "execute_result"
    }
   ],
   "source": [
    "metrics.f1_score(y_test, naivemodel_prediction)"
   ]
  },
  {
   "cell_type": "markdown",
   "metadata": {
    "id": "3Dz7_oTlBbdR"
   },
   "source": [
    "The F1 score of the model is $76.9\\%$"
   ]
  },
  {
   "cell_type": "markdown",
   "metadata": {
    "id": "7SdMjsXUBbdR"
   },
   "source": [
    "As you can see, this model seems good in predicting whether a patient will buy insurance or not."
   ]
  },
  {
   "cell_type": "markdown",
   "metadata": {
    "id": "jdfkJE1qBbdR"
   },
   "source": [
    "## Random Forest Model\n",
    "\n",
    "Let's train a Random Forest model with our training data. We need to import the Random Forest model from the sklearn module"
   ]
  },
  {
   "cell_type": "code",
   "execution_count": null,
   "metadata": {
    "id": "O9kPZ-jkBbdR",
    "outputId": "81340a19-c1b2-41e1-bca4-073b6d0d83e6"
   },
   "outputs": [
    {
     "data": {
      "text/plain": [
       "RandomForestClassifier()"
      ]
     },
     "execution_count": 36,
     "metadata": {
      "tags": []
     },
     "output_type": "execute_result"
    }
   ],
   "source": [
    "from sklearn.ensemble import RandomForestClassifier\n",
    "\n",
    "randomforestmodel = RandomForestClassifier()\n",
    "\n",
    "randomforestmodel.fit(X_train, y_train)"
   ]
  },
  {
   "cell_type": "markdown",
   "metadata": {
    "id": "2PzOZJoKBbdR"
   },
   "source": [
    "`randomforestmodel.fit()` trained the Random Forest model on the training data. The model is now ready to make prediction for the unknown label by using only the features from the test data (`X_test`)."
   ]
  },
  {
   "cell_type": "code",
   "execution_count": null,
   "metadata": {
    "id": "xQ8EAJLWBbdR"
   },
   "outputs": [],
   "source": [
    "randomforestmodel_prediction = randomforestmodel.predict(X_test)"
   ]
  },
  {
   "cell_type": "markdown",
   "metadata": {
    "id": "zRRPn7jXBbdS"
   },
   "source": [
    "You can call one `randomforestmodel_prediction` to see the prediction"
   ]
  },
  {
   "cell_type": "code",
   "execution_count": null,
   "metadata": {
    "id": "GQqT_JKNBbdS",
    "outputId": "050d6e75-bf41-4044-859b-7f82d9c1020d"
   },
   "outputs": [
    {
     "data": {
      "text/plain": [
       "array([0, 0, 0, 0, 1, 1, 0, 1, 1, 0, 1, 0, 1, 0, 0, 1, 0, 1, 1, 0, 0, 1,\n",
       "       1, 0, 0, 1, 0, 1, 0, 1, 0, 1, 0, 0, 1, 0, 0, 1, 0, 1, 1, 0, 0, 0,\n",
       "       1, 0, 0, 1, 1, 0, 1, 0, 0, 1, 0, 0, 0, 1, 1, 0, 1, 0, 1, 0, 0, 1,\n",
       "       0, 0, 0, 1, 0, 0, 0, 0, 0, 1, 0, 0, 0, 0], dtype=int64)"
      ]
     },
     "execution_count": 38,
     "metadata": {
      "tags": []
     },
     "output_type": "execute_result"
    }
   ],
   "source": [
    "randomforestmodel_prediction"
   ]
  },
  {
   "cell_type": "markdown",
   "metadata": {
    "id": "IX1rIIbtBbdS"
   },
   "source": [
    "By using the `ConfusionMatrix()` function, we can see how the model performed:"
   ]
  },
  {
   "cell_type": "code",
   "execution_count": null,
   "metadata": {
    "id": "1XiWGbemBbdS",
    "outputId": "d9704169-23e1-4482-f3ec-dda7b5493256"
   },
   "outputs": [
    {
     "data": {
      "image/png": "[encoded data removed]",
      "text/plain": [
       "<Figure size 504x360 with 1 Axes>"
      ]
     },
     "metadata": {
      "needs_background": "light",
      "tags": []
     },
     "output_type": "display_data"
    }
   ],
   "source": [
    "ConfusionMatrix(y_test, randomforestmodel_prediction, label= [\"not-purchaed\", \"purchased\"])"
   ]
  },
  {
   "cell_type": "markdown",
   "metadata": {
    "id": "CBF4794rBbdS"
   },
   "source": [
    "## Interpretation of the Random Forest model evaluation performance\n",
    "\n",
    "There are 44 True Negatives (TN): predicting that the customer will not buy the insurance and truly the customer did not buy the insurance.\n",
    "\n",
    "There are 23 True Positives (TP): predicting that the customer will buy the insurance and truly the customer did buy the insurance.\n",
    "\n",
    "There are 4 False Negatives (FN): predicting that the customer will not buy the insurance and the customer actually bought the insurance.\n",
    "\n",
    "There are 9 False Positives (FN): predicting that the customer will buy the insurance and the customer did not buy the insurance."
   ]
  },
  {
   "cell_type": "markdown",
   "metadata": {
    "id": "ZpjwDTX5BbdS"
   },
   "source": [
    "## Evaluation metrics"
   ]
  },
  {
   "cell_type": "markdown",
   "metadata": {
    "id": "f2tJp0bsBbdT"
   },
   "source": [
    "We are going to check the **accuracy** and **F1** score of them model."
   ]
  },
  {
   "cell_type": "markdown",
   "metadata": {
    "id": "Jg5lugiABbdT"
   },
   "source": [
    "**We can check the accuracy by using:**"
   ]
  },
  {
   "cell_type": "code",
   "execution_count": null,
   "metadata": {
    "id": "b9e4CHTqBbdT",
    "outputId": "403ea72b-dd12-4046-8e2f-00ac272b6df8"
   },
   "outputs": [
    {
     "data": {
      "text/plain": [
       "0.85"
      ]
     },
     "execution_count": 40,
     "metadata": {
      "tags": []
     },
     "output_type": "execute_result"
    }
   ],
   "source": [
    "metrics.accuracy_score(y_test, randomforestmodel_prediction)"
   ]
  },
  {
   "cell_type": "markdown",
   "metadata": {
    "id": "v3DoQSX5BbdT"
   },
   "source": [
    "The accuracy of the model is $83.75\\%$"
   ]
  },
  {
   "cell_type": "markdown",
   "metadata": {
    "id": "s3pIa-GbBbdT"
   },
   "source": [
    "**We can check the F1 score by using:**"
   ]
  },
  {
   "cell_type": "code",
   "execution_count": null,
   "metadata": {
    "id": "cMk6kRvBBbdT",
    "outputId": "bcda46b5-18e5-4a0c-e9fe-6d468c132f76"
   },
   "outputs": [
    {
     "data": {
      "text/plain": [
       "0.7931034482758621"
      ]
     },
     "execution_count": 41,
     "metadata": {
      "tags": []
     },
     "output_type": "execute_result"
    }
   ],
   "source": [
    "metrics.f1_score(y_test, randomforestmodel_prediction)"
   ]
  },
  {
   "cell_type": "markdown",
   "metadata": {
    "id": "eGCxrNu5BbdT"
   },
   "source": [
    "The F1 score of the model is $77.97\\%$"
   ]
  },
  {
   "cell_type": "markdown",
   "metadata": {
    "id": "tvYXbEKnBbdU"
   },
   "source": [
    "As you can see, this model seems good in predicting whether a patient will buy insurance or not."
   ]
  },
  {
   "cell_type": "markdown",
   "metadata": {
    "id": "k3nygo72BbdU"
   },
   "source": [
    "## Extreme Gradient Boost (XGBoost) Model\n",
    "\n",
    "Let's train an XGBoost model with our training data. We need to import the XGBoost model from the sklearn module but before we do that, we need to install the module because it is not available in the sklearn.\n",
    "\n",
    "## How to install XGBoost\n",
    "\n",
    "Go to your termina and type `pip install xgboost`\n",
    "\n",
    "`pip install xgboost`"
   ]
  },
  {
   "cell_type": "markdown",
   "metadata": {
    "id": "i45GCEUdBbdU"
   },
   "source": [
    "![](../Images/install_XGboost.jpeg)"
   ]
  },
  {
   "cell_type": "markdown",
   "metadata": {
    "id": "HmgPLIN7BbdU"
   },
   "source": [
    "After installation, you can now import it as follows:"
   ]
  },
  {
   "cell_type": "code",
   "execution_count": null,
   "metadata": {
    "id": "N3C9d1xJBbdU",
    "outputId": "d6d6d1d5-fc52-4167-ca26-e7fb17dfc867"
   },
   "outputs": [
    {
     "name": "stdout",
     "output_type": "stream",
     "text": [
      "[19:13:45] WARNING: C:/Users/Administrator/workspace/xgboost-win64_release_1.3.0/src/learner.cc:1061: Starting in XGBoost 1.3.0, the default evaluation metric used with the objective 'binary:logistic' was changed from 'error' to 'logloss'. Explicitly set eval_metric if you'd like to restore the old behavior.\n"
     ]
    }
   ],
   "source": [
    "from xgboost import XGBClassifier\n",
    "\n",
    "xgboostmodel = XGBClassifier(use_label_encoder=False)\n",
    "\n",
    "xgbboostmodel = xgboostmodel.fit(X_train, y_train)"
   ]
  },
  {
   "cell_type": "markdown",
   "metadata": {
    "id": "czQrtO3cBbdU"
   },
   "source": [
    "`xgboostmodel.fit()` trained the XGBoost model on the training data. The model is now ready to make prediction for the unknown label by using only the features from the test data (`X_test`)."
   ]
  },
  {
   "cell_type": "code",
   "execution_count": null,
   "metadata": {
    "id": "6lATfLJBBbdU"
   },
   "outputs": [],
   "source": [
    "xgbboostmodel_prediction = xgboostmodel.predict(X_test)"
   ]
  },
  {
   "cell_type": "markdown",
   "metadata": {
    "id": "Gjvn75b2BbdV"
   },
   "source": [
    "You can call on `xgbboostmodel_prediction` to see the prediction"
   ]
  },
  {
   "cell_type": "code",
   "execution_count": null,
   "metadata": {
    "id": "mOV8b-teBbdV",
    "outputId": "c9b1cb80-722e-4de2-e0d9-5f741b68a93f"
   },
   "outputs": [
    {
     "data": {
      "text/plain": [
       "array([0, 0, 0, 0, 1, 1, 0, 1, 1, 1, 1, 0, 1, 0, 0, 1, 0, 1, 1, 1, 0, 0,\n",
       "       1, 0, 0, 1, 0, 1, 0, 1, 0, 1, 0, 0, 1, 0, 0, 0, 0, 1, 0, 0, 0, 0,\n",
       "       1, 0, 0, 1, 1, 0, 0, 0, 0, 1, 0, 0, 0, 1, 1, 0, 1, 0, 1, 0, 0, 1,\n",
       "       0, 0, 0, 1, 0, 0, 0, 0, 0, 1, 0, 0, 0, 0])"
      ]
     },
     "execution_count": 44,
     "metadata": {
      "tags": []
     },
     "output_type": "execute_result"
    }
   ],
   "source": [
    "xgbboostmodel_prediction"
   ]
  },
  {
   "cell_type": "markdown",
   "metadata": {
    "id": "Db1MYvWDBbdV"
   },
   "source": [
    "By using the `ConfusionMatrix()` function, we can see how the model performed:"
   ]
  },
  {
   "cell_type": "code",
   "execution_count": null,
   "metadata": {
    "id": "9wryvYHyBbdV",
    "outputId": "2dcc1a2b-f33f-4af7-988b-0c155da97809"
   },
   "outputs": [
    {
     "data": {
      "image/png": "[encoded data removed]",
      "text/plain": [
       "<Figure size 504x360 with 1 Axes>"
      ]
     },
     "metadata": {
      "needs_background": "light",
      "tags": []
     },
     "output_type": "display_data"
    }
   ],
   "source": [
    "ConfusionMatrix(y_test, xgbboostmodel_prediction, label= [\"not-purchaed\", \"purchased\"])"
   ]
  },
  {
   "cell_type": "markdown",
   "metadata": {
    "id": "PvFXS7xcBbdV"
   },
   "source": [
    "## Interpretation of the XGBoost model evaluation performance\n",
    "\n",
    "There are 45 True Negatives (TN): predicting that the customer will not buy the insurance and truly the customer did not buy the insurance.\n",
    "\n",
    "There are 21 True Positives (TP): predicting that the customer will buy the insurance and truly the customer did buy the insurance.\n",
    "\n",
    "There are 6 False Negatives (FN): predicting that the customer will not buy the insurance and the customer actually bought the insurance.\n",
    "\n",
    "There are 8 False Positives (FN): predicting that the customer will buy the insurance and the customer did not buy the insurance."
   ]
  },
  {
   "cell_type": "markdown",
   "metadata": {
    "id": "qGwox7j1BbdW"
   },
   "source": [
    "## Evaluation metrics"
   ]
  },
  {
   "cell_type": "markdown",
   "metadata": {
    "id": "CIndox2RBbdW"
   },
   "source": [
    "We are going to check the **accuracy** and **F1** score of them model."
   ]
  },
  {
   "cell_type": "markdown",
   "metadata": {
    "id": "JxdNSR2iBbdW"
   },
   "source": [
    "**We can check the accuracy by using:**"
   ]
  },
  {
   "cell_type": "code",
   "execution_count": null,
   "metadata": {
    "id": "M9_YQd_OBbdW"
   },
   "outputs": [],
   "source": [
    "metrics.accuracy_score(y_test, xgbboostmodel_prediction)"
   ]
  },
  {
   "cell_type": "markdown",
   "metadata": {
    "id": "RncjdK-rBbdW"
   },
   "source": [
    "The accuracy of the model is $82.5\\%$"
   ]
  },
  {
   "cell_type": "markdown",
   "metadata": {
    "id": "LpzCXlqKBbdW"
   },
   "source": [
    "**We can check the F1 score by using:**"
   ]
  },
  {
   "cell_type": "code",
   "execution_count": null,
   "metadata": {
    "id": "d_qqDC28BbdW"
   },
   "outputs": [],
   "source": [
    "metrics.f1_score(y_test, xgbboostmodel_prediction)"
   ]
  },
  {
   "cell_type": "markdown",
   "metadata": {
    "id": "yIorvl-iBbdX"
   },
   "source": [
    "The F1 score of the model is $75\\%$"
   ]
  },
  {
   "cell_type": "markdown",
   "metadata": {
    "id": "l8Yf6I-lBbdX"
   },
   "source": [
    "As you can see, this model seems good in predicting whether a patient will buy insurance or not."
   ]
  },
  {
   "cell_type": "markdown",
   "metadata": {
    "id": "xJQ1Jq6EBbdX"
   },
   "source": [
    "## Support Vector Machine (SVM)\n",
    "\n",
    "Let's train a Support Vector Machine model with our training data. We need to import the Support Vector Machine model from the sklearn module"
   ]
  },
  {
   "cell_type": "code",
   "execution_count": null,
   "metadata": {
    "id": "PGq-MkbhBbdX"
   },
   "outputs": [],
   "source": [
    "from sklearn.svm import SVC\n",
    "\n",
    "SVMmodel = SVC()\n",
    "\n",
    "SVMmodel.fit(X_train, y_train)"
   ]
  },
  {
   "cell_type": "markdown",
   "metadata": {
    "id": "TFHM7euDBbdX"
   },
   "source": [
    "`SVMmodel.fit()` trained the Support Vector Machine on the training data. The model is now ready to make prediction for the unknown label by using only the features from the test data (`X_test`)."
   ]
  },
  {
   "cell_type": "code",
   "execution_count": null,
   "metadata": {
    "id": "f7pu-6F4BbdX"
   },
   "outputs": [],
   "source": [
    "SVMmodel_prediction = SVMmodel.predict(X_test)"
   ]
  },
  {
   "cell_type": "markdown",
   "metadata": {
    "id": "V3WrliT6BbdX"
   },
   "source": [
    "You can call on `SVMmodel_prediction` to see what has been predicted."
   ]
  },
  {
   "cell_type": "code",
   "execution_count": null,
   "metadata": {
    "id": "jSdcCklSBbdX"
   },
   "outputs": [],
   "source": [
    "SVMmodel_prediction"
   ]
  },
  {
   "cell_type": "markdown",
   "metadata": {
    "id": "rHuIeHyOBbdY"
   },
   "source": [
    "By using the `ConfusionMatrix()` function, we can see how the model performed:"
   ]
  },
  {
   "cell_type": "code",
   "execution_count": null,
   "metadata": {
    "id": "18G4v5FwBbdY"
   },
   "outputs": [],
   "source": [
    "ConfusionMatrix(y_test, SVMmodel_prediction, label= [\"not-purchaed\", \"purchased\"])"
   ]
  },
  {
   "cell_type": "markdown",
   "metadata": {
    "id": "6vwutiR3BbdY"
   },
   "source": [
    "## Interpretation of the Support Vector model evaluation performance\n",
    "\n",
    "There are 50 True Negatives (TN): predicting that the customer will not buy the insurance and truly the customer did not buy the insurance.\n",
    "\n",
    "There are 14 True Positives (TP): predicting that the customer will buy the insurance and truly the customer did buy the insurance.\n",
    "\n",
    "There are 13 False Negatives (FN): predicting that the customer will not buy the insurance and the customer actually bought the insurance.\n",
    "\n",
    "There are 3 False Positives (FN): predicting that the customer will buy the insurance and the customer did not buy the insurance."
   ]
  },
  {
   "cell_type": "markdown",
   "metadata": {
    "id": "XT86jxjHBbdY"
   },
   "source": [
    "## Evaluation metrics"
   ]
  },
  {
   "cell_type": "markdown",
   "metadata": {
    "id": "l1XsBlvWBbdY"
   },
   "source": [
    "We are going to check the **accuracy** and **F1** score of the model. "
   ]
  },
  {
   "cell_type": "markdown",
   "metadata": {
    "id": "l4lXFSc5BbdY"
   },
   "source": [
    "**We can check the accuracy by using:**"
   ]
  },
  {
   "cell_type": "code",
   "execution_count": null,
   "metadata": {
    "id": "1iDRFuzFBbdY"
   },
   "outputs": [],
   "source": [
    "metrics.accuracy_score(y_test, SVMmodel_prediction)"
   ]
  },
  {
   "cell_type": "markdown",
   "metadata": {
    "id": "WH_1eW7TBbdY"
   },
   "source": [
    "The accuracy of the model is $80\\%$"
   ]
  },
  {
   "cell_type": "markdown",
   "metadata": {
    "id": "LhckgnzFBbdZ"
   },
   "source": [
    "**We can check the F1 score by using:**"
   ]
  },
  {
   "cell_type": "code",
   "execution_count": null,
   "metadata": {
    "id": "D3g9OfnIBbdZ"
   },
   "outputs": [],
   "source": [
    "metrics.f1_score(y_test, SVMmodel_prediction)"
   ]
  },
  {
   "cell_type": "markdown",
   "metadata": {
    "id": "i7ckmyAtBbdZ"
   },
   "source": [
    "The F1 score of the model is $63.6\\%$"
   ]
  },
  {
   "cell_type": "markdown",
   "metadata": {
    "id": "p_a-WI9qBbdZ"
   },
   "source": [
    "As you can see, this model seems good in predicting whether a patient will buy insurance or not."
   ]
  },
  {
   "cell_type": "code",
   "execution_count": null,
   "metadata": {
    "id": "3Voc1p34BbdZ"
   },
   "outputs": [],
   "source": [
    "## Models Summary"
   ]
  },
  {
   "cell_type": "markdown",
   "metadata": {
    "id": "zo9S1kFlBbdZ"
   },
   "source": [
    "+-----------------------+----------------------+-----------------------+\n",
    "| Model (s)             | Accuracy             | F1-score              |\n",
    "+=======================+======================+=======================+\n",
    "| Logistic regression   | 66.25                | 0                     |\n",
    "+-----------------------+----------------------+-----------------------+\n",
    "| Naive Bayes           | 85                   | 76.92                 |\n",
    "+-----------------------+----------------------+-----------------------+\n",
    "| Random Forest         | 83.75                | 77.97                 |\n",
    "+-----------------------+----------------------+-----------------------+\n",
    "| XGBoost               | 82.5                 | 75                    |\n",
    "+-----------------------+----------------------+-----------------------+\n",
    "| SVM                   | 80                   | 63.63                 |\n",
    "+-----------------------+----------------------+-----------------------+\n",
    "\n",
    "![](../Images/metrics.jpeg)"
   ]
  },
  {
   "cell_type": "markdown",
   "metadata": {
    "id": "M2wzkB2XBbdZ"
   },
   "source": [
    "Having train all the five (5) models, we can see that the best model that can accurately predict whether a customer will buy the insurance or not is the Random Forest Model."
   ]
  },
  {
   "cell_type": "markdown",
   "metadata": {
    "id": "felxiyjTBbdZ"
   },
   "source": [
    "## Class Activities"
   ]
  },
  {
   "cell_type": "markdown",
   "metadata": {
    "id": "GmWVHuAhBbda"
   },
   "source": [
    "## Importing Scikit-learn Module\n",
    "\n",
    "Use the following models to predict whether a customer will buy insurance or not. Your teacher has also included how to import those models for you.\n",
    "\n",
    "* **K Nearest Neighbor**: `from sklearn.neighbors import KNeighborsClassifier`\n",
    "\n",
    "* **Decision Trees Classifier**: `from sklearn.tree import DecisionTreeClassifier`\n",
    "\n",
    "* **Gradient Boost Classifier**: `from sklearn.ensemble import GradientBoostingClassifier`\n",
    "\n",
    "Which of the three (3) model is the best in term of the F1 score?"
   ]
  }
 ],
 "metadata": {
  "colab": {
   "name": "Supervised Learning: Classification",
   "provenance": []
  },
  "kernelspec": {
   "display_name": "Python 3",
   "language": "python",
   "name": "python3"
  },
  "language_info": {
   "codemirror_mode": {
    "name": "ipython",
    "version": 3
   },
   "file_extension": ".py",
   "mimetype": "text/x-python",
   "name": "python",
   "nbconvert_exporter": "python",
   "pygments_lexer": "ipython3",
   "version": "3.8.3"
  }
 },
 "nbformat": 4,
 "nbformat_minor": 1
}
