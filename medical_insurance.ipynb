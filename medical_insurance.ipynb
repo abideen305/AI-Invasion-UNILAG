{
 "cells": [
  {
   "cell_type": "code",
   "execution_count": 1,
   "metadata": {},
   "outputs": [
    {
     "name": "stdout",
     "output_type": "stream",
     "text": [
      "Done\n"
     ]
    }
   ],
   "source": [
    "#importing necessary libraries\n",
    "\n",
    "import pandas as pd\n",
    "import matplotlib.pyplot as plt\n",
    "import seaborn as sns\n",
    "print(\"Done\")"
   ]
  },
  {
   "cell_type": "code",
   "execution_count": 2,
   "metadata": {},
   "outputs": [],
   "source": [
    "df_cust = pd.read_csv(r\"C:\\Users\\HP\\Desktop\\AI+ Invasion -UNILAG\\Data\\Medical_insurance_dataset.csv\")"
   ]
  },
  {
   "cell_type": "code",
   "execution_count": 3,
   "metadata": {},
   "outputs": [
    {
     "data": {
      "text/html": [
       "<div>\n",
       "<style scoped>\n",
       "    .dataframe tbody tr th:only-of-type {\n",
       "        vertical-align: middle;\n",
       "    }\n",
       "\n",
       "    .dataframe tbody tr th {\n",
       "        vertical-align: top;\n",
       "    }\n",
       "\n",
       "    .dataframe thead th {\n",
       "        text-align: right;\n",
       "    }\n",
       "</style>\n",
       "<table border=\"1\" class=\"dataframe\">\n",
       "  <thead>\n",
       "    <tr style=\"text-align: right;\">\n",
       "      <th></th>\n",
       "      <th>User ID</th>\n",
       "      <th>Gender</th>\n",
       "      <th>Age</th>\n",
       "      <th>EstimatedSalary</th>\n",
       "      <th>Purchased</th>\n",
       "    </tr>\n",
       "  </thead>\n",
       "  <tbody>\n",
       "    <tr>\n",
       "      <th>0</th>\n",
       "      <td>15624510</td>\n",
       "      <td>Male</td>\n",
       "      <td>19</td>\n",
       "      <td>19000</td>\n",
       "      <td>not-purchased</td>\n",
       "    </tr>\n",
       "    <tr>\n",
       "      <th>1</th>\n",
       "      <td>15810944</td>\n",
       "      <td>Male</td>\n",
       "      <td>35</td>\n",
       "      <td>20000</td>\n",
       "      <td>not-purchased</td>\n",
       "    </tr>\n",
       "    <tr>\n",
       "      <th>2</th>\n",
       "      <td>15668575</td>\n",
       "      <td>Female</td>\n",
       "      <td>26</td>\n",
       "      <td>43000</td>\n",
       "      <td>not-purchased</td>\n",
       "    </tr>\n",
       "    <tr>\n",
       "      <th>3</th>\n",
       "      <td>15603246</td>\n",
       "      <td>Female</td>\n",
       "      <td>27</td>\n",
       "      <td>57000</td>\n",
       "      <td>not-purchased</td>\n",
       "    </tr>\n",
       "    <tr>\n",
       "      <th>4</th>\n",
       "      <td>15804002</td>\n",
       "      <td>Male</td>\n",
       "      <td>19</td>\n",
       "      <td>76000</td>\n",
       "      <td>not-purchased</td>\n",
       "    </tr>\n",
       "  </tbody>\n",
       "</table>\n",
       "</div>"
      ],
      "text/plain": [
       "    User ID  Gender  Age  EstimatedSalary      Purchased\n",
       "0  15624510    Male   19            19000  not-purchased\n",
       "1  15810944    Male   35            20000  not-purchased\n",
       "2  15668575  Female   26            43000  not-purchased\n",
       "3  15603246  Female   27            57000  not-purchased\n",
       "4  15804002    Male   19            76000  not-purchased"
      ]
     },
     "execution_count": 3,
     "metadata": {},
     "output_type": "execute_result"
    }
   ],
   "source": [
    "df_cust.head()"
   ]
  },
  {
   "cell_type": "code",
   "execution_count": 4,
   "metadata": {},
   "outputs": [
    {
     "data": {
      "text/html": [
       "<div>\n",
       "<style scoped>\n",
       "    .dataframe tbody tr th:only-of-type {\n",
       "        vertical-align: middle;\n",
       "    }\n",
       "\n",
       "    .dataframe tbody tr th {\n",
       "        vertical-align: top;\n",
       "    }\n",
       "\n",
       "    .dataframe thead th {\n",
       "        text-align: right;\n",
       "    }\n",
       "</style>\n",
       "<table border=\"1\" class=\"dataframe\">\n",
       "  <thead>\n",
       "    <tr style=\"text-align: right;\">\n",
       "      <th></th>\n",
       "      <th>User ID</th>\n",
       "      <th>Gender</th>\n",
       "      <th>Age</th>\n",
       "      <th>EstimatedSalary</th>\n",
       "      <th>Purchased</th>\n",
       "    </tr>\n",
       "  </thead>\n",
       "  <tbody>\n",
       "    <tr>\n",
       "      <th>395</th>\n",
       "      <td>15691863</td>\n",
       "      <td>Female</td>\n",
       "      <td>46</td>\n",
       "      <td>41000</td>\n",
       "      <td>purchased</td>\n",
       "    </tr>\n",
       "    <tr>\n",
       "      <th>396</th>\n",
       "      <td>15706071</td>\n",
       "      <td>Male</td>\n",
       "      <td>51</td>\n",
       "      <td>23000</td>\n",
       "      <td>purchased</td>\n",
       "    </tr>\n",
       "    <tr>\n",
       "      <th>397</th>\n",
       "      <td>15654296</td>\n",
       "      <td>Female</td>\n",
       "      <td>50</td>\n",
       "      <td>20000</td>\n",
       "      <td>purchased</td>\n",
       "    </tr>\n",
       "    <tr>\n",
       "      <th>398</th>\n",
       "      <td>15755018</td>\n",
       "      <td>Male</td>\n",
       "      <td>36</td>\n",
       "      <td>33000</td>\n",
       "      <td>not-purchased</td>\n",
       "    </tr>\n",
       "    <tr>\n",
       "      <th>399</th>\n",
       "      <td>15594041</td>\n",
       "      <td>Female</td>\n",
       "      <td>49</td>\n",
       "      <td>36000</td>\n",
       "      <td>purchased</td>\n",
       "    </tr>\n",
       "  </tbody>\n",
       "</table>\n",
       "</div>"
      ],
      "text/plain": [
       "      User ID  Gender  Age  EstimatedSalary      Purchased\n",
       "395  15691863  Female   46            41000      purchased\n",
       "396  15706071    Male   51            23000      purchased\n",
       "397  15654296  Female   50            20000      purchased\n",
       "398  15755018    Male   36            33000  not-purchased\n",
       "399  15594041  Female   49            36000      purchased"
      ]
     },
     "execution_count": 4,
     "metadata": {},
     "output_type": "execute_result"
    }
   ],
   "source": [
    "df_cust.tail()"
   ]
  },
  {
   "cell_type": "code",
   "execution_count": 5,
   "metadata": {},
   "outputs": [
    {
     "name": "stdout",
     "output_type": "stream",
     "text": [
      "<class 'pandas.core.frame.DataFrame'>\n",
      "RangeIndex: 400 entries, 0 to 399\n",
      "Data columns (total 5 columns):\n",
      " #   Column           Non-Null Count  Dtype \n",
      "---  ------           --------------  ----- \n",
      " 0   User ID          400 non-null    int64 \n",
      " 1   Gender           400 non-null    object\n",
      " 2   Age              400 non-null    int64 \n",
      " 3   EstimatedSalary  400 non-null    int64 \n",
      " 4   Purchased        400 non-null    object\n",
      "dtypes: int64(3), object(2)\n",
      "memory usage: 15.8+ KB\n"
     ]
    }
   ],
   "source": [
    "df_cust.info()"
   ]
  },
  {
   "cell_type": "code",
   "execution_count": 6,
   "metadata": {},
   "outputs": [
    {
     "data": {
      "text/plain": [
       "User ID            0\n",
       "Gender             0\n",
       "Age                0\n",
       "EstimatedSalary    0\n",
       "Purchased          0\n",
       "dtype: int64"
      ]
     },
     "execution_count": 6,
     "metadata": {},
     "output_type": "execute_result"
    }
   ],
   "source": [
    "df_cust.isnull().sum()"
   ]
  },
  {
   "cell_type": "code",
   "execution_count": 7,
   "metadata": {},
   "outputs": [],
   "source": [
    "from sklearn.preprocessing import LabelEncoder"
   ]
  },
  {
   "cell_type": "code",
   "execution_count": 8,
   "metadata": {},
   "outputs": [],
   "source": [
    "lb = LabelEncoder()"
   ]
  },
  {
   "cell_type": "code",
   "execution_count": 9,
   "metadata": {},
   "outputs": [],
   "source": [
    "df_cust['Gender'] = lb.fit_transform(df_cust['Gender'])"
   ]
  },
  {
   "cell_type": "code",
   "execution_count": 36,
   "metadata": {},
   "outputs": [],
   "source": [
    "df_cust = df_cust.drop(columns= 'User ID')"
   ]
  },
  {
   "cell_type": "code",
   "execution_count": 37,
   "metadata": {},
   "outputs": [
    {
     "data": {
      "text/html": [
       "<div>\n",
       "<style scoped>\n",
       "    .dataframe tbody tr th:only-of-type {\n",
       "        vertical-align: middle;\n",
       "    }\n",
       "\n",
       "    .dataframe tbody tr th {\n",
       "        vertical-align: top;\n",
       "    }\n",
       "\n",
       "    .dataframe thead th {\n",
       "        text-align: right;\n",
       "    }\n",
       "</style>\n",
       "<table border=\"1\" class=\"dataframe\">\n",
       "  <thead>\n",
       "    <tr style=\"text-align: right;\">\n",
       "      <th></th>\n",
       "      <th>Gender</th>\n",
       "      <th>Age</th>\n",
       "      <th>EstimatedSalary</th>\n",
       "      <th>Purchased</th>\n",
       "    </tr>\n",
       "  </thead>\n",
       "  <tbody>\n",
       "    <tr>\n",
       "      <th>0</th>\n",
       "      <td>1</td>\n",
       "      <td>19</td>\n",
       "      <td>19000</td>\n",
       "      <td>not-purchased</td>\n",
       "    </tr>\n",
       "    <tr>\n",
       "      <th>1</th>\n",
       "      <td>1</td>\n",
       "      <td>35</td>\n",
       "      <td>20000</td>\n",
       "      <td>not-purchased</td>\n",
       "    </tr>\n",
       "    <tr>\n",
       "      <th>2</th>\n",
       "      <td>0</td>\n",
       "      <td>26</td>\n",
       "      <td>43000</td>\n",
       "      <td>not-purchased</td>\n",
       "    </tr>\n",
       "    <tr>\n",
       "      <th>3</th>\n",
       "      <td>0</td>\n",
       "      <td>27</td>\n",
       "      <td>57000</td>\n",
       "      <td>not-purchased</td>\n",
       "    </tr>\n",
       "    <tr>\n",
       "      <th>4</th>\n",
       "      <td>1</td>\n",
       "      <td>19</td>\n",
       "      <td>76000</td>\n",
       "      <td>not-purchased</td>\n",
       "    </tr>\n",
       "    <tr>\n",
       "      <th>...</th>\n",
       "      <td>...</td>\n",
       "      <td>...</td>\n",
       "      <td>...</td>\n",
       "      <td>...</td>\n",
       "    </tr>\n",
       "    <tr>\n",
       "      <th>395</th>\n",
       "      <td>0</td>\n",
       "      <td>46</td>\n",
       "      <td>41000</td>\n",
       "      <td>purchased</td>\n",
       "    </tr>\n",
       "    <tr>\n",
       "      <th>396</th>\n",
       "      <td>1</td>\n",
       "      <td>51</td>\n",
       "      <td>23000</td>\n",
       "      <td>purchased</td>\n",
       "    </tr>\n",
       "    <tr>\n",
       "      <th>397</th>\n",
       "      <td>0</td>\n",
       "      <td>50</td>\n",
       "      <td>20000</td>\n",
       "      <td>purchased</td>\n",
       "    </tr>\n",
       "    <tr>\n",
       "      <th>398</th>\n",
       "      <td>1</td>\n",
       "      <td>36</td>\n",
       "      <td>33000</td>\n",
       "      <td>not-purchased</td>\n",
       "    </tr>\n",
       "    <tr>\n",
       "      <th>399</th>\n",
       "      <td>0</td>\n",
       "      <td>49</td>\n",
       "      <td>36000</td>\n",
       "      <td>purchased</td>\n",
       "    </tr>\n",
       "  </tbody>\n",
       "</table>\n",
       "<p>400 rows × 4 columns</p>\n",
       "</div>"
      ],
      "text/plain": [
       "     Gender  Age  EstimatedSalary      Purchased\n",
       "0         1   19            19000  not-purchased\n",
       "1         1   35            20000  not-purchased\n",
       "2         0   26            43000  not-purchased\n",
       "3         0   27            57000  not-purchased\n",
       "4         1   19            76000  not-purchased\n",
       "..      ...  ...              ...            ...\n",
       "395       0   46            41000      purchased\n",
       "396       1   51            23000      purchased\n",
       "397       0   50            20000      purchased\n",
       "398       1   36            33000  not-purchased\n",
       "399       0   49            36000      purchased\n",
       "\n",
       "[400 rows x 4 columns]"
      ]
     },
     "execution_count": 37,
     "metadata": {},
     "output_type": "execute_result"
    }
   ],
   "source": [
    "df_cust"
   ]
  },
  {
   "cell_type": "code",
   "execution_count": 64,
   "metadata": {},
   "outputs": [],
   "source": [
    "df_cust['Purchased'] = lb.fit_transform(df_cust['Purchased'])"
   ]
  },
  {
   "cell_type": "code",
   "execution_count": 65,
   "metadata": {},
   "outputs": [
    {
     "data": {
      "text/html": [
       "<div>\n",
       "<style scoped>\n",
       "    .dataframe tbody tr th:only-of-type {\n",
       "        vertical-align: middle;\n",
       "    }\n",
       "\n",
       "    .dataframe tbody tr th {\n",
       "        vertical-align: top;\n",
       "    }\n",
       "\n",
       "    .dataframe thead th {\n",
       "        text-align: right;\n",
       "    }\n",
       "</style>\n",
       "<table border=\"1\" class=\"dataframe\">\n",
       "  <thead>\n",
       "    <tr style=\"text-align: right;\">\n",
       "      <th></th>\n",
       "      <th>Gender</th>\n",
       "      <th>Age</th>\n",
       "      <th>EstimatedSalary</th>\n",
       "      <th>Purchased</th>\n",
       "    </tr>\n",
       "  </thead>\n",
       "  <tbody>\n",
       "    <tr>\n",
       "      <th>0</th>\n",
       "      <td>1</td>\n",
       "      <td>19</td>\n",
       "      <td>19000</td>\n",
       "      <td>0</td>\n",
       "    </tr>\n",
       "    <tr>\n",
       "      <th>1</th>\n",
       "      <td>1</td>\n",
       "      <td>35</td>\n",
       "      <td>20000</td>\n",
       "      <td>0</td>\n",
       "    </tr>\n",
       "    <tr>\n",
       "      <th>2</th>\n",
       "      <td>0</td>\n",
       "      <td>26</td>\n",
       "      <td>43000</td>\n",
       "      <td>0</td>\n",
       "    </tr>\n",
       "    <tr>\n",
       "      <th>3</th>\n",
       "      <td>0</td>\n",
       "      <td>27</td>\n",
       "      <td>57000</td>\n",
       "      <td>0</td>\n",
       "    </tr>\n",
       "    <tr>\n",
       "      <th>4</th>\n",
       "      <td>1</td>\n",
       "      <td>19</td>\n",
       "      <td>76000</td>\n",
       "      <td>0</td>\n",
       "    </tr>\n",
       "    <tr>\n",
       "      <th>...</th>\n",
       "      <td>...</td>\n",
       "      <td>...</td>\n",
       "      <td>...</td>\n",
       "      <td>...</td>\n",
       "    </tr>\n",
       "    <tr>\n",
       "      <th>395</th>\n",
       "      <td>0</td>\n",
       "      <td>46</td>\n",
       "      <td>41000</td>\n",
       "      <td>1</td>\n",
       "    </tr>\n",
       "    <tr>\n",
       "      <th>396</th>\n",
       "      <td>1</td>\n",
       "      <td>51</td>\n",
       "      <td>23000</td>\n",
       "      <td>1</td>\n",
       "    </tr>\n",
       "    <tr>\n",
       "      <th>397</th>\n",
       "      <td>0</td>\n",
       "      <td>50</td>\n",
       "      <td>20000</td>\n",
       "      <td>1</td>\n",
       "    </tr>\n",
       "    <tr>\n",
       "      <th>398</th>\n",
       "      <td>1</td>\n",
       "      <td>36</td>\n",
       "      <td>33000</td>\n",
       "      <td>0</td>\n",
       "    </tr>\n",
       "    <tr>\n",
       "      <th>399</th>\n",
       "      <td>0</td>\n",
       "      <td>49</td>\n",
       "      <td>36000</td>\n",
       "      <td>1</td>\n",
       "    </tr>\n",
       "  </tbody>\n",
       "</table>\n",
       "<p>400 rows × 4 columns</p>\n",
       "</div>"
      ],
      "text/plain": [
       "     Gender  Age  EstimatedSalary  Purchased\n",
       "0         1   19            19000          0\n",
       "1         1   35            20000          0\n",
       "2         0   26            43000          0\n",
       "3         0   27            57000          0\n",
       "4         1   19            76000          0\n",
       "..      ...  ...              ...        ...\n",
       "395       0   46            41000          1\n",
       "396       1   51            23000          1\n",
       "397       0   50            20000          1\n",
       "398       1   36            33000          0\n",
       "399       0   49            36000          1\n",
       "\n",
       "[400 rows x 4 columns]"
      ]
     },
     "execution_count": 65,
     "metadata": {},
     "output_type": "execute_result"
    }
   ],
   "source": [
    "df_cust"
   ]
  },
  {
   "cell_type": "code",
   "execution_count": 66,
   "metadata": {},
   "outputs": [
    {
     "data": {
      "text/plain": [
       "0    257\n",
       "1    143\n",
       "Name: Purchased, dtype: int64"
      ]
     },
     "execution_count": 66,
     "metadata": {},
     "output_type": "execute_result"
    }
   ],
   "source": [
    "df_cust[\"Purchased\"].value_counts()"
   ]
  },
  {
   "cell_type": "code",
   "execution_count": 67,
   "metadata": {},
   "outputs": [
    {
     "data": {
      "text/plain": [
       "0    204\n",
       "1    196\n",
       "Name: Gender, dtype: int64"
      ]
     },
     "execution_count": 67,
     "metadata": {},
     "output_type": "execute_result"
    }
   ],
   "source": [
    "df_cust[\"Gender\"].value_counts()"
   ]
  },
  {
   "cell_type": "code",
   "execution_count": null,
   "metadata": {},
   "outputs": [],
   "source": []
  },
  {
   "cell_type": "code",
   "execution_count": 68,
   "metadata": {},
   "outputs": [],
   "source": [
    "X = df_cust.drop(columns='Purchased')"
   ]
  },
  {
   "cell_type": "code",
   "execution_count": 69,
   "metadata": {},
   "outputs": [],
   "source": [
    "y = df_cust['Purchased']"
   ]
  },
  {
   "cell_type": "code",
   "execution_count": 70,
   "metadata": {},
   "outputs": [],
   "source": [
    "from sklearn.model_selection import train_test_split"
   ]
  },
  {
   "cell_type": "markdown",
   "metadata": {},
   "source": [
    "# Feature Scaling"
   ]
  },
  {
   "cell_type": "code",
   "execution_count": 71,
   "metadata": {},
   "outputs": [],
   "source": [
    "from sklearn.preprocessing import MinMaxScaler"
   ]
  },
  {
   "cell_type": "code",
   "execution_count": 72,
   "metadata": {},
   "outputs": [],
   "source": [
    "min_max = MinMaxScaler()"
   ]
  },
  {
   "cell_type": "code",
   "execution_count": 73,
   "metadata": {},
   "outputs": [],
   "source": [
    "X = min_max.fit_transform(X)"
   ]
  },
  {
   "cell_type": "code",
   "execution_count": 74,
   "metadata": {},
   "outputs": [
    {
     "name": "stdout",
     "output_type": "stream",
     "text": [
      "[[1.         0.02380952 0.02962963]\n",
      " [1.         0.4047619  0.03703704]\n",
      " [0.         0.19047619 0.20740741]\n",
      " ...\n",
      " [0.         0.76190476 0.03703704]\n",
      " [1.         0.42857143 0.13333333]\n",
      " [0.         0.73809524 0.15555556]]\n"
     ]
    }
   ],
   "source": [
    "print(X)"
   ]
  },
  {
   "cell_type": "code",
   "execution_count": 75,
   "metadata": {},
   "outputs": [],
   "source": [
    "X_train, X_test, y_train, y_test = train_test_split(X,y, test_size = 0.25, random_state =42)"
   ]
  },
  {
   "cell_type": "code",
   "execution_count": 76,
   "metadata": {},
   "outputs": [
    {
     "data": {
      "text/plain": [
       "array([[0.        , 0.92857143, 0.79259259],\n",
       "       [0.        , 0.5       , 0.41481481],\n",
       "       [1.        , 0.69047619, 0.07407407],\n",
       "       [1.        , 0.14285714, 0.02962963],\n",
       "       [0.        , 0.42857143, 0.25925926],\n",
       "       [0.        , 0.33333333, 1.        ],\n",
       "       [0.        , 0.71428571, 0.1037037 ],\n",
       "       [1.        , 0.28571429, 0.68148148],\n",
       "       [1.        , 1.        , 0.14074074],\n",
       "       [1.        , 0.47619048, 0.34074074],\n",
       "       [1.        , 0.35714286, 0.11851852],\n",
       "       [1.        , 0.5       , 0.41481481],\n",
       "       [1.        , 0.88095238, 0.17777778],\n",
       "       [0.        , 0.73809524, 0.17777778],\n",
       "       [0.        , 0.5952381 , 0.71851852],\n",
       "       [1.        , 0.21428571, 0.03703704],\n",
       "       [0.        , 0.19047619, 0.01481481],\n",
       "       [0.        , 0.45238095, 0.57777778],\n",
       "       [1.        , 0.57142857, 0.28888889],\n",
       "       [1.        , 0.4047619 , 0.34074074],\n",
       "       [1.        , 0.26190476, 0.44444444],\n",
       "       [0.        , 0.47619048, 0.48148148],\n",
       "       [1.        , 0.64285714, 0.08148148],\n",
       "       [0.        , 0.85714286, 0.68888889],\n",
       "       [1.        , 0.66666667, 0.05925926],\n",
       "       [0.        , 0.11904762, 0.0962963 ],\n",
       "       [1.        , 0.45238095, 0.44444444],\n",
       "       [1.        , 0.57142857, 0.37037037],\n",
       "       [0.        , 0.4047619 , 0.41481481],\n",
       "       [0.        , 0.78571429, 0.97037037],\n",
       "       [1.        , 0.5       , 0.6       ],\n",
       "       [0.        , 0.14285714, 0.54814815],\n",
       "       [0.        , 0.95238095, 0.59259259],\n",
       "       [1.        , 0.16666667, 0.05185185],\n",
       "       [1.        , 0.54761905, 0.32592593],\n",
       "       [1.        , 0.23809524, 0.54814815],\n",
       "       [0.        , 0.57142857, 0.48148148],\n",
       "       [0.        , 0.57142857, 0.68888889],\n",
       "       [0.        , 0.66666667, 0.6       ],\n",
       "       [0.        , 0.69047619, 0.72592593],\n",
       "       [0.        , 0.35714286, 0.0962963 ],\n",
       "       [1.        , 0.02380952, 0.07407407],\n",
       "       [1.        , 0.73809524, 0.54814815],\n",
       "       [0.        , 0.30952381, 0.        ],\n",
       "       [0.        , 0.28571429, 0.47407407],\n",
       "       [1.        , 0.71428571, 0.93333333],\n",
       "       [0.        , 0.33333333, 0.75555556],\n",
       "       [0.        , 0.45238095, 0.41481481],\n",
       "       [0.        , 0.        , 0.52592593],\n",
       "       [0.        , 0.57142857, 0.47407407],\n",
       "       [0.        , 0.21428571, 0.51111111],\n",
       "       [1.        , 0.52380952, 0.37037037],\n",
       "       [1.        , 0.92857143, 0.43703704],\n",
       "       [0.        , 0.19047619, 0.        ],\n",
       "       [0.        , 0.19047619, 0.48148148],\n",
       "       [1.        , 0.26190476, 0.20740741],\n",
       "       [0.        , 0.35714286, 0.99259259],\n",
       "       [1.        , 0.5       , 0.2       ],\n",
       "       [0.        , 0.85714286, 0.65925926],\n",
       "       [1.        , 0.42857143, 0.13333333],\n",
       "       [0.        , 0.66666667, 0.12592593],\n",
       "       [0.        , 0.52380952, 0.94074074],\n",
       "       [0.        , 0.45238095, 0.34814815],\n",
       "       [1.        , 0.26190476, 0.98518519],\n",
       "       [0.        , 0.45238095, 0.31111111],\n",
       "       [1.        , 0.4047619 , 0.25925926],\n",
       "       [0.        , 0.57142857, 0.28148148],\n",
       "       [1.        , 0.4047619 , 0.17037037],\n",
       "       [0.        , 0.54761905, 0.11111111],\n",
       "       [0.        , 0.52380952, 0.42222222],\n",
       "       [1.        , 0.19047619, 0.        ],\n",
       "       [0.        , 0.30952381, 0.39259259],\n",
       "       [1.        , 0.4047619 , 0.28148148],\n",
       "       [0.        , 0.4047619 , 0.07407407],\n",
       "       [1.        , 0.28571429, 0.54814815],\n",
       "       [1.        , 0.54761905, 0.42222222],\n",
       "       [1.        , 0.23809524, 0.8       ],\n",
       "       [0.        , 0.66666667, 0.4962963 ],\n",
       "       [0.        , 0.0952381 , 0.35555556],\n",
       "       [0.        , 0.64285714, 0.05185185],\n",
       "       [1.        , 0.28571429, 0.25185185],\n",
       "       [0.        , 0.38095238, 0.07407407],\n",
       "       [0.        , 0.52380952, 0.44444444],\n",
       "       [0.        , 0.33333333, 0.75555556],\n",
       "       [0.        , 0.11904762, 0.4962963 ],\n",
       "       [1.        , 0.19047619, 0.48148148],\n",
       "       [0.        , 0.71428571, 0.85925926],\n",
       "       [1.        , 0.97619048, 0.94814815],\n",
       "       [1.        , 0.4047619 , 0.2962963 ],\n",
       "       [1.        , 0.38095238, 0.20740741],\n",
       "       [0.        , 0.5       , 0.34074074],\n",
       "       [0.        , 0.21428571, 0.6       ],\n",
       "       [1.        , 1.        , 0.5037037 ],\n",
       "       [1.        , 0.14285714, 0.2962963 ],\n",
       "       [1.        , 0.95238095, 0.95555556],\n",
       "       [0.        , 0.83333333, 0.65925926],\n",
       "       [1.        , 0.4047619 , 0.47407407],\n",
       "       [1.        , 0.42857143, 0.62222222],\n",
       "       [1.        , 0.92857143, 0.33333333],\n",
       "       [0.        , 0.45238095, 0.9037037 ],\n",
       "       [1.        , 0.35714286, 0.20740741],\n",
       "       [0.        , 0.54761905, 0.41481481],\n",
       "       [0.        , 0.80952381, 0.04444444],\n",
       "       [1.        , 0.80952381, 1.        ],\n",
       "       [1.        , 0.45238095, 0.40740741],\n",
       "       [0.        , 0.19047619, 0.51111111],\n",
       "       [0.        , 0.19047619, 0.42222222],\n",
       "       [0.        , 0.19047619, 0.27407407],\n",
       "       [0.        , 0.54761905, 0.33333333],\n",
       "       [1.        , 0.30952381, 0.37777778],\n",
       "       [1.        , 0.45238095, 0.95555556],\n",
       "       [1.        , 0.47619048, 0.34074074],\n",
       "       [0.        , 0.30952381, 0.14074074],\n",
       "       [0.        , 0.57142857, 0.44444444],\n",
       "       [1.        , 0.66666667, 0.75555556],\n",
       "       [1.        , 0.42857143, 0.27407407],\n",
       "       [1.        , 0.47619048, 0.41481481],\n",
       "       [1.        , 0.73809524, 0.54074074],\n",
       "       [0.        , 0.92857143, 0.13333333],\n",
       "       [0.        , 0.71428571, 0.91111111],\n",
       "       [0.        , 0.69047619, 0.25925926],\n",
       "       [0.        , 0.35714286, 0.4       ],\n",
       "       [0.        , 0.45238095, 0.97037037],\n",
       "       [0.        , 0.04761905, 0.4962963 ],\n",
       "       [1.        , 0.52380952, 0.23703704],\n",
       "       [1.        , 0.4047619 , 0.05185185],\n",
       "       [0.        , 0.04761905, 0.15555556],\n",
       "       [0.        , 0.64285714, 0.22222222],\n",
       "       [0.        , 0.19047619, 0.20740741],\n",
       "       [0.        , 0.95238095, 0.63703704],\n",
       "       [1.        , 0.52380952, 0.31111111],\n",
       "       [0.        , 0.47619048, 0.71851852],\n",
       "       [0.        , 0.45238095, 0.48148148],\n",
       "       [1.        , 0.73809524, 0.0962963 ],\n",
       "       [0.        , 0.42857143, 0.44444444],\n",
       "       [0.        , 0.54761905, 0.42222222],\n",
       "       [0.        , 0.4047619 , 0.33333333],\n",
       "       [1.        , 0.5952381 , 0.84444444],\n",
       "       [1.        , 0.54761905, 0.53333333],\n",
       "       [0.        , 0.47619048, 0.72592593],\n",
       "       [0.        , 0.95238095, 0.05925926],\n",
       "       [1.        , 0.19047619, 0.12592593],\n",
       "       [1.        , 0.33333333, 0.02222222],\n",
       "       [1.        , 0.54761905, 0.27407407],\n",
       "       [1.        , 0.30952381, 0.02222222],\n",
       "       [1.        , 0.4047619 , 0.54074074],\n",
       "       [0.        , 0.71428571, 0.14814815],\n",
       "       [1.        , 0.21428571, 0.54814815],\n",
       "       [0.        , 0.4047619 , 0.60740741],\n",
       "       [1.        , 0.57142857, 0.42962963],\n",
       "       [0.        , 0.07142857, 0.39259259],\n",
       "       [0.        , 0.54761905, 0.42222222],\n",
       "       [0.        , 0.35714286, 0.33333333],\n",
       "       [1.        , 0.5       , 0.88148148],\n",
       "       [0.        , 0.23809524, 0.51111111],\n",
       "       [1.        , 0.66666667, 0.54074074],\n",
       "       [1.        , 0.14285714, 0.31851852],\n",
       "       [0.        , 0.30952381, 0.76296296],\n",
       "       [0.        , 0.76190476, 0.54074074],\n",
       "       [0.        , 0.04761905, 0.4962963 ],\n",
       "       [0.        , 0.33333333, 0.88888889],\n",
       "       [1.        , 0.04761905, 0.52592593],\n",
       "       [1.        , 0.4047619 , 0.08888889],\n",
       "       [1.        , 0.26190476, 0.20740741],\n",
       "       [1.        , 0.07142857, 0.54074074],\n",
       "       [1.        , 0.4047619 , 0.32592593],\n",
       "       [1.        , 0.64285714, 0.12592593],\n",
       "       [1.        , 1.        , 0.2       ],\n",
       "       [1.        , 0.4047619 , 0.56296296],\n",
       "       [0.        , 0.4047619 , 0.21481481],\n",
       "       [0.        , 0.        , 0.21481481],\n",
       "       [1.        , 0.57142857, 0.99259259],\n",
       "       [1.        , 0.64285714, 0.47407407],\n",
       "       [0.        , 0.52380952, 0.33333333],\n",
       "       [1.        , 0.14285714, 0.05925926],\n",
       "       [0.        , 0.35714286, 0.26666667],\n",
       "       [0.        , 0.57142857, 0.40740741],\n",
       "       [0.        , 0.88095238, 0.85185185],\n",
       "       [0.        , 0.76190476, 0.21481481],\n",
       "       [0.        , 0.71428571, 0.77037037],\n",
       "       [1.        , 0.02380952, 0.45185185],\n",
       "       [0.        , 0.54761905, 0.42222222],\n",
       "       [1.        , 0.52380952, 0.41481481],\n",
       "       [1.        , 0.21428571, 0.54074074],\n",
       "       [0.        , 0.42857143, 0.82222222],\n",
       "       [1.        , 0.4047619 , 0.44444444],\n",
       "       [1.        , 0.4047619 , 0.31851852],\n",
       "       [1.        , 0.38095238, 0.74074074],\n",
       "       [1.        , 0.4047619 , 0.42962963],\n",
       "       [0.        , 1.        , 0.68888889],\n",
       "       [1.        , 0.16666667, 0.53333333],\n",
       "       [0.        , 0.21428571, 0.28888889],\n",
       "       [0.        , 0.07142857, 0.00740741],\n",
       "       [1.        , 0.45238095, 0.43703704],\n",
       "       [1.        , 0.4047619 , 0.17777778],\n",
       "       [1.        , 0.85714286, 0.40740741],\n",
       "       [0.        , 0.69047619, 0.11111111],\n",
       "       [0.        , 0.47619048, 0.25925926],\n",
       "       [0.        , 0.4047619 , 0.97777778],\n",
       "       [0.        , 0.4047619 , 0.45925926],\n",
       "       [1.        , 0.54761905, 0.47407407],\n",
       "       [0.        , 0.45238095, 0.13333333],\n",
       "       [0.        , 1.        , 0.22962963],\n",
       "       [0.        , 0.23809524, 0.32592593],\n",
       "       [0.        , 0.11904762, 0.37777778],\n",
       "       [1.        , 0.11904762, 0.35555556],\n",
       "       [1.        , 0.28571429, 0.01481481],\n",
       "       [1.        , 0.16666667, 0.13333333],\n",
       "       [0.        , 0.97619048, 0.5037037 ],\n",
       "       [0.        , 0.95238095, 0.17037037],\n",
       "       [1.        , 0.        , 0.4962963 ],\n",
       "       [1.        , 0.66666667, 0.32592593],\n",
       "       [0.        , 0.21428571, 0.01481481],\n",
       "       [0.        , 0.95238095, 0.23703704],\n",
       "       [0.        , 0.71428571, 0.11111111],\n",
       "       [1.        , 0.73809524, 0.37037037],\n",
       "       [0.        , 0.76190476, 0.15555556],\n",
       "       [1.        , 0.83333333, 0.42222222],\n",
       "       [1.        , 0.52380952, 0.31111111],\n",
       "       [0.        , 0.80952381, 0.73333333],\n",
       "       [0.        , 0.97619048, 0.2       ],\n",
       "       [0.        , 0.42857143, 0.35555556],\n",
       "       [1.        , 0.57142857, 0.65925926],\n",
       "       [1.        , 0.45238095, 0.27407407],\n",
       "       [1.        , 0.71428571, 0.13333333],\n",
       "       [0.        , 0.97619048, 0.1037037 ],\n",
       "       [1.        , 0.45238095, 0.47407407],\n",
       "       [1.        , 0.52380952, 0.34074074],\n",
       "       [1.        , 0.73809524, 0.43703704],\n",
       "       [1.        , 0.16666667, 0.55555556],\n",
       "       [1.        , 0.28571429, 0.        ],\n",
       "       [1.        , 0.52380952, 0.46666667],\n",
       "       [1.        , 0.14285714, 0.51111111],\n",
       "       [0.        , 0.47619048, 0.25925926],\n",
       "       [0.        , 0.64285714, 0.85925926],\n",
       "       [1.        , 0.07142857, 0.42222222],\n",
       "       [0.        , 0.4047619 , 0.05925926],\n",
       "       [1.        , 0.4047619 , 0.03703704],\n",
       "       [0.        , 0.30952381, 0.54814815],\n",
       "       [1.        , 0.28571429, 0.48148148],\n",
       "       [0.        , 0.69047619, 0.23703704],\n",
       "       [1.        , 0.21428571, 0.55555556],\n",
       "       [0.        , 0.4047619 , 0.42222222],\n",
       "       [0.        , 0.28571429, 0.74814815],\n",
       "       [1.        , 0.5       , 0.79259259],\n",
       "       [0.        , 0.26190476, 0.5037037 ],\n",
       "       [0.        , 0.54761905, 0.35555556],\n",
       "       [1.        , 0.71428571, 0.55555556],\n",
       "       [1.        , 0.47619048, 0.32592593],\n",
       "       [1.        , 0.33333333, 0.02222222],\n",
       "       [0.        , 0.5       , 0.44444444],\n",
       "       [1.        , 0.19047619, 0.48888889],\n",
       "       [1.        , 0.5       , 0.67407407],\n",
       "       [0.        , 0.0952381 , 0.2962963 ],\n",
       "       [1.        , 0.42857143, 0.76296296],\n",
       "       [1.        , 1.        , 0.2       ],\n",
       "       [0.        , 0.23809524, 0.2962963 ],\n",
       "       [0.        , 0.78571429, 0.88148148],\n",
       "       [1.        , 0.73809524, 0.0962963 ],\n",
       "       [1.        , 0.42857143, 0.33333333],\n",
       "       [0.        , 0.9047619 , 0.65925926],\n",
       "       [0.        , 0.21428571, 0.31851852],\n",
       "       [0.        , 0.14285714, 0.12592593],\n",
       "       [0.        , 0.38095238, 0.42222222],\n",
       "       [1.        , 0.23809524, 0.12592593],\n",
       "       [0.        , 0.76190476, 0.03703704],\n",
       "       [0.        , 0.35714286, 0.19259259],\n",
       "       [0.        , 0.26190476, 0.23703704],\n",
       "       [1.        , 0.0952381 , 0.02222222],\n",
       "       [1.        , 0.28571429, 0.88888889],\n",
       "       [1.        , 0.69047619, 0.66666667],\n",
       "       [1.        , 0.66666667, 0.47407407],\n",
       "       [0.        , 0.71428571, 0.88148148],\n",
       "       [0.        , 0.69047619, 0.25185185],\n",
       "       [0.        , 0.73809524, 0.93333333],\n",
       "       [1.        , 0.33333333, 0.62962963],\n",
       "       [1.        , 0.47619048, 0.41481481],\n",
       "       [0.        , 0.02380952, 0.08148148],\n",
       "       [1.        , 0.45238095, 0.45925926],\n",
       "       [0.        , 0.69047619, 0.26666667],\n",
       "       [1.        , 0.52380952, 0.31111111],\n",
       "       [1.        , 0.42857143, 0.81481481],\n",
       "       [1.        , 0.04761905, 0.43703704],\n",
       "       [1.        , 0.30952381, 0.31851852],\n",
       "       [1.        , 0.54761905, 0.22222222],\n",
       "       [1.        , 0.57142857, 0.28888889],\n",
       "       [0.        , 0.23809524, 0.16296296],\n",
       "       [0.        , 0.5       , 0.42962963],\n",
       "       [0.        , 0.23809524, 0.51851852],\n",
       "       [1.        , 0.47619048, 0.26666667],\n",
       "       [1.        , 0.69047619, 0.20740741],\n",
       "       [1.        , 0.45238095, 0.42222222],\n",
       "       [0.        , 0.73809524, 0.15555556],\n",
       "       [1.        , 0.64285714, 0.05185185],\n",
       "       [1.        , 0.4047619 , 0.42222222],\n",
       "       [0.        , 0.14285714, 0.08888889],\n",
       "       [0.        , 0.19047619, 0.14814815],\n",
       "       [0.        , 0.5952381 , 0.87407407],\n",
       "       [1.        , 0.5       , 0.45925926],\n",
       "       [0.        , 0.33333333, 0.52592593]])"
      ]
     },
     "execution_count": 76,
     "metadata": {},
     "output_type": "execute_result"
    }
   ],
   "source": [
    "X_train"
   ]
  },
  {
   "cell_type": "code",
   "execution_count": null,
   "metadata": {},
   "outputs": [],
   "source": []
  },
  {
   "cell_type": "code",
   "execution_count": 77,
   "metadata": {},
   "outputs": [],
   "source": [
    "#using knn\n",
    "\n",
    "from sklearn.neighbors import KNeighborsClassifier"
   ]
  },
  {
   "cell_type": "code",
   "execution_count": 78,
   "metadata": {},
   "outputs": [],
   "source": [
    "knn = KNeighborsClassifier()"
   ]
  },
  {
   "cell_type": "code",
   "execution_count": 79,
   "metadata": {},
   "outputs": [
    {
     "data": {
      "text/plain": [
       "KNeighborsClassifier()"
      ]
     },
     "execution_count": 79,
     "metadata": {},
     "output_type": "execute_result"
    }
   ],
   "source": [
    "knn.fit(X_train, y_train)"
   ]
  },
  {
   "cell_type": "code",
   "execution_count": 80,
   "metadata": {},
   "outputs": [],
   "source": [
    "knn_pred = knn.predict(X_test)"
   ]
  },
  {
   "cell_type": "code",
   "execution_count": 81,
   "metadata": {},
   "outputs": [
    {
     "data": {
      "text/plain": [
       "array([1, 1, 0, 1, 0, 0, 1, 0, 0, 0, 0, 1, 0, 0, 0, 1, 1, 0, 0, 1, 0, 0,\n",
       "       1, 1, 0, 1, 0, 0, 1, 0, 1, 0, 1, 0, 1, 0, 0, 0, 0, 0, 1, 0, 0, 1,\n",
       "       0, 1, 0, 0, 1, 0, 0, 1, 0, 0, 0, 0, 1, 1, 0, 0, 0, 0, 1, 0, 0, 1,\n",
       "       0, 1, 0, 1, 1, 0, 0, 0, 1, 0, 1, 1, 0, 0, 0, 1, 1, 1, 1, 1, 0, 0,\n",
       "       0, 0, 1, 0, 0, 0, 0, 0, 1, 0, 1, 1], dtype=int64)"
      ]
     },
     "execution_count": 81,
     "metadata": {},
     "output_type": "execute_result"
    }
   ],
   "source": [
    "knn_pred"
   ]
  },
  {
   "cell_type": "code",
   "execution_count": 82,
   "metadata": {},
   "outputs": [],
   "source": [
    "from sklearn.metrics import accuracy_score"
   ]
  },
  {
   "cell_type": "code",
   "execution_count": 83,
   "metadata": {},
   "outputs": [],
   "source": [
    "acc_knn = accuracy_score(y_test, knn_pred)"
   ]
  },
  {
   "cell_type": "code",
   "execution_count": 84,
   "metadata": {},
   "outputs": [
    {
     "data": {
      "text/plain": [
       "0.92"
      ]
     },
     "execution_count": 84,
     "metadata": {},
     "output_type": "execute_result"
    }
   ],
   "source": [
    "acc_knn"
   ]
  },
  {
   "cell_type": "code",
   "execution_count": 85,
   "metadata": {},
   "outputs": [],
   "source": [
    "knn_prob = knn.predict_proba(X_test)"
   ]
  },
  {
   "cell_type": "code",
   "execution_count": 86,
   "metadata": {},
   "outputs": [],
   "source": [
    "knn_prob = pd.DataFrame(knn_prob, columns=['yes', 'no'])"
   ]
  },
  {
   "cell_type": "code",
   "execution_count": 87,
   "metadata": {},
   "outputs": [
    {
     "data": {
      "text/html": [
       "<div>\n",
       "<style scoped>\n",
       "    .dataframe tbody tr th:only-of-type {\n",
       "        vertical-align: middle;\n",
       "    }\n",
       "\n",
       "    .dataframe tbody tr th {\n",
       "        vertical-align: top;\n",
       "    }\n",
       "\n",
       "    .dataframe thead th {\n",
       "        text-align: right;\n",
       "    }\n",
       "</style>\n",
       "<table border=\"1\" class=\"dataframe\">\n",
       "  <thead>\n",
       "    <tr style=\"text-align: right;\">\n",
       "      <th></th>\n",
       "      <th>yes</th>\n",
       "      <th>no</th>\n",
       "    </tr>\n",
       "  </thead>\n",
       "  <tbody>\n",
       "    <tr>\n",
       "      <th>0</th>\n",
       "      <td>0.0</td>\n",
       "      <td>1.0</td>\n",
       "    </tr>\n",
       "    <tr>\n",
       "      <th>1</th>\n",
       "      <td>0.2</td>\n",
       "      <td>0.8</td>\n",
       "    </tr>\n",
       "    <tr>\n",
       "      <th>2</th>\n",
       "      <td>1.0</td>\n",
       "      <td>0.0</td>\n",
       "    </tr>\n",
       "    <tr>\n",
       "      <th>3</th>\n",
       "      <td>0.4</td>\n",
       "      <td>0.6</td>\n",
       "    </tr>\n",
       "    <tr>\n",
       "      <th>4</th>\n",
       "      <td>1.0</td>\n",
       "      <td>0.0</td>\n",
       "    </tr>\n",
       "    <tr>\n",
       "      <th>...</th>\n",
       "      <td>...</td>\n",
       "      <td>...</td>\n",
       "    </tr>\n",
       "    <tr>\n",
       "      <th>95</th>\n",
       "      <td>0.8</td>\n",
       "      <td>0.2</td>\n",
       "    </tr>\n",
       "    <tr>\n",
       "      <th>96</th>\n",
       "      <td>0.2</td>\n",
       "      <td>0.8</td>\n",
       "    </tr>\n",
       "    <tr>\n",
       "      <th>97</th>\n",
       "      <td>1.0</td>\n",
       "      <td>0.0</td>\n",
       "    </tr>\n",
       "    <tr>\n",
       "      <th>98</th>\n",
       "      <td>0.2</td>\n",
       "      <td>0.8</td>\n",
       "    </tr>\n",
       "    <tr>\n",
       "      <th>99</th>\n",
       "      <td>0.2</td>\n",
       "      <td>0.8</td>\n",
       "    </tr>\n",
       "  </tbody>\n",
       "</table>\n",
       "<p>100 rows × 2 columns</p>\n",
       "</div>"
      ],
      "text/plain": [
       "    yes   no\n",
       "0   0.0  1.0\n",
       "1   0.2  0.8\n",
       "2   1.0  0.0\n",
       "3   0.4  0.6\n",
       "4   1.0  0.0\n",
       "..  ...  ...\n",
       "95  0.8  0.2\n",
       "96  0.2  0.8\n",
       "97  1.0  0.0\n",
       "98  0.2  0.8\n",
       "99  0.2  0.8\n",
       "\n",
       "[100 rows x 2 columns]"
      ]
     },
     "execution_count": 87,
     "metadata": {},
     "output_type": "execute_result"
    }
   ],
   "source": [
    "knn_prob"
   ]
  },
  {
   "cell_type": "code",
   "execution_count": 88,
   "metadata": {},
   "outputs": [
    {
     "data": {
      "image/png": "[encoded data removed]",
      "text/plain": [
       "<Figure size 360x360 with 6 Axes>"
      ]
     },
     "metadata": {
      "needs_background": "light"
     },
     "output_type": "display_data"
    }
   ],
   "source": [
    "sns.pairplot(knn_prob)\n",
    "plt.show()"
   ]
  },
  {
   "cell_type": "markdown",
   "metadata": {},
   "source": [
    "# GridSearch for hyperparameter tuning"
   ]
  },
  {
   "cell_type": "code",
   "execution_count": 89,
   "metadata": {},
   "outputs": [],
   "source": [
    "from sklearn.model_selection import GridSearchCV"
   ]
  },
  {
   "cell_type": "code",
   "execution_count": 90,
   "metadata": {},
   "outputs": [],
   "source": [
    "knn_param = [{'n_neighbors': [3,5,7,9],\n",
    "              'weights': ['uniform', 'distance'], \n",
    "              'algorithm': ['auto', 'brute', 'kd_tree'],\n",
    "              'leaf_size': [5,15,20]}]"
   ]
  },
  {
   "cell_type": "code",
   "execution_count": 91,
   "metadata": {},
   "outputs": [],
   "source": [
    "gs_knn = GridSearchCV(knn,\n",
    "                      param_grid=knn_param,\n",
    "                      scoring= 'recall',\n",
    "                      cv=5)\n",
    "\n"
   ]
  },
  {
   "cell_type": "code",
   "execution_count": 92,
   "metadata": {},
   "outputs": [
    {
     "data": {
      "text/plain": [
       "GridSearchCV(cv=5, estimator=KNeighborsClassifier(),\n",
       "             param_grid=[{'algorithm': ['auto', 'brute', 'kd_tree'],\n",
       "                          'leaf_size': [5, 15, 20], 'n_neighbors': [3, 5, 7, 9],\n",
       "                          'weights': ['uniform', 'distance']}],\n",
       "             scoring='recall')"
      ]
     },
     "execution_count": 92,
     "metadata": {},
     "output_type": "execute_result"
    }
   ],
   "source": [
    "gs_knn.fit(X_train, y_train)\n",
    "#"
   ]
  },
  {
   "cell_type": "code",
   "execution_count": 93,
   "metadata": {},
   "outputs": [
    {
     "data": {
      "text/plain": [
       "{'algorithm': 'auto', 'leaf_size': 5, 'n_neighbors': 5, 'weights': 'uniform'}"
      ]
     },
     "execution_count": 93,
     "metadata": {},
     "output_type": "execute_result"
    }
   ],
   "source": [
    "gs_knn.best_params_"
   ]
  },
  {
   "cell_type": "code",
   "execution_count": 94,
   "metadata": {},
   "outputs": [
    {
     "data": {
      "text/plain": [
       "0.918918918918919"
      ]
     },
     "execution_count": 94,
     "metadata": {},
     "output_type": "execute_result"
    }
   ],
   "source": [
    "gs_knn.score(X_test, y_test)"
   ]
  },
  {
   "cell_type": "code",
   "execution_count": 95,
   "metadata": {},
   "outputs": [],
   "source": [
    "from sklearn.svm import SVC"
   ]
  },
  {
   "cell_type": "code",
   "execution_count": 96,
   "metadata": {},
   "outputs": [],
   "source": [
    "svm_ = SVC(kernel='linear')"
   ]
  },
  {
   "cell_type": "code",
   "execution_count": 97,
   "metadata": {},
   "outputs": [
    {
     "data": {
      "text/plain": [
       "SVC(kernel='linear')"
      ]
     },
     "execution_count": 97,
     "metadata": {},
     "output_type": "execute_result"
    }
   ],
   "source": [
    "svm_.fit(X_train, y_train)"
   ]
  },
  {
   "cell_type": "code",
   "execution_count": 98,
   "metadata": {},
   "outputs": [],
   "source": [
    "svm_pred = svm_.predict(X_test)"
   ]
  },
  {
   "cell_type": "code",
   "execution_count": 99,
   "metadata": {},
   "outputs": [
    {
     "data": {
      "text/plain": [
       "array([0, 1, 0, 1, 0, 0, 1, 0, 0, 0, 0, 1, 0, 0, 0, 0, 1, 1, 0, 1, 0, 0,\n",
       "       0, 1, 0, 0, 0, 0, 1, 0, 0, 0, 1, 0, 1, 0, 0, 0, 0, 0, 0, 0, 0, 0,\n",
       "       0, 1, 0, 0, 0, 0, 0, 1, 0, 0, 0, 0, 1, 0, 0, 0, 0, 0, 1, 0, 0, 0,\n",
       "       1, 1, 0, 0, 1, 0, 0, 0, 0, 0, 1, 1, 0, 0, 0, 0, 1, 0, 1, 0, 0, 1,\n",
       "       0, 0, 1, 0, 0, 0, 0, 0, 1, 0, 1, 0], dtype=int64)"
      ]
     },
     "execution_count": 99,
     "metadata": {},
     "output_type": "execute_result"
    }
   ],
   "source": [
    "svm_pred"
   ]
  },
  {
   "cell_type": "code",
   "execution_count": 100,
   "metadata": {},
   "outputs": [],
   "source": [
    "svm_acc = accuracy_score(y_test, svm_pred)"
   ]
  },
  {
   "cell_type": "code",
   "execution_count": 101,
   "metadata": {},
   "outputs": [
    {
     "data": {
      "text/plain": [
       "0.87"
      ]
     },
     "execution_count": 101,
     "metadata": {},
     "output_type": "execute_result"
    }
   ],
   "source": [
    "svm_acc"
   ]
  },
  {
   "cell_type": "code",
   "execution_count": 102,
   "metadata": {},
   "outputs": [],
   "source": [
    "from imblearn.over_sampling import SMOTE\n",
    "sm = SMOTE(random_state=42)\n"
   ]
  },
  {
   "cell_type": "code",
   "execution_count": 103,
   "metadata": {},
   "outputs": [],
   "source": [
    "X_res, y_res = sm.fit_resample(X,y)"
   ]
  },
  {
   "cell_type": "code",
   "execution_count": 104,
   "metadata": {},
   "outputs": [],
   "source": [
    "X_res = min_max.fit_transform(X_res)"
   ]
  },
  {
   "cell_type": "code",
   "execution_count": null,
   "metadata": {},
   "outputs": [],
   "source": []
  },
  {
   "cell_type": "code",
   "execution_count": null,
   "metadata": {},
   "outputs": [],
   "source": []
  },
  {
   "cell_type": "code",
   "execution_count": 105,
   "metadata": {},
   "outputs": [],
   "source": [
    "X_train1, X_test1, y_train1, y_test1 = train_test_split(X_res,y_res, test_size = 0.25, random_state =42)"
   ]
  },
  {
   "cell_type": "code",
   "execution_count": 106,
   "metadata": {},
   "outputs": [
    {
     "data": {
      "text/plain": [
       "1    257\n",
       "0    257\n",
       "Name: Purchased, dtype: int64"
      ]
     },
     "execution_count": 106,
     "metadata": {},
     "output_type": "execute_result"
    }
   ],
   "source": [
    "y_res.value_counts()"
   ]
  },
  {
   "cell_type": "code",
   "execution_count": 107,
   "metadata": {},
   "outputs": [
    {
     "data": {
      "text/plain": [
       "KNeighborsClassifier()"
      ]
     },
     "execution_count": 107,
     "metadata": {},
     "output_type": "execute_result"
    }
   ],
   "source": [
    "knn.fit(X_train1, y_train1)"
   ]
  },
  {
   "cell_type": "code",
   "execution_count": 108,
   "metadata": {},
   "outputs": [],
   "source": [
    "knn_pred2 = knn.predict(X_test1)"
   ]
  },
  {
   "cell_type": "code",
   "execution_count": 109,
   "metadata": {},
   "outputs": [
    {
     "data": {
      "text/plain": [
       "array([0, 1, 0, 0, 1, 0, 1, 1, 0, 1, 1, 0, 0, 0, 0, 1, 0, 0, 0, 0, 1, 1,\n",
       "       0, 1, 0, 1, 0, 1, 0, 1, 0, 1, 0, 0, 0, 1, 1, 0, 1, 0, 1, 0, 0, 0,\n",
       "       1, 1, 0, 1, 0, 1, 0, 0, 1, 1, 0, 0, 0, 1, 0, 1, 1, 0, 1, 0, 1, 1,\n",
       "       0, 1, 1, 0, 0, 0, 1, 0, 0, 0, 0, 1, 1, 1, 0, 0, 0, 0, 0, 1, 0, 1,\n",
       "       1, 1, 0, 0, 0, 1, 0, 0, 0, 1, 1, 0, 1, 1, 1, 1, 1, 0, 1, 1, 1, 1,\n",
       "       0, 0, 1, 0, 1, 1, 1, 0, 1, 1, 1, 0, 1, 0, 1, 1, 1, 1, 0],\n",
       "      dtype=int64)"
      ]
     },
     "execution_count": 109,
     "metadata": {},
     "output_type": "execute_result"
    }
   ],
   "source": [
    "knn_pred2"
   ]
  },
  {
   "cell_type": "code",
   "execution_count": 110,
   "metadata": {},
   "outputs": [],
   "source": [
    "knn_acc2 = accuracy_score(y_test1, knn_pred2)"
   ]
  },
  {
   "cell_type": "code",
   "execution_count": 111,
   "metadata": {},
   "outputs": [
    {
     "data": {
      "text/plain": [
       "0.9147286821705426"
      ]
     },
     "execution_count": 111,
     "metadata": {},
     "output_type": "execute_result"
    }
   ],
   "source": [
    "knn_acc2"
   ]
  },
  {
   "cell_type": "code",
   "execution_count": null,
   "metadata": {},
   "outputs": [],
   "source": []
  },
  {
   "cell_type": "code",
   "execution_count": 112,
   "metadata": {},
   "outputs": [
    {
     "data": {
      "text/plain": [
       "SVC(kernel='linear')"
      ]
     },
     "execution_count": 112,
     "metadata": {},
     "output_type": "execute_result"
    }
   ],
   "source": [
    "svm_.fit(X_train1, y_train1)"
   ]
  },
  {
   "cell_type": "code",
   "execution_count": 113,
   "metadata": {},
   "outputs": [],
   "source": [
    "svm_pred2 = svm_.predict(X_test1)"
   ]
  },
  {
   "cell_type": "code",
   "execution_count": 114,
   "metadata": {},
   "outputs": [
    {
     "data": {
      "text/plain": [
       "array([0, 1, 0, 0, 1, 0, 1, 1, 1, 1, 1, 1, 0, 0, 0, 1, 0, 0, 0, 0, 1, 0,\n",
       "       0, 1, 0, 1, 0, 1, 0, 1, 1, 1, 0, 0, 0, 1, 0, 0, 1, 0, 1, 0, 0, 0,\n",
       "       0, 1, 0, 1, 0, 1, 0, 1, 1, 0, 1, 0, 0, 1, 0, 0, 0, 0, 0, 0, 1, 0,\n",
       "       0, 1, 1, 0, 0, 0, 1, 0, 1, 0, 0, 1, 1, 0, 0, 0, 1, 0, 0, 0, 0, 1,\n",
       "       1, 1, 0, 1, 1, 1, 0, 1, 0, 1, 1, 0, 1, 1, 1, 1, 1, 0, 1, 0, 1, 1,\n",
       "       0, 0, 1, 1, 1, 1, 1, 0, 1, 1, 1, 0, 1, 0, 1, 1, 1, 1, 0],\n",
       "      dtype=int64)"
      ]
     },
     "execution_count": 114,
     "metadata": {},
     "output_type": "execute_result"
    }
   ],
   "source": [
    "svm_pred2"
   ]
  },
  {
   "cell_type": "code",
   "execution_count": 115,
   "metadata": {},
   "outputs": [],
   "source": [
    "svm_acc2 = accuracy_score(y_test1, svm_pred2)"
   ]
  },
  {
   "cell_type": "code",
   "execution_count": 116,
   "metadata": {},
   "outputs": [
    {
     "data": {
      "text/plain": [
       "0.8372093023255814"
      ]
     },
     "execution_count": 116,
     "metadata": {},
     "output_type": "execute_result"
    }
   ],
   "source": [
    "svm_acc2"
   ]
  },
  {
   "cell_type": "code",
   "execution_count": 117,
   "metadata": {},
   "outputs": [],
   "source": [
    "from sklearn.metrics import f1_score, confusion_matrix, recall_score, precision_score, precision_recall_fscore_support"
   ]
  },
  {
   "cell_type": "code",
   "execution_count": 118,
   "metadata": {},
   "outputs": [
    {
     "name": "stdout",
     "output_type": "stream",
     "text": [
      "[14:40:00] WARNING: C:\\Users\\Administrator\\workspace\\xgboost-win64_release_1.1.0\\src\\learner.cc:480: \n",
      "Parameters: { nthreads } might not be used.\n",
      "\n",
      "  This may not be accurate due to some parameters are only used in language bindings but\n",
      "  passed down to XGBoost core.  Or some parameters are not used but slip through this\n",
      "  verification. Please open an issue if you find above cases.\n",
      "\n",
      "\n"
     ]
    },
    {
     "data": {
      "text/plain": [
       "XGBClassifier(base_score=0.5, booster='gbtree', colsample_bylevel=1,\n",
       "              colsample_bynode=1, colsample_bytree=1, gamma=0, gpu_id=-1,\n",
       "              importance_type='gain', interaction_constraints='',\n",
       "              learning_rate=0.300000012, max_delta_step=0, max_depth=6,\n",
       "              min_child_weight=1, missing=nan, monotone_constraints='()',\n",
       "              n_estimators=100, n_jobs=0, nthreads=-1, num_parallel_tree=1,\n",
       "              random_state=0, reg_alpha=0, reg_lambda=1, scale_pos_weight=1,\n",
       "              subsample=1, tree_method='exact', validate_parameters=1,\n",
       "              verbosity=None)"
      ]
     },
     "execution_count": 118,
     "metadata": {},
     "output_type": "execute_result"
    }
   ],
   "source": [
    "#modelling using XGB classifier with thread\n",
    "import xgboost as xg\n",
    "xg_ = xg.XGBClassifier(nthreads = -1)\n",
    "xg_.fit(X_train, y_train)"
   ]
  },
  {
   "cell_type": "code",
   "execution_count": 119,
   "metadata": {},
   "outputs": [],
   "source": [
    "pred_xgb = xg_.predict(X_test)"
   ]
  },
  {
   "cell_type": "code",
   "execution_count": 120,
   "metadata": {},
   "outputs": [
    {
     "data": {
      "text/plain": [
       "array([1, 1, 0, 1, 0, 0, 1, 0, 0, 0, 0, 1, 0, 0, 0, 1, 1, 0, 0, 1, 0, 0,\n",
       "       1, 0, 0, 1, 1, 0, 1, 0, 0, 0, 1, 0, 1, 0, 0, 0, 0, 0, 1, 0, 0, 1,\n",
       "       0, 1, 0, 0, 1, 0, 0, 0, 0, 0, 0, 0, 1, 1, 0, 0, 0, 0, 1, 0, 0, 1,\n",
       "       1, 1, 0, 1, 1, 0, 0, 0, 1, 0, 1, 1, 0, 0, 0, 1, 1, 1, 1, 1, 0, 0,\n",
       "       0, 0, 1, 0, 0, 0, 0, 0, 1, 0, 1, 0], dtype=int64)"
      ]
     },
     "execution_count": 120,
     "metadata": {},
     "output_type": "execute_result"
    }
   ],
   "source": [
    "pred_xgb"
   ]
  },
  {
   "cell_type": "code",
   "execution_count": 121,
   "metadata": {},
   "outputs": [
    {
     "data": {
      "text/plain": [
       "0.88"
      ]
     },
     "execution_count": 121,
     "metadata": {},
     "output_type": "execute_result"
    }
   ],
   "source": [
    "# Check the accuracy of the model on train and test dataset.\n",
    "score_xgb = accuracy_score(y_test, pred_xgb)\n",
    "score_xgb"
   ]
  },
  {
   "cell_type": "code",
   "execution_count": 122,
   "metadata": {},
   "outputs": [],
   "source": [
    "#prec =  precision_score(y_test, knn_pred2)"
   ]
  },
  {
   "cell_type": "code",
   "execution_count": 123,
   "metadata": {},
   "outputs": [],
   "source": [
    "#prec"
   ]
  },
  {
   "cell_type": "code",
   "execution_count": 124,
   "metadata": {},
   "outputs": [
    {
     "name": "stdout",
     "output_type": "stream",
     "text": [
      "[14:40:01] WARNING: C:\\Users\\Administrator\\workspace\\xgboost-win64_release_1.1.0\\src\\learner.cc:480: \n",
      "Parameters: { nthreads } might not be used.\n",
      "\n",
      "  This may not be accurate due to some parameters are only used in language bindings but\n",
      "  passed down to XGBoost core.  Or some parameters are not used but slip through this\n",
      "  verification. Please open an issue if you find above cases.\n",
      "\n",
      "\n"
     ]
    },
    {
     "data": {
      "text/plain": [
       "XGBClassifier(base_score=0.5, booster='gbtree', colsample_bylevel=1,\n",
       "              colsample_bynode=1, colsample_bytree=1, gamma=0, gpu_id=-1,\n",
       "              importance_type='gain', interaction_constraints='',\n",
       "              learning_rate=0.300000012, max_delta_step=0, max_depth=6,\n",
       "              min_child_weight=1, missing=nan, monotone_constraints='()',\n",
       "              n_estimators=100, n_jobs=0, nthreads=-1, num_parallel_tree=1,\n",
       "              random_state=0, reg_alpha=0, reg_lambda=1, scale_pos_weight=1,\n",
       "              subsample=1, tree_method='exact', validate_parameters=1,\n",
       "              verbosity=None)"
      ]
     },
     "execution_count": 124,
     "metadata": {},
     "output_type": "execute_result"
    }
   ],
   "source": [
    "xg_.fit(X_train1, y_train1)"
   ]
  },
  {
   "cell_type": "code",
   "execution_count": 125,
   "metadata": {},
   "outputs": [],
   "source": [
    "pred_xgb2 = xg_.predict(X_test1)"
   ]
  },
  {
   "cell_type": "code",
   "execution_count": 126,
   "metadata": {},
   "outputs": [
    {
     "data": {
      "text/plain": [
       "array([0, 0, 0, 0, 1, 0, 1, 1, 0, 1, 1, 1, 0, 0, 0, 1, 0, 0, 0, 0, 1, 1,\n",
       "       0, 1, 0, 1, 0, 1, 0, 1, 0, 1, 0, 0, 0, 1, 1, 0, 0, 0, 1, 0, 0, 0,\n",
       "       1, 1, 0, 1, 0, 1, 0, 1, 1, 1, 0, 0, 0, 1, 0, 1, 1, 0, 1, 0, 1, 1,\n",
       "       0, 1, 1, 0, 0, 0, 1, 0, 0, 0, 0, 1, 1, 1, 0, 0, 0, 0, 0, 0, 0, 1,\n",
       "       1, 1, 0, 0, 0, 1, 0, 0, 0, 1, 1, 0, 1, 1, 1, 1, 1, 0, 1, 1, 0, 1,\n",
       "       0, 0, 1, 0, 1, 1, 1, 0, 0, 0, 1, 0, 1, 0, 1, 1, 1, 1, 0],\n",
       "      dtype=int64)"
      ]
     },
     "execution_count": 126,
     "metadata": {},
     "output_type": "execute_result"
    }
   ],
   "source": [
    "pred_xgb2"
   ]
  },
  {
   "cell_type": "code",
   "execution_count": 127,
   "metadata": {},
   "outputs": [
    {
     "data": {
      "text/plain": [
       "0.8837209302325582"
      ]
     },
     "execution_count": 127,
     "metadata": {},
     "output_type": "execute_result"
    }
   ],
   "source": [
    "# Check the accuracy of the model on train and test dataset.\n",
    "score_xgb2 = accuracy_score(y_test1, pred_xgb2)\n",
    "score_xgb2"
   ]
  },
  {
   "cell_type": "code",
   "execution_count": null,
   "metadata": {},
   "outputs": [],
   "source": []
  },
  {
   "cell_type": "code",
   "execution_count": null,
   "metadata": {},
   "outputs": [],
   "source": []
  },
  {
   "cell_type": "code",
   "execution_count": 128,
   "metadata": {},
   "outputs": [],
   "source": [
    "cm_bal= confusion_matrix(y_test1, knn_pred2)"
   ]
  },
  {
   "cell_type": "code",
   "execution_count": 129,
   "metadata": {},
   "outputs": [
    {
     "data": {
      "image/png": "[encoded data removed]",
      "text/plain": [
       "<Figure size 432x288 with 2 Axes>"
      ]
     },
     "metadata": {
      "needs_background": "light"
     },
     "output_type": "display_data"
    }
   ],
   "source": [
    "sns.heatmap(cm_bal)\n",
    "plt.show()"
   ]
  },
  {
   "cell_type": "code",
   "execution_count": 130,
   "metadata": {},
   "outputs": [],
   "source": [
    "from sklearn.metrics import classification_report"
   ]
  },
  {
   "cell_type": "code",
   "execution_count": 131,
   "metadata": {},
   "outputs": [],
   "source": [
    "cr_bal = classification_report(y_test1, knn_pred2)"
   ]
  },
  {
   "cell_type": "code",
   "execution_count": 132,
   "metadata": {},
   "outputs": [
    {
     "name": "stdout",
     "output_type": "stream",
     "text": [
      "              precision    recall  f1-score   support\n",
      "\n",
      "           0       0.91      0.92      0.91        64\n",
      "           1       0.92      0.91      0.91        65\n",
      "\n",
      "    accuracy                           0.91       129\n",
      "   macro avg       0.91      0.91      0.91       129\n",
      "weighted avg       0.91      0.91      0.91       129\n",
      "\n"
     ]
    }
   ],
   "source": [
    "print(cr_bal)"
   ]
  },
  {
   "cell_type": "code",
   "execution_count": 133,
   "metadata": {},
   "outputs": [],
   "source": [
    "cr_ubal = classification_report(y_test, knn_pred)"
   ]
  },
  {
   "cell_type": "code",
   "execution_count": 136,
   "metadata": {},
   "outputs": [
    {
     "name": "stdout",
     "output_type": "stream",
     "text": [
      "              precision    recall  f1-score   support\n",
      "\n",
      "           0       0.95      0.92      0.94        63\n",
      "           1       0.87      0.92      0.89        37\n",
      "\n",
      "    accuracy                           0.92       100\n",
      "   macro avg       0.91      0.92      0.92       100\n",
      "weighted avg       0.92      0.92      0.92       100\n",
      "\n"
     ]
    }
   ],
   "source": [
    "print(cr_ubal)"
   ]
  },
  {
   "cell_type": "code",
   "execution_count": null,
   "metadata": {},
   "outputs": [],
   "source": []
  },
  {
   "cell_type": "code",
   "execution_count": 137,
   "metadata": {},
   "outputs": [
    {
     "data": {
      "image/png": "[encoded data removed]",
      "text/plain": [
       "<Figure size 360x288 with 1 Axes>"
      ]
     },
     "metadata": {
      "needs_background": "light"
     },
     "output_type": "display_data"
    }
   ],
   "source": [
    "plt.figure(figsize=(5,4))\n",
    "sns.countplot(svm_pred2)\n",
    "plt.show()\n"
   ]
  },
  {
   "cell_type": "code",
   "execution_count": 139,
   "metadata": {},
   "outputs": [],
   "source": [
    "from sklearn.metrics import roc_auc_score"
   ]
  },
  {
   "cell_type": "code",
   "execution_count": 140,
   "metadata": {},
   "outputs": [],
   "source": [
    "roc_acc = roc_auc_score(y_test1, knn_pred2)"
   ]
  },
  {
   "cell_type": "code",
   "execution_count": 141,
   "metadata": {},
   "outputs": [
    {
     "data": {
      "text/plain": [
       "0.9147836538461538"
      ]
     },
     "execution_count": 141,
     "metadata": {},
     "output_type": "execute_result"
    }
   ],
   "source": [
    "roc_acc"
   ]
  },
  {
   "cell_type": "code",
   "execution_count": 142,
   "metadata": {},
   "outputs": [],
   "source": [
    "from sklearn.metrics import roc_curve"
   ]
  },
  {
   "cell_type": "code",
   "execution_count": 143,
   "metadata": {},
   "outputs": [],
   "source": [
    "fpr, tpr, thresholds = roc_curve(y_test1, knn_pred2)"
   ]
  },
  {
   "cell_type": "code",
   "execution_count": 144,
   "metadata": {},
   "outputs": [
    {
     "data": {
      "text/plain": [
       "array([0.      , 0.078125, 1.      ])"
      ]
     },
     "execution_count": 144,
     "metadata": {},
     "output_type": "execute_result"
    }
   ],
   "source": [
    "fpr"
   ]
  },
  {
   "cell_type": "code",
   "execution_count": 145,
   "metadata": {},
   "outputs": [
    {
     "data": {
      "text/plain": [
       "array([2, 1, 0], dtype=int64)"
      ]
     },
     "execution_count": 145,
     "metadata": {},
     "output_type": "execute_result"
    }
   ],
   "source": [
    "thresholds"
   ]
  },
  {
   "cell_type": "code",
   "execution_count": 146,
   "metadata": {},
   "outputs": [
    {
     "data": {
      "text/plain": [
       "array([0.        , 0.90769231, 1.        ])"
      ]
     },
     "execution_count": 146,
     "metadata": {},
     "output_type": "execute_result"
    }
   ],
   "source": [
    "tpr"
   ]
  },
  {
   "cell_type": "code",
   "execution_count": 147,
   "metadata": {},
   "outputs": [
    {
     "data": {
      "image/png": "[encoded data removed]",
      "text/plain": [
       "<Figure size 432x288 with 1 Axes>"
      ]
     },
     "metadata": {
      "needs_background": "light"
     },
     "output_type": "display_data"
    }
   ],
   "source": [
    "def plot_roc_curve(fpr, tpr, label=None):\n",
    "    plt.plot(fpr, tpr, linewidth=2, label=label)\n",
    "    plt.plot([0, 1], [0, 1], 'k--') # dashed diagonal\n",
    "    [...] # Add axis labels and grid\n",
    "plot_roc_curve(fpr, tpr)\n",
    "plt.show()"
   ]
  },
  {
   "cell_type": "code",
   "execution_count": 150,
   "metadata": {},
   "outputs": [],
   "source": [
    "import pickle\n",
    "\n",
    "pickle.dump(knn,open('medical_insurance.pkl','wb'))\n",
    "model=pickle.load(open('medical_insurance.pkl','rb'))"
   ]
  },
  {
   "cell_type": "code",
   "execution_count": null,
   "metadata": {},
   "outputs": [],
   "source": []
  }
 ],
 "metadata": {
  "kernelspec": {
   "display_name": "Python 3",
   "language": "python",
   "name": "python3"
  },
  "language_info": {
   "codemirror_mode": {
    "name": "ipython",
    "version": 3
   },
   "file_extension": ".py",
   "mimetype": "text/x-python",
   "name": "python",
   "nbconvert_exporter": "python",
   "pygments_lexer": "ipython3",
   "version": "3.8.3"
  }
 },
 "nbformat": 4,
 "nbformat_minor": 4
}
