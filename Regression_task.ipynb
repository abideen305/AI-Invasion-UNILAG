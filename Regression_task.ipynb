{
 "cells": [
  {
   "cell_type": "markdown",
   "metadata": {
    "id": "4WNn1JwGkvOP"
   },
   "source": [
    "# Data Science Nigeria: Introductory Machine Learning\n",
    "\n"
   ]
  },
  {
   "cell_type": "markdown",
   "metadata": {
    "id": "SqxO0D_NkvOP"
   },
   "source": [
    "## INTRODUCTION TO REGRESSION\n",
    "\n",
    "\n",
    "## Course Overview \n",
    "\n",
    "Upon completion of this study unit, you should be able to:\n",
    "\n",
    "- Have a general understanding of how a regression algorithm works\n",
    "\n",
    "- List types of regression algorithms \n",
    "\n",
    "- Build a linear regression algorithms using SKLearn\n",
    "\n",
    "- Evaluate regression models performance \n"
   ]
  },
  {
   "cell_type": "markdown",
   "metadata": {
    "id": "zw2LDSfNkvOQ"
   },
   "source": [
    "Remember that **Machine Learning Models/ Algorithms** allows computer to automate tasks that would otherwise take manual efforts, time, as well as resources. It learns how to interpret data to provide insight to humans. **Machine Learning performance improves with experience**\n",
    "\n",
    "\n",
    "## Regression \n",
    "Regression is a set of processes used to estimate relationship between variables. \n",
    "\n",
    "### Examples of tasks that can be solved using regression\n",
    "\n",
    "Before a dataset can be train on a regression model, the label must be a continuous variable not discret\n",
    "* Predicting salary from years of experience\n",
    "* Determining Glucose level from Age of patients\n",
    "* Predicting salary from years of experience\n",
    "* Predicting students grade based on total study time.\n",
    "* Predicting examination score based on students' test score etc."
   ]
  },
  {
   "cell_type": "markdown",
   "metadata": {
    "id": "aPU8_IhmkvOQ"
   },
   "source": [
    "### Regression Machine Learning Model using Mama Tee restaurant dataset\n",
    "\n",
    "The objective of the regression task is to predict the amount of tip (gratuity in Nigeria naira) given to a food server based on total_bill, gender, smoker (whether they smoke in the party or not), day (day of the week for the party), time (time of the day whether for lunch or dinner), and size (size of the party) in Mama Tee restaurant..\n",
    "\n",
    "**Label**: The label for this problem is tip.\n",
    "    \n",
    "**Features**: There are $6$ features and they include total bill, gender, smoker, day, time, and size."
   ]
  },
  {
   "cell_type": "code",
   "execution_count": null,
   "metadata": {
    "id": "pTbyZ7bckvOQ"
   },
   "outputs": [],
   "source": []
  },
  {
   "cell_type": "markdown",
   "metadata": {
    "id": "mT-sK2rjkvOQ"
   },
   "source": [
    "We plan to use the following regression models (regressor) to predict the amount of tips that will be given during a particular party in the restaurant:\n",
    "\n",
    "- Ordinary Least Square (OLS)\n",
    "\n",
    "- Support Vector Machine (SVM)\n",
    "\n",
    "- Extreme Gradient Boosting (XGBoost)\n",
    "\n",
    "- Decision Tree\n",
    "\n",
    "- Random Forest"
   ]
  },
  {
   "cell_type": "markdown",
   "metadata": {
    "id": "9MMFAYj8kvOR"
   },
   "source": [
    "# Import Python modules\n",
    "\n",
    "We need to import some packages that will enable us to explore the data and build machine learning models"
   ]
  },
  {
   "cell_type": "code",
   "execution_count": 3,
   "metadata": {
    "id": "FbKrXyp6kvOR"
   },
   "outputs": [],
   "source": [
    "import numpy as np\n",
    "import pandas as pd\n",
    "import matplotlib.pyplot as plt\n",
    "import seaborn as sns\n",
    "#from pandas_profiling import ProfileReport # Please install pandas profiling if you don't have it installed already"
   ]
  },
  {
   "cell_type": "code",
   "execution_count": null,
   "metadata": {
    "id": "n2WzdImJkvOR"
   },
   "outputs": [],
   "source": []
  },
  {
   "cell_type": "code",
   "execution_count": 5,
   "metadata": {
    "colab": {
     "base_uri": "https://localhost:8080/",
     "height": 362
    },
    "id": "ZJYLet-PkvOS",
    "outputId": "93f6daf6-bfec-4065-ed1c-9078e25816c1"
   },
   "outputs": [
    {
     "data": {
      "text/html": [
       "<div>\n",
       "<style scoped>\n",
       "    .dataframe tbody tr th:only-of-type {\n",
       "        vertical-align: middle;\n",
       "    }\n",
       "\n",
       "    .dataframe tbody tr th {\n",
       "        vertical-align: top;\n",
       "    }\n",
       "\n",
       "    .dataframe thead th {\n",
       "        text-align: right;\n",
       "    }\n",
       "</style>\n",
       "<table border=\"1\" class=\"dataframe\">\n",
       "  <thead>\n",
       "    <tr style=\"text-align: right;\">\n",
       "      <th></th>\n",
       "      <th>total_bill</th>\n",
       "      <th>tip</th>\n",
       "      <th>gender</th>\n",
       "      <th>smoker</th>\n",
       "      <th>day</th>\n",
       "      <th>time</th>\n",
       "      <th>size</th>\n",
       "    </tr>\n",
       "  </thead>\n",
       "  <tbody>\n",
       "    <tr>\n",
       "      <th>0</th>\n",
       "      <td>2125.50</td>\n",
       "      <td>360.79</td>\n",
       "      <td>Male</td>\n",
       "      <td>No</td>\n",
       "      <td>Thur</td>\n",
       "      <td>Lunch</td>\n",
       "      <td>1</td>\n",
       "    </tr>\n",
       "    <tr>\n",
       "      <th>1</th>\n",
       "      <td>2727.18</td>\n",
       "      <td>259.42</td>\n",
       "      <td>Female</td>\n",
       "      <td>No</td>\n",
       "      <td>Sun</td>\n",
       "      <td>Dinner</td>\n",
       "      <td>5</td>\n",
       "    </tr>\n",
       "    <tr>\n",
       "      <th>2</th>\n",
       "      <td>1066.02</td>\n",
       "      <td>274.68</td>\n",
       "      <td>Female</td>\n",
       "      <td>Yes</td>\n",
       "      <td>Thur</td>\n",
       "      <td>Dinner</td>\n",
       "      <td>4</td>\n",
       "    </tr>\n",
       "    <tr>\n",
       "      <th>3</th>\n",
       "      <td>3493.45</td>\n",
       "      <td>337.90</td>\n",
       "      <td>Female</td>\n",
       "      <td>No</td>\n",
       "      <td>Sun</td>\n",
       "      <td>Dinner</td>\n",
       "      <td>1</td>\n",
       "    </tr>\n",
       "    <tr>\n",
       "      <th>4</th>\n",
       "      <td>3470.56</td>\n",
       "      <td>567.89</td>\n",
       "      <td>Male</td>\n",
       "      <td>Yes</td>\n",
       "      <td>Sun</td>\n",
       "      <td>Lunch</td>\n",
       "      <td>6</td>\n",
       "    </tr>\n",
       "    <tr>\n",
       "      <th>5</th>\n",
       "      <td>2411.08</td>\n",
       "      <td>296.48</td>\n",
       "      <td>Female</td>\n",
       "      <td>Yes</td>\n",
       "      <td>Thur</td>\n",
       "      <td>Lunch</td>\n",
       "      <td>2</td>\n",
       "    </tr>\n",
       "    <tr>\n",
       "      <th>6</th>\n",
       "      <td>4607.43</td>\n",
       "      <td>374.96</td>\n",
       "      <td>Female</td>\n",
       "      <td>No</td>\n",
       "      <td>Thur</td>\n",
       "      <td>Dinner</td>\n",
       "      <td>4</td>\n",
       "    </tr>\n",
       "    <tr>\n",
       "      <th>7</th>\n",
       "      <td>1165.21</td>\n",
       "      <td>700.87</td>\n",
       "      <td>Female</td>\n",
       "      <td>No</td>\n",
       "      <td>Mon</td>\n",
       "      <td>Dinner</td>\n",
       "      <td>2</td>\n",
       "    </tr>\n",
       "    <tr>\n",
       "      <th>8</th>\n",
       "      <td>2895.04</td>\n",
       "      <td>347.71</td>\n",
       "      <td>Male</td>\n",
       "      <td>No</td>\n",
       "      <td>Sat</td>\n",
       "      <td>Dinner</td>\n",
       "      <td>5</td>\n",
       "    </tr>\n",
       "    <tr>\n",
       "      <th>9</th>\n",
       "      <td>2622.54</td>\n",
       "      <td>253.97</td>\n",
       "      <td>Male</td>\n",
       "      <td>Yes</td>\n",
       "      <td>Thur</td>\n",
       "      <td>Lunch</td>\n",
       "      <td>6</td>\n",
       "    </tr>\n",
       "  </tbody>\n",
       "</table>\n",
       "</div>"
      ],
      "text/plain": [
       "   total_bill     tip  gender smoker   day    time  size\n",
       "0     2125.50  360.79    Male     No  Thur   Lunch     1\n",
       "1     2727.18  259.42  Female     No   Sun  Dinner     5\n",
       "2     1066.02  274.68  Female    Yes  Thur  Dinner     4\n",
       "3     3493.45  337.90  Female     No   Sun  Dinner     1\n",
       "4     3470.56  567.89    Male    Yes   Sun   Lunch     6\n",
       "5     2411.08  296.48  Female    Yes  Thur   Lunch     2\n",
       "6     4607.43  374.96  Female     No  Thur  Dinner     4\n",
       "7     1165.21  700.87  Female     No   Mon  Dinner     2\n",
       "8     2895.04  347.71    Male     No   Sat  Dinner     5\n",
       "9     2622.54  253.97    Male    Yes  Thur   Lunch     6"
      ]
     },
     "execution_count": 5,
     "metadata": {},
     "output_type": "execute_result"
    }
   ],
   "source": [
    "tip = pd.read_csv(r\"C:\\Users\\HP\\Desktop\\AI+ Invasion -UNILAG\\Data\\tips.csv\")\n",
    "\n",
    "tip.head(10)"
   ]
  },
  {
   "cell_type": "code",
   "execution_count": 6,
   "metadata": {
    "colab": {
     "base_uri": "https://localhost:8080/"
    },
    "id": "unreupg0kvOS",
    "outputId": "c9041555-c5c3-49bb-a915-f958ed20fb8a"
   },
   "outputs": [
    {
     "data": {
      "text/plain": [
       "(744, 7)"
      ]
     },
     "execution_count": 6,
     "metadata": {},
     "output_type": "execute_result"
    }
   ],
   "source": [
    "tip.shape"
   ]
  },
  {
   "cell_type": "markdown",
   "metadata": {
    "id": "S1GQ6NptkvOU"
   },
   "source": [
    "## Relationship with categorical variables"
   ]
  },
  {
   "cell_type": "markdown",
   "metadata": {
    "id": "nI6buJ2dkvOU"
   },
   "source": [
    "## tip vs. gender"
   ]
  },
  {
   "cell_type": "code",
   "execution_count": null,
   "metadata": {
    "id": "kThubp6lkvOU",
    "outputId": "9a717f44-79e4-4648-8254-142985d75db9"
   },
   "outputs": [
    {
     "data": {
      "image/png": "[encoded data removed]",
      "text/plain": [
       "<Figure size 432x288 with 1 Axes>"
      ]
     },
     "metadata": {
      "needs_background": "light",
      "tags": []
     },
     "output_type": "display_data"
    }
   ],
   "source": [
    "sns.boxplot(x = \"gender\", y = \"tip\", data = tip)\n",
    "\n",
    "plt.ylabel(\"Amount of tip\");"
   ]
  },
  {
   "cell_type": "markdown",
   "metadata": {
    "id": "a61uOOihkvOU"
   },
   "source": [
    "The amount of tips given by both gender is almost the same although there was an extreme amount of tip given by some men."
   ]
  },
  {
   "cell_type": "markdown",
   "metadata": {
    "id": "dp-w-9plkvOV"
   },
   "source": [
    "## tip vs. smoker"
   ]
  },
  {
   "cell_type": "code",
   "execution_count": null,
   "metadata": {
    "id": "9bJbOTfckvOV",
    "outputId": "d050a2e3-0afe-4c9e-86a4-311c5c97c3da"
   },
   "outputs": [
    {
     "data": {
      "image/png": "[encoded data removed]",
      "text/plain": [
       "<Figure size 432x288 with 1 Axes>"
      ]
     },
     "metadata": {
      "needs_background": "light",
      "tags": []
     },
     "output_type": "display_data"
    }
   ],
   "source": [
    "sns.boxplot(x = \"smoker\", y = \"tip\", data = tip)\n",
    "\n",
    "plt.ylabel(\"Amount of tip\");"
   ]
  },
  {
   "cell_type": "markdown",
   "metadata": {
    "id": "fS0IfSeDkvOV"
   },
   "source": [
    "Smokers and non-smokers gave almost the same \n",
    "amount of tip."
   ]
  },
  {
   "cell_type": "markdown",
   "metadata": {
    "id": "tAtBAXfSkvOV"
   },
   "source": [
    "## tip vs. time"
   ]
  },
  {
   "cell_type": "code",
   "execution_count": null,
   "metadata": {
    "id": "FkkCDupykvOV",
    "outputId": "d9935892-3ce7-42c1-d47e-0f4c24af243a"
   },
   "outputs": [
    {
     "data": {
      "image/png": "[encoded data removed]",
      "text/plain": [
       "<Figure size 432x288 with 1 Axes>"
      ]
     },
     "metadata": {
      "needs_background": "light",
      "tags": []
     },
     "output_type": "display_data"
    }
   ],
   "source": [
    "sns.boxplot(x = \"time\", y = \"tip\", data = tip)\n",
    "\n",
    "plt.ylabel(\"Amount of tip\");"
   ]
  },
  {
   "cell_type": "markdown",
   "metadata": {
    "id": "jj_csIvTkvOW"
   },
   "source": [
    "\n",
    "\n",
    "```\n",
    "# This is formatted as code\n",
    "```\n",
    "\n",
    "Lunch and Dinner gave almost the same amount of tip."
   ]
  },
  {
   "cell_type": "markdown",
   "metadata": {
    "id": "6F5QOopQkvOW"
   },
   "source": [
    "# Model building"
   ]
  },
  {
   "cell_type": "markdown",
   "metadata": {
    "id": "dLXtJob9kvOW"
   },
   "source": [
    "After getting some insight about the data, we can now prepare the data for machine learning modelling"
   ]
  },
  {
   "cell_type": "markdown",
   "metadata": {
    "id": "BUBO7tLJkvOW"
   },
   "source": [
    "- Importing machine learning models"
   ]
  },
  {
   "cell_type": "code",
   "execution_count": 8,
   "metadata": {
    "id": "glS24NLwkvOW"
   },
   "outputs": [],
   "source": [
    "from sklearn import metrics # For model evaluation\n",
    "\n",
    "from sklearn.model_selection import train_test_split # To divide the data into training and test set"
   ]
  },
  {
   "cell_type": "markdown",
   "metadata": {
    "id": "62beqxcXkvOW"
   },
   "source": [
    "# Data Preprocessing \n",
    "- Separating features and the label from the data"
   ]
  },
  {
   "cell_type": "markdown",
   "metadata": {
    "id": "U7vEhBhokvOW"
   },
   "source": [
    "Now is the time to build machine learning models for the task of predicting the amount of tip that would be given for any party in the restuarant. Therefore, we shall separate the set of features (X) from the label (Y)."
   ]
  },
  {
   "cell_type": "code",
   "execution_count": 9,
   "metadata": {
    "colab": {
     "base_uri": "https://localhost:8080/",
     "height": 173
    },
    "id": "2qpiYPA1kvOX",
    "outputId": "46f7d137-f88b-4cad-cf7f-6b143ec5264d"
   },
   "outputs": [
    {
     "data": {
      "text/html": [
       "<div>\n",
       "<style scoped>\n",
       "    .dataframe tbody tr th:only-of-type {\n",
       "        vertical-align: middle;\n",
       "    }\n",
       "\n",
       "    .dataframe tbody tr th {\n",
       "        vertical-align: top;\n",
       "    }\n",
       "\n",
       "    .dataframe thead th {\n",
       "        text-align: right;\n",
       "    }\n",
       "</style>\n",
       "<table border=\"1\" class=\"dataframe\">\n",
       "  <thead>\n",
       "    <tr style=\"text-align: right;\">\n",
       "      <th></th>\n",
       "      <th>total_bill</th>\n",
       "      <th>tip</th>\n",
       "      <th>gender</th>\n",
       "      <th>smoker</th>\n",
       "      <th>day</th>\n",
       "      <th>time</th>\n",
       "      <th>size</th>\n",
       "    </tr>\n",
       "  </thead>\n",
       "  <tbody>\n",
       "    <tr>\n",
       "      <th>0</th>\n",
       "      <td>2125.50</td>\n",
       "      <td>360.79</td>\n",
       "      <td>Male</td>\n",
       "      <td>No</td>\n",
       "      <td>Thur</td>\n",
       "      <td>Lunch</td>\n",
       "      <td>1</td>\n",
       "    </tr>\n",
       "    <tr>\n",
       "      <th>1</th>\n",
       "      <td>2727.18</td>\n",
       "      <td>259.42</td>\n",
       "      <td>Female</td>\n",
       "      <td>No</td>\n",
       "      <td>Sun</td>\n",
       "      <td>Dinner</td>\n",
       "      <td>5</td>\n",
       "    </tr>\n",
       "    <tr>\n",
       "      <th>2</th>\n",
       "      <td>1066.02</td>\n",
       "      <td>274.68</td>\n",
       "      <td>Female</td>\n",
       "      <td>Yes</td>\n",
       "      <td>Thur</td>\n",
       "      <td>Dinner</td>\n",
       "      <td>4</td>\n",
       "    </tr>\n",
       "    <tr>\n",
       "      <th>3</th>\n",
       "      <td>3493.45</td>\n",
       "      <td>337.90</td>\n",
       "      <td>Female</td>\n",
       "      <td>No</td>\n",
       "      <td>Sun</td>\n",
       "      <td>Dinner</td>\n",
       "      <td>1</td>\n",
       "    </tr>\n",
       "  </tbody>\n",
       "</table>\n",
       "</div>"
      ],
      "text/plain": [
       "   total_bill     tip  gender smoker   day    time  size\n",
       "0     2125.50  360.79    Male     No  Thur   Lunch     1\n",
       "1     2727.18  259.42  Female     No   Sun  Dinner     5\n",
       "2     1066.02  274.68  Female    Yes  Thur  Dinner     4\n",
       "3     3493.45  337.90  Female     No   Sun  Dinner     1"
      ]
     },
     "execution_count": 9,
     "metadata": {},
     "output_type": "execute_result"
    }
   ],
   "source": [
    "tip.head(4)"
   ]
  },
  {
   "cell_type": "code",
   "execution_count": 10,
   "metadata": {
    "id": "UTNMuBz3kvOX"
   },
   "outputs": [],
   "source": [
    "# split data into features and target\n",
    "\n",
    "X = tip.drop([\"tip\"], axis= \"columns\") # dropping the label variable (tip) from the data\n",
    "\n",
    "y = tip[\"tip\"]"
   ]
  },
  {
   "cell_type": "code",
   "execution_count": 11,
   "metadata": {
    "colab": {
     "base_uri": "https://localhost:8080/",
     "height": 204
    },
    "id": "9jsY1mBGkvOX",
    "outputId": "d29442a3-d868-42c3-cad8-def8c81927fa"
   },
   "outputs": [
    {
     "data": {
      "text/html": [
       "<div>\n",
       "<style scoped>\n",
       "    .dataframe tbody tr th:only-of-type {\n",
       "        vertical-align: middle;\n",
       "    }\n",
       "\n",
       "    .dataframe tbody tr th {\n",
       "        vertical-align: top;\n",
       "    }\n",
       "\n",
       "    .dataframe thead th {\n",
       "        text-align: right;\n",
       "    }\n",
       "</style>\n",
       "<table border=\"1\" class=\"dataframe\">\n",
       "  <thead>\n",
       "    <tr style=\"text-align: right;\">\n",
       "      <th></th>\n",
       "      <th>total_bill</th>\n",
       "      <th>gender</th>\n",
       "      <th>smoker</th>\n",
       "      <th>day</th>\n",
       "      <th>time</th>\n",
       "      <th>size</th>\n",
       "    </tr>\n",
       "  </thead>\n",
       "  <tbody>\n",
       "    <tr>\n",
       "      <th>0</th>\n",
       "      <td>2125.50</td>\n",
       "      <td>Male</td>\n",
       "      <td>No</td>\n",
       "      <td>Thur</td>\n",
       "      <td>Lunch</td>\n",
       "      <td>1</td>\n",
       "    </tr>\n",
       "    <tr>\n",
       "      <th>1</th>\n",
       "      <td>2727.18</td>\n",
       "      <td>Female</td>\n",
       "      <td>No</td>\n",
       "      <td>Sun</td>\n",
       "      <td>Dinner</td>\n",
       "      <td>5</td>\n",
       "    </tr>\n",
       "    <tr>\n",
       "      <th>2</th>\n",
       "      <td>1066.02</td>\n",
       "      <td>Female</td>\n",
       "      <td>Yes</td>\n",
       "      <td>Thur</td>\n",
       "      <td>Dinner</td>\n",
       "      <td>4</td>\n",
       "    </tr>\n",
       "    <tr>\n",
       "      <th>3</th>\n",
       "      <td>3493.45</td>\n",
       "      <td>Female</td>\n",
       "      <td>No</td>\n",
       "      <td>Sun</td>\n",
       "      <td>Dinner</td>\n",
       "      <td>1</td>\n",
       "    </tr>\n",
       "    <tr>\n",
       "      <th>4</th>\n",
       "      <td>3470.56</td>\n",
       "      <td>Male</td>\n",
       "      <td>Yes</td>\n",
       "      <td>Sun</td>\n",
       "      <td>Lunch</td>\n",
       "      <td>6</td>\n",
       "    </tr>\n",
       "  </tbody>\n",
       "</table>\n",
       "</div>"
      ],
      "text/plain": [
       "   total_bill  gender smoker   day    time  size\n",
       "0     2125.50    Male     No  Thur   Lunch     1\n",
       "1     2727.18  Female     No   Sun  Dinner     5\n",
       "2     1066.02  Female    Yes  Thur  Dinner     4\n",
       "3     3493.45  Female     No   Sun  Dinner     1\n",
       "4     3470.56    Male    Yes   Sun   Lunch     6"
      ]
     },
     "execution_count": 11,
     "metadata": {},
     "output_type": "execute_result"
    }
   ],
   "source": [
    "X.head()"
   ]
  },
  {
   "cell_type": "code",
   "execution_count": 12,
   "metadata": {
    "colab": {
     "base_uri": "https://localhost:8080/"
    },
    "id": "rhSKJMftkvOX",
    "outputId": "9687615d-b84b-4a47-d375-9af579ffc7cd"
   },
   "outputs": [
    {
     "data": {
      "text/plain": [
       "0    360.79\n",
       "1    259.42\n",
       "2    274.68\n",
       "3    337.90\n",
       "4    567.89\n",
       "Name: tip, dtype: float64"
      ]
     },
     "execution_count": 12,
     "metadata": {},
     "output_type": "execute_result"
    }
   ],
   "source": [
    "y.head()"
   ]
  },
  {
   "cell_type": "markdown",
   "metadata": {
    "id": "dPFyIWu8kvOX"
   },
   "source": [
    "Since the label is continuous, this is a regression task."
   ]
  },
  {
   "cell_type": "markdown",
   "metadata": {
    "id": "Tx7mL_kOkvOY"
   },
   "source": [
    "- One-hot encoding"
   ]
  },
  {
   "cell_type": "markdown",
   "metadata": {
    "id": "pnAKMrDukvOY"
   },
   "source": [
    "As dicussed in Part 3, we need to create a one-hot encoding for all the categorical features in the data because some algorithms cannot work with categorical data directly. They require all input variables and output variables to be numeric. In this case, we will create a one-hot encoding for gender, smoker, day and time by using `pd.get_dummies()`. "
   ]
  },
  {
   "cell_type": "code",
   "execution_count": 13,
   "metadata": {
    "id": "HkFq3Kx5kvOY",
    "outputId": "d66f34ec-bebe-4003-9daf-9961da438364"
   },
   "outputs": [
    {
     "data": {
      "text/html": [
       "<div>\n",
       "<style scoped>\n",
       "    .dataframe tbody tr th:only-of-type {\n",
       "        vertical-align: middle;\n",
       "    }\n",
       "\n",
       "    .dataframe tbody tr th {\n",
       "        vertical-align: top;\n",
       "    }\n",
       "\n",
       "    .dataframe thead th {\n",
       "        text-align: right;\n",
       "    }\n",
       "</style>\n",
       "<table border=\"1\" class=\"dataframe\">\n",
       "  <thead>\n",
       "    <tr style=\"text-align: right;\">\n",
       "      <th></th>\n",
       "      <th>total_bill</th>\n",
       "      <th>size</th>\n",
       "      <th>gender_Female</th>\n",
       "      <th>gender_Male</th>\n",
       "      <th>smoker_No</th>\n",
       "      <th>smoker_Yes</th>\n",
       "      <th>day_Fri</th>\n",
       "      <th>day_Mon</th>\n",
       "      <th>day_Sat</th>\n",
       "      <th>day_Sun</th>\n",
       "      <th>day_Thur</th>\n",
       "      <th>day_Tues</th>\n",
       "      <th>day_Wed</th>\n",
       "      <th>time_Dinner</th>\n",
       "      <th>time_Lunch</th>\n",
       "    </tr>\n",
       "  </thead>\n",
       "  <tbody>\n",
       "    <tr>\n",
       "      <th>0</th>\n",
       "      <td>2125.50</td>\n",
       "      <td>1</td>\n",
       "      <td>0</td>\n",
       "      <td>1</td>\n",
       "      <td>1</td>\n",
       "      <td>0</td>\n",
       "      <td>0</td>\n",
       "      <td>0</td>\n",
       "      <td>0</td>\n",
       "      <td>0</td>\n",
       "      <td>1</td>\n",
       "      <td>0</td>\n",
       "      <td>0</td>\n",
       "      <td>0</td>\n",
       "      <td>1</td>\n",
       "    </tr>\n",
       "    <tr>\n",
       "      <th>1</th>\n",
       "      <td>2727.18</td>\n",
       "      <td>5</td>\n",
       "      <td>1</td>\n",
       "      <td>0</td>\n",
       "      <td>1</td>\n",
       "      <td>0</td>\n",
       "      <td>0</td>\n",
       "      <td>0</td>\n",
       "      <td>0</td>\n",
       "      <td>1</td>\n",
       "      <td>0</td>\n",
       "      <td>0</td>\n",
       "      <td>0</td>\n",
       "      <td>1</td>\n",
       "      <td>0</td>\n",
       "    </tr>\n",
       "    <tr>\n",
       "      <th>2</th>\n",
       "      <td>1066.02</td>\n",
       "      <td>4</td>\n",
       "      <td>1</td>\n",
       "      <td>0</td>\n",
       "      <td>0</td>\n",
       "      <td>1</td>\n",
       "      <td>0</td>\n",
       "      <td>0</td>\n",
       "      <td>0</td>\n",
       "      <td>0</td>\n",
       "      <td>1</td>\n",
       "      <td>0</td>\n",
       "      <td>0</td>\n",
       "      <td>1</td>\n",
       "      <td>0</td>\n",
       "    </tr>\n",
       "    <tr>\n",
       "      <th>3</th>\n",
       "      <td>3493.45</td>\n",
       "      <td>1</td>\n",
       "      <td>1</td>\n",
       "      <td>0</td>\n",
       "      <td>1</td>\n",
       "      <td>0</td>\n",
       "      <td>0</td>\n",
       "      <td>0</td>\n",
       "      <td>0</td>\n",
       "      <td>1</td>\n",
       "      <td>0</td>\n",
       "      <td>0</td>\n",
       "      <td>0</td>\n",
       "      <td>1</td>\n",
       "      <td>0</td>\n",
       "    </tr>\n",
       "    <tr>\n",
       "      <th>4</th>\n",
       "      <td>3470.56</td>\n",
       "      <td>6</td>\n",
       "      <td>0</td>\n",
       "      <td>1</td>\n",
       "      <td>0</td>\n",
       "      <td>1</td>\n",
       "      <td>0</td>\n",
       "      <td>0</td>\n",
       "      <td>0</td>\n",
       "      <td>1</td>\n",
       "      <td>0</td>\n",
       "      <td>0</td>\n",
       "      <td>0</td>\n",
       "      <td>0</td>\n",
       "      <td>1</td>\n",
       "    </tr>\n",
       "    <tr>\n",
       "      <th>...</th>\n",
       "      <td>...</td>\n",
       "      <td>...</td>\n",
       "      <td>...</td>\n",
       "      <td>...</td>\n",
       "      <td>...</td>\n",
       "      <td>...</td>\n",
       "      <td>...</td>\n",
       "      <td>...</td>\n",
       "      <td>...</td>\n",
       "      <td>...</td>\n",
       "      <td>...</td>\n",
       "      <td>...</td>\n",
       "      <td>...</td>\n",
       "      <td>...</td>\n",
       "      <td>...</td>\n",
       "    </tr>\n",
       "    <tr>\n",
       "      <th>739</th>\n",
       "      <td>3164.27</td>\n",
       "      <td>3</td>\n",
       "      <td>0</td>\n",
       "      <td>1</td>\n",
       "      <td>1</td>\n",
       "      <td>0</td>\n",
       "      <td>0</td>\n",
       "      <td>0</td>\n",
       "      <td>1</td>\n",
       "      <td>0</td>\n",
       "      <td>0</td>\n",
       "      <td>0</td>\n",
       "      <td>0</td>\n",
       "      <td>1</td>\n",
       "      <td>0</td>\n",
       "    </tr>\n",
       "    <tr>\n",
       "      <th>740</th>\n",
       "      <td>2962.62</td>\n",
       "      <td>2</td>\n",
       "      <td>1</td>\n",
       "      <td>0</td>\n",
       "      <td>0</td>\n",
       "      <td>1</td>\n",
       "      <td>0</td>\n",
       "      <td>0</td>\n",
       "      <td>1</td>\n",
       "      <td>0</td>\n",
       "      <td>0</td>\n",
       "      <td>0</td>\n",
       "      <td>0</td>\n",
       "      <td>1</td>\n",
       "      <td>0</td>\n",
       "    </tr>\n",
       "    <tr>\n",
       "      <th>741</th>\n",
       "      <td>2471.03</td>\n",
       "      <td>2</td>\n",
       "      <td>0</td>\n",
       "      <td>1</td>\n",
       "      <td>0</td>\n",
       "      <td>1</td>\n",
       "      <td>0</td>\n",
       "      <td>0</td>\n",
       "      <td>1</td>\n",
       "      <td>0</td>\n",
       "      <td>0</td>\n",
       "      <td>0</td>\n",
       "      <td>0</td>\n",
       "      <td>1</td>\n",
       "      <td>0</td>\n",
       "    </tr>\n",
       "    <tr>\n",
       "      <th>742</th>\n",
       "      <td>1942.38</td>\n",
       "      <td>2</td>\n",
       "      <td>0</td>\n",
       "      <td>1</td>\n",
       "      <td>1</td>\n",
       "      <td>0</td>\n",
       "      <td>0</td>\n",
       "      <td>0</td>\n",
       "      <td>1</td>\n",
       "      <td>0</td>\n",
       "      <td>0</td>\n",
       "      <td>0</td>\n",
       "      <td>0</td>\n",
       "      <td>1</td>\n",
       "      <td>0</td>\n",
       "    </tr>\n",
       "    <tr>\n",
       "      <th>743</th>\n",
       "      <td>2047.02</td>\n",
       "      <td>2</td>\n",
       "      <td>1</td>\n",
       "      <td>0</td>\n",
       "      <td>1</td>\n",
       "      <td>0</td>\n",
       "      <td>0</td>\n",
       "      <td>0</td>\n",
       "      <td>0</td>\n",
       "      <td>0</td>\n",
       "      <td>1</td>\n",
       "      <td>0</td>\n",
       "      <td>0</td>\n",
       "      <td>1</td>\n",
       "      <td>0</td>\n",
       "    </tr>\n",
       "  </tbody>\n",
       "</table>\n",
       "<p>744 rows × 15 columns</p>\n",
       "</div>"
      ],
      "text/plain": [
       "     total_bill  size  gender_Female  gender_Male  smoker_No  smoker_Yes  \\\n",
       "0       2125.50     1              0            1          1           0   \n",
       "1       2727.18     5              1            0          1           0   \n",
       "2       1066.02     4              1            0          0           1   \n",
       "3       3493.45     1              1            0          1           0   \n",
       "4       3470.56     6              0            1          0           1   \n",
       "..          ...   ...            ...          ...        ...         ...   \n",
       "739     3164.27     3              0            1          1           0   \n",
       "740     2962.62     2              1            0          0           1   \n",
       "741     2471.03     2              0            1          0           1   \n",
       "742     1942.38     2              0            1          1           0   \n",
       "743     2047.02     2              1            0          1           0   \n",
       "\n",
       "     day_Fri  day_Mon  day_Sat  day_Sun  day_Thur  day_Tues  day_Wed  \\\n",
       "0          0        0        0        0         1         0        0   \n",
       "1          0        0        0        1         0         0        0   \n",
       "2          0        0        0        0         1         0        0   \n",
       "3          0        0        0        1         0         0        0   \n",
       "4          0        0        0        1         0         0        0   \n",
       "..       ...      ...      ...      ...       ...       ...      ...   \n",
       "739        0        0        1        0         0         0        0   \n",
       "740        0        0        1        0         0         0        0   \n",
       "741        0        0        1        0         0         0        0   \n",
       "742        0        0        1        0         0         0        0   \n",
       "743        0        0        0        0         1         0        0   \n",
       "\n",
       "     time_Dinner  time_Lunch  \n",
       "0              0           1  \n",
       "1              1           0  \n",
       "2              1           0  \n",
       "3              1           0  \n",
       "4              0           1  \n",
       "..           ...         ...  \n",
       "739            1           0  \n",
       "740            1           0  \n",
       "741            1           0  \n",
       "742            1           0  \n",
       "743            1           0  \n",
       "\n",
       "[744 rows x 15 columns]"
      ]
     },
     "execution_count": 13,
     "metadata": {},
     "output_type": "execute_result"
    }
   ],
   "source": [
    "pd.get_dummies(X)"
   ]
  },
  {
   "cell_type": "markdown",
   "metadata": {
    "id": "BH3OwBv0kvOY"
   },
   "source": [
    "We now save this result of one-hot encoding into X."
   ]
  },
  {
   "cell_type": "code",
   "execution_count": 14,
   "metadata": {
    "id": "MxSH43sqkvOY"
   },
   "outputs": [],
   "source": [
    "X = pd.get_dummies(X)"
   ]
  },
  {
   "cell_type": "code",
   "execution_count": 15,
   "metadata": {
    "colab": {
     "base_uri": "https://localhost:8080/",
     "height": 224
    },
    "id": "uSdI9q5_kvOY",
    "outputId": "eeefc352-a3aa-4388-809b-91676de41bb5",
    "scrolled": true
   },
   "outputs": [
    {
     "data": {
      "text/html": [
       "<div>\n",
       "<style scoped>\n",
       "    .dataframe tbody tr th:only-of-type {\n",
       "        vertical-align: middle;\n",
       "    }\n",
       "\n",
       "    .dataframe tbody tr th {\n",
       "        vertical-align: top;\n",
       "    }\n",
       "\n",
       "    .dataframe thead th {\n",
       "        text-align: right;\n",
       "    }\n",
       "</style>\n",
       "<table border=\"1\" class=\"dataframe\">\n",
       "  <thead>\n",
       "    <tr style=\"text-align: right;\">\n",
       "      <th></th>\n",
       "      <th>total_bill</th>\n",
       "      <th>size</th>\n",
       "      <th>gender_Female</th>\n",
       "      <th>gender_Male</th>\n",
       "      <th>smoker_No</th>\n",
       "      <th>smoker_Yes</th>\n",
       "      <th>day_Fri</th>\n",
       "      <th>day_Mon</th>\n",
       "      <th>day_Sat</th>\n",
       "      <th>day_Sun</th>\n",
       "      <th>day_Thur</th>\n",
       "      <th>day_Tues</th>\n",
       "      <th>day_Wed</th>\n",
       "      <th>time_Dinner</th>\n",
       "      <th>time_Lunch</th>\n",
       "    </tr>\n",
       "  </thead>\n",
       "  <tbody>\n",
       "    <tr>\n",
       "      <th>0</th>\n",
       "      <td>2125.50</td>\n",
       "      <td>1</td>\n",
       "      <td>0</td>\n",
       "      <td>1</td>\n",
       "      <td>1</td>\n",
       "      <td>0</td>\n",
       "      <td>0</td>\n",
       "      <td>0</td>\n",
       "      <td>0</td>\n",
       "      <td>0</td>\n",
       "      <td>1</td>\n",
       "      <td>0</td>\n",
       "      <td>0</td>\n",
       "      <td>0</td>\n",
       "      <td>1</td>\n",
       "    </tr>\n",
       "    <tr>\n",
       "      <th>1</th>\n",
       "      <td>2727.18</td>\n",
       "      <td>5</td>\n",
       "      <td>1</td>\n",
       "      <td>0</td>\n",
       "      <td>1</td>\n",
       "      <td>0</td>\n",
       "      <td>0</td>\n",
       "      <td>0</td>\n",
       "      <td>0</td>\n",
       "      <td>1</td>\n",
       "      <td>0</td>\n",
       "      <td>0</td>\n",
       "      <td>0</td>\n",
       "      <td>1</td>\n",
       "      <td>0</td>\n",
       "    </tr>\n",
       "    <tr>\n",
       "      <th>2</th>\n",
       "      <td>1066.02</td>\n",
       "      <td>4</td>\n",
       "      <td>1</td>\n",
       "      <td>0</td>\n",
       "      <td>0</td>\n",
       "      <td>1</td>\n",
       "      <td>0</td>\n",
       "      <td>0</td>\n",
       "      <td>0</td>\n",
       "      <td>0</td>\n",
       "      <td>1</td>\n",
       "      <td>0</td>\n",
       "      <td>0</td>\n",
       "      <td>1</td>\n",
       "      <td>0</td>\n",
       "    </tr>\n",
       "    <tr>\n",
       "      <th>3</th>\n",
       "      <td>3493.45</td>\n",
       "      <td>1</td>\n",
       "      <td>1</td>\n",
       "      <td>0</td>\n",
       "      <td>1</td>\n",
       "      <td>0</td>\n",
       "      <td>0</td>\n",
       "      <td>0</td>\n",
       "      <td>0</td>\n",
       "      <td>1</td>\n",
       "      <td>0</td>\n",
       "      <td>0</td>\n",
       "      <td>0</td>\n",
       "      <td>1</td>\n",
       "      <td>0</td>\n",
       "    </tr>\n",
       "    <tr>\n",
       "      <th>4</th>\n",
       "      <td>3470.56</td>\n",
       "      <td>6</td>\n",
       "      <td>0</td>\n",
       "      <td>1</td>\n",
       "      <td>0</td>\n",
       "      <td>1</td>\n",
       "      <td>0</td>\n",
       "      <td>0</td>\n",
       "      <td>0</td>\n",
       "      <td>1</td>\n",
       "      <td>0</td>\n",
       "      <td>0</td>\n",
       "      <td>0</td>\n",
       "      <td>0</td>\n",
       "      <td>1</td>\n",
       "    </tr>\n",
       "  </tbody>\n",
       "</table>\n",
       "</div>"
      ],
      "text/plain": [
       "   total_bill  size  gender_Female  gender_Male  smoker_No  smoker_Yes  \\\n",
       "0     2125.50     1              0            1          1           0   \n",
       "1     2727.18     5              1            0          1           0   \n",
       "2     1066.02     4              1            0          0           1   \n",
       "3     3493.45     1              1            0          1           0   \n",
       "4     3470.56     6              0            1          0           1   \n",
       "\n",
       "   day_Fri  day_Mon  day_Sat  day_Sun  day_Thur  day_Tues  day_Wed  \\\n",
       "0        0        0        0        0         1         0        0   \n",
       "1        0        0        0        1         0         0        0   \n",
       "2        0        0        0        0         1         0        0   \n",
       "3        0        0        0        1         0         0        0   \n",
       "4        0        0        0        1         0         0        0   \n",
       "\n",
       "   time_Dinner  time_Lunch  \n",
       "0            0           1  \n",
       "1            1           0  \n",
       "2            1           0  \n",
       "3            1           0  \n",
       "4            0           1  "
      ]
     },
     "execution_count": 15,
     "metadata": {},
     "output_type": "execute_result"
    }
   ],
   "source": [
    "X.head()"
   ]
  },
  {
   "cell_type": "code",
   "execution_count": 16,
   "metadata": {
    "id": "5BzFNbi_kvOY",
    "outputId": "0c227b86-9b4a-46ba-e87f-35fcf4b27549"
   },
   "outputs": [
    {
     "data": {
      "text/plain": [
       "(744, 15)"
      ]
     },
     "execution_count": 16,
     "metadata": {},
     "output_type": "execute_result"
    }
   ],
   "source": [
    "X.shape"
   ]
  },
  {
   "cell_type": "markdown",
   "metadata": {
    "id": "4CvpwMrbkvOZ"
   },
   "source": [
    "- Split the data into training and test set"
   ]
  },
  {
   "cell_type": "markdown",
   "metadata": {
    "id": "6c73ZWd0kvOZ"
   },
   "source": [
    "We will split our dataset (Features (X) and Label (Y)) into training and test data by using `train_test_split()` function from the sklearn. The training set will be $80\\%$ while the test set will be $20\\%$. The `random_state` that is set to 1234 is for all of us to have the same set of data."
   ]
  },
  {
   "cell_type": "code",
   "execution_count": 17,
   "metadata": {
    "id": "netvI7ROkvOZ"
   },
   "outputs": [],
   "source": [
    "X_train, X_test, y_train, y_test = train_test_split(X, y, test_size = 0.2, random_state= 1234)"
   ]
  },
  {
   "cell_type": "markdown",
   "metadata": {
    "id": "4P3Nxl8SkvOZ"
   },
   "source": [
    "We now have the pair of training data `(X_train, y_train)` and test data `(X_test, y_test)`"
   ]
  },
  {
   "cell_type": "markdown",
   "metadata": {
    "id": "YhnFXlFukvOZ"
   },
   "source": [
    "- Model training\n",
    "\n",
    "We will use the training data to build the model and then use test data to make prediction and evaluation respectively."
   ]
  },
  {
   "cell_type": "markdown",
   "metadata": {
    "id": "e_BoWilbkvOZ"
   },
   "source": [
    "## Linear Regression"
   ]
  },
  {
   "cell_type": "markdown",
   "metadata": {
    "id": "zZiFh5OskvOa"
   },
   "source": [
    "Let's train a linear regression model with our training data. We need to import the Linear regression from the sklearn model"
   ]
  },
  {
   "cell_type": "code",
   "execution_count": 18,
   "metadata": {
    "id": "BPQTqQjhkvOa"
   },
   "outputs": [],
   "source": [
    "# Fitting Linear Regression to the Training set\n",
    "\n",
    "from sklearn.linear_model import LinearRegression"
   ]
  },
  {
   "cell_type": "markdown",
   "metadata": {
    "id": "KLhfDF1FkvOa"
   },
   "source": [
    "We now create an object of class `LinearRegression` to train the model on"
   ]
  },
  {
   "cell_type": "code",
   "execution_count": 28,
   "metadata": {
    "colab": {
     "base_uri": "https://localhost:8080/"
    },
    "id": "hMDqghK1kvOa",
    "outputId": "460fde43-adbf-45cc-952c-72fda380e6a1"
   },
   "outputs": [
    {
     "data": {
      "text/plain": [
       "LinearRegression()"
      ]
     },
     "execution_count": 28,
     "metadata": {},
     "output_type": "execute_result"
    }
   ],
   "source": [
    "linearmodel = LinearRegression()\n",
    "\n",
    "linearmodel.fit(X_train, y_train)"
   ]
  },
  {
   "cell_type": "markdown",
   "metadata": {
    "id": "GcAFpqtfkvOa"
   },
   "source": [
    "`linearmodel.fit` trained the Linear regression model. The model is now ready to make prediction for the unknown label by using only the features from the test data (`X_test`)."
   ]
  },
  {
   "cell_type": "markdown",
   "metadata": {
    "id": "i6ChPhmLkvOa"
   },
   "source": [
    "Let's save the prediction result into `linearmodel_prediction`. This is what the model predicted for us."
   ]
  },
  {
   "cell_type": "code",
   "execution_count": null,
   "metadata": {},
   "outputs": [],
   "source": []
  },
  {
   "cell_type": "code",
   "execution_count": 29,
   "metadata": {
    "id": "JaTLUIcJkvOb"
   },
   "outputs": [],
   "source": [
    "linearmodel_prediction = linearmodel.predict(X_test)"
   ]
  },
  {
   "cell_type": "markdown",
   "metadata": {
    "id": "bTBvckVgkvOb"
   },
   "source": [
    "### Model evaluation\n",
    "\n"
   ]
  },
  {
   "cell_type": "markdown",
   "metadata": {
    "id": "Mzdrd7WJkvOb"
   },
   "source": [
    "Since the prediction is continous, we can only measure how far the prediction is from the actual values. Let's check the error for each prediction."
   ]
  },
  {
   "cell_type": "code",
   "execution_count": 30,
   "metadata": {
    "colab": {
     "base_uri": "https://localhost:8080/"
    },
    "id": "_vm3mlIbkvOb",
    "outputId": "841cc46a-b5e0-43e0-cb0e-978bf51f64af"
   },
   "outputs": [
    {
     "data": {
      "text/plain": [
       "535     24.961516\n",
       "718   -127.210271\n",
       "277    117.118840\n",
       "391     29.585975\n",
       "586    -80.857463\n",
       "          ...    \n",
       "28     251.233516\n",
       "146   -113.455516\n",
       "616    159.553272\n",
       "234     27.214263\n",
       "359     33.720087\n",
       "Name: tip, Length: 149, dtype: float64"
      ]
     },
     "execution_count": 30,
     "metadata": {},
     "output_type": "execute_result"
    }
   ],
   "source": [
    "y_test - linearmodel_prediction "
   ]
  },
  {
   "cell_type": "markdown",
   "metadata": {
    "id": "XWsWcGkwkvOc"
   },
   "source": [
    "The positive ones show that the prediction is higher than the actual values while the negative ones are below the actual values. Let's now measure this error by using the Root Mean Squared Error (RMSE)."
   ]
  },
  {
   "cell_type": "code",
   "execution_count": 31,
   "metadata": {
    "id": "bOehJTi-kvOc"
   },
   "outputs": [],
   "source": [
    "MSE = metrics.mean_squared_error(y_test, linearmodel_prediction)"
   ]
  },
  {
   "cell_type": "code",
   "execution_count": 32,
   "metadata": {
    "colab": {
     "base_uri": "https://localhost:8080/"
    },
    "id": "LIzdG-pSkvOc",
    "outputId": "d0c753ab-7c7e-4258-8846-b8e65b971241"
   },
   "outputs": [
    {
     "data": {
      "text/plain": [
       "20201.41527694898"
      ]
     },
     "execution_count": 32,
     "metadata": {},
     "output_type": "execute_result"
    }
   ],
   "source": [
    "MSE"
   ]
  },
  {
   "cell_type": "markdown",
   "metadata": {
    "id": "n3gOgYZPkvOc"
   },
   "source": [
    "We now take the square root of the Mean Squared Error to get the value of the RMSE."
   ]
  },
  {
   "cell_type": "code",
   "execution_count": 33,
   "metadata": {
    "colab": {
     "base_uri": "https://localhost:8080/"
    },
    "id": "4ae44jLHkvOc",
    "outputId": "b3456302-b74e-4401-bcb8-9e6beb3a336c"
   },
   "outputs": [
    {
     "data": {
      "text/plain": [
       "142.1316828752442"
      ]
     },
     "execution_count": 33,
     "metadata": {},
     "output_type": "execute_result"
    }
   ],
   "source": [
    "np.sqrt(MSE)"
   ]
  },
  {
   "cell_type": "markdown",
   "metadata": {
    "id": "IdxfCqJ1kvOc"
   },
   "source": [
    "Therefore, the RMSE for the linear regression is 142.1316828752442."
   ]
  },
  {
   "cell_type": "markdown",
   "metadata": {
    "id": "K912XgIBkvOc"
   },
   "source": [
    "## Random Forest Model\n",
    "\n",
    "Let's train a Random Forest model with our training data. We need to import the model from the sklearn module"
   ]
  },
  {
   "cell_type": "code",
   "execution_count": 34,
   "metadata": {
    "colab": {
     "base_uri": "https://localhost:8080/"
    },
    "id": "Jx1HrKWLkvOd",
    "outputId": "de1b9a4d-e1b1-486b-e434-d6f42aea5c40"
   },
   "outputs": [
    {
     "data": {
      "text/plain": [
       "RandomForestRegressor()"
      ]
     },
     "execution_count": 34,
     "metadata": {},
     "output_type": "execute_result"
    }
   ],
   "source": [
    "from sklearn.ensemble import RandomForestRegressor\n",
    "\n",
    "randomforestmodel = RandomForestRegressor()\n",
    "\n",
    "randomforestmodel.fit(X_train, y_train)"
   ]
  },
  {
   "cell_type": "markdown",
   "metadata": {
    "id": "cA9MfEjHkvOd"
   },
   "source": [
    "`randomforestmodel.fit()` trained the Random Forest model on the training data. The model is now ready to make prediction for the unknown label by using only the features from the test data (`X_test`)."
   ]
  },
  {
   "cell_type": "code",
   "execution_count": 35,
   "metadata": {
    "id": "vZSRspZUkvOd"
   },
   "outputs": [],
   "source": [
    "randomforestmodel_prediction = randomforestmodel.predict(X_test)"
   ]
  },
  {
   "cell_type": "code",
   "execution_count": 36,
   "metadata": {
    "id": "wW6JXNhukvOd"
   },
   "outputs": [],
   "source": [
    "MSE = metrics.mean_squared_error(y_test, randomforestmodel_prediction)"
   ]
  },
  {
   "cell_type": "code",
   "execution_count": 37,
   "metadata": {
    "colab": {
     "base_uri": "https://localhost:8080/"
    },
    "id": "HgpSRd3akvOd",
    "outputId": "27ec0026-772c-4d28-8df3-844ce8a573a1"
   },
   "outputs": [
    {
     "data": {
      "text/plain": [
       "25911.596681171482"
      ]
     },
     "execution_count": 37,
     "metadata": {},
     "output_type": "execute_result"
    }
   ],
   "source": [
    "MSE"
   ]
  },
  {
   "cell_type": "markdown",
   "metadata": {
    "id": "En9XPrnukvOd"
   },
   "source": [
    "We now take the square root of the Mean Squared Error to get the value of the RMSE."
   ]
  },
  {
   "cell_type": "code",
   "execution_count": 38,
   "metadata": {
    "id": "lIZxy_EekvOe",
    "outputId": "d137ca83-2539-4232-c2ef-1fd5ce54ebb5"
   },
   "outputs": [
    {
     "data": {
      "text/plain": [
       "160.97079449754693"
      ]
     },
     "execution_count": 38,
     "metadata": {},
     "output_type": "execute_result"
    }
   ],
   "source": [
    "np.sqrt(MSE)"
   ]
  },
  {
   "cell_type": "markdown",
   "metadata": {
    "id": "Xpc3LvxekvOe"
   },
   "source": [
    "Therefore, the RMSE for the Random Forest Model is 160.3155113080993."
   ]
  },
  {
   "cell_type": "markdown",
   "metadata": {
    "id": "bgvvY0mwkvOe"
   },
   "source": [
    "## Extreme Gradient Boost (XGBoost) Model\n",
    "\n",
    "Let's train an XGBoost model with our training data. We need to import the XGBoost model from the xgboost module."
   ]
  },
  {
   "cell_type": "code",
   "execution_count": 39,
   "metadata": {
    "colab": {
     "base_uri": "https://localhost:8080/"
    },
    "id": "S1CQB5FykvOe",
    "outputId": "ea1d3c44-65fd-4520-f843-f011a6fcfaf5"
   },
   "outputs": [
    {
     "name": "stdout",
     "output_type": "stream",
     "text": [
      "[16:30:23] WARNING: C:\\Users\\Administrator\\workspace\\xgboost-win64_release_1.1.0\\src\\learner.cc:480: \n",
      "Parameters: { use_label_encoder } might not be used.\n",
      "\n",
      "  This may not be accurate due to some parameters are only used in language bindings but\n",
      "  passed down to XGBoost core.  Or some parameters are not used but slip through this\n",
      "  verification. Please open an issue if you find above cases.\n",
      "\n",
      "\n"
     ]
    }
   ],
   "source": [
    "from xgboost import XGBRegressor # Please install xgboost libarary if you don't have it installed already\n",
    "\n",
    "xgboostmodel = XGBRegressor(use_label_encoder=False)\n",
    "\n",
    "xgbboostmodel = xgboostmodel.fit(X_train, y_train)"
   ]
  },
  {
   "cell_type": "markdown",
   "metadata": {
    "id": "KN7E9bSdkvOe"
   },
   "source": [
    "`xgboostmodel.fit()` trained the XGBoost model on the training data. The model is now ready to make prediction for the unknown label by using only the features from the test data (`X_test`)."
   ]
  },
  {
   "cell_type": "code",
   "execution_count": 40,
   "metadata": {
    "id": "tGup2aarkvOe"
   },
   "outputs": [],
   "source": [
    "xgbboostmodel_prediction = xgboostmodel.predict(X_test)"
   ]
  },
  {
   "cell_type": "markdown",
   "metadata": {
    "id": "ZZcQV8x4kvOe"
   },
   "source": [
    "You can call on `xgbboostmodel_prediction` to see the prediction"
   ]
  },
  {
   "cell_type": "code",
   "execution_count": 41,
   "metadata": {
    "id": "hsZFrAoqkvOf"
   },
   "outputs": [],
   "source": [
    "MSE = metrics.mean_squared_error(y_test, xgbboostmodel_prediction)"
   ]
  },
  {
   "cell_type": "code",
   "execution_count": 42,
   "metadata": {
    "colab": {
     "base_uri": "https://localhost:8080/"
    },
    "id": "7qtxDwKCkvOf",
    "outputId": "ac0d6561-d2e2-4df5-ee59-66baf842a182"
   },
   "outputs": [
    {
     "data": {
      "text/plain": [
       "29250.892630941566"
      ]
     },
     "execution_count": 42,
     "metadata": {},
     "output_type": "execute_result"
    }
   ],
   "source": [
    "MSE"
   ]
  },
  {
   "cell_type": "markdown",
   "metadata": {
    "id": "U0O8wM1RkvOf"
   },
   "source": [
    "We now take the square root of the Mean Squared Error to get the value of the RMSE."
   ]
  },
  {
   "cell_type": "code",
   "execution_count": 43,
   "metadata": {
    "id": "iOYBVjBnkvOf",
    "outputId": "0c48c4f5-36cd-43e8-a334-6c9157fb459c"
   },
   "outputs": [
    {
     "data": {
      "text/plain": [
       "171.0289233753799"
      ]
     },
     "execution_count": 43,
     "metadata": {},
     "output_type": "execute_result"
    }
   ],
   "source": [
    "np.sqrt(MSE)"
   ]
  },
  {
   "cell_type": "markdown",
   "metadata": {
    "id": "ZObwTG-EkvOf"
   },
   "source": [
    "Therefore, the RMSE for the Gradient Boost (XGBoost) Model is 171.0289233753799"
   ]
  },
  {
   "cell_type": "markdown",
   "metadata": {
    "id": "lkunuhGekvOf"
   },
   "source": [
    "## Support Vector Machine (SVM)\n",
    "\n",
    "Let's train a Support Vector Machine model with our training data. We need to import the Support Vector Machine model from the sklearn module"
   ]
  },
  {
   "cell_type": "code",
   "execution_count": 44,
   "metadata": {
    "colab": {
     "base_uri": "https://localhost:8080/"
    },
    "id": "CLKjJjiakvOf",
    "outputId": "0631bc39-414a-40d4-bd7b-461d251c8987"
   },
   "outputs": [
    {
     "data": {
      "text/plain": [
       "SVR()"
      ]
     },
     "execution_count": 44,
     "metadata": {},
     "output_type": "execute_result"
    }
   ],
   "source": [
    "from sklearn.svm import SVR\n",
    "\n",
    "SVMmodel = SVR()\n",
    "\n",
    "SVMmodel.fit(X_train, y_train)"
   ]
  },
  {
   "cell_type": "markdown",
   "metadata": {
    "id": "BBcn8lsFkvOg"
   },
   "source": [
    "`SVMmodel.fit()` trained the Support Vector Machine on the training data. The model is now ready to make prediction for the unknown label by using only the features from the test data (`X_test`)."
   ]
  },
  {
   "cell_type": "code",
   "execution_count": 45,
   "metadata": {
    "id": "S-zYi76HkvOg"
   },
   "outputs": [],
   "source": [
    "SVMmodel_prediction = SVMmodel.predict(X_test)"
   ]
  },
  {
   "cell_type": "markdown",
   "metadata": {
    "id": "DnL5VzmkkvOg"
   },
   "source": [
    "You can call on `SVMmodel_prediction` to see what has been predicted."
   ]
  },
  {
   "cell_type": "code",
   "execution_count": 46,
   "metadata": {
    "id": "V5POY3KAkvOg"
   },
   "outputs": [],
   "source": [
    "MSE = metrics.mean_squared_error(y_test, SVMmodel_prediction)"
   ]
  },
  {
   "cell_type": "code",
   "execution_count": 47,
   "metadata": {
    "colab": {
     "base_uri": "https://localhost:8080/"
    },
    "id": "eKEexgvNkvOg",
    "outputId": "2b054a58-bd8c-4d22-a9a6-e31997f04274"
   },
   "outputs": [
    {
     "data": {
      "text/plain": [
       "19853.340298954365"
      ]
     },
     "execution_count": 47,
     "metadata": {},
     "output_type": "execute_result"
    }
   ],
   "source": [
    "MSE"
   ]
  },
  {
   "cell_type": "markdown",
   "metadata": {
    "id": "zxMKhuyjkvOh"
   },
   "source": [
    "We now take the square root of the Mean Squared Error to get the value of the RMSE."
   ]
  },
  {
   "cell_type": "code",
   "execution_count": 48,
   "metadata": {
    "id": "m22U_C5MkvOh",
    "outputId": "cc0295eb-214d-47c3-cf0d-5f894dd27215"
   },
   "outputs": [
    {
     "data": {
      "text/plain": [
       "140.90188181480886"
      ]
     },
     "execution_count": 48,
     "metadata": {},
     "output_type": "execute_result"
    }
   ],
   "source": [
    "np.sqrt(MSE)"
   ]
  },
  {
   "cell_type": "markdown",
   "metadata": {
    "id": "ztZpU5xtkvOh"
   },
   "source": [
    "Therefore, the RMSE for the Support Vector Machine (SVM) is 140.90188181480886"
   ]
  },
  {
   "cell_type": "markdown",
   "metadata": {
    "id": "Di8pBJSUkvOh"
   },
   "source": [
    "You can call on `SVMmodel_prediction` to see the prediction"
   ]
  },
  {
   "cell_type": "markdown",
   "metadata": {
    "id": "GCIdOTpXkvOk"
   },
   "source": [
    "## Decision Tree \n",
    "\n",
    "Let's train a Decision Tree model with our training data. We need to import the Decision Tree model from the sklearn module"
   ]
  },
  {
   "cell_type": "code",
   "execution_count": 49,
   "metadata": {
    "colab": {
     "base_uri": "https://localhost:8080/"
    },
    "id": "3IXNZltqkvOk",
    "outputId": "f51c613b-b73d-4291-c823-873b359dd52e"
   },
   "outputs": [
    {
     "data": {
      "text/plain": [
       "DecisionTreeRegressor()"
      ]
     },
     "execution_count": 49,
     "metadata": {},
     "output_type": "execute_result"
    }
   ],
   "source": [
    "from sklearn.tree import DecisionTreeRegressor\n",
    "\n",
    "decisiontree =  DecisionTreeRegressor()\n",
    "\n",
    "decisiontree.fit(X_train, y_train)"
   ]
  },
  {
   "cell_type": "markdown",
   "metadata": {
    "id": "ClXnjjrRkvOk"
   },
   "source": [
    "`decisiontree.fit()` trained the Decision Tree on the training data. The model is now ready to make prediction for the unknown label by using only the features from the test data (`X_test`)."
   ]
  },
  {
   "cell_type": "code",
   "execution_count": 50,
   "metadata": {
    "id": "jQ6ZBEPikvOk"
   },
   "outputs": [],
   "source": [
    "decisiontree_prediction = decisiontree.predict(X_test)"
   ]
  },
  {
   "cell_type": "markdown",
   "metadata": {
    "id": "-ewSB3Q7kvOl"
   },
   "source": [
    "You can call on `decisiontree_prediction` to see what has been predicted."
   ]
  },
  {
   "cell_type": "code",
   "execution_count": 51,
   "metadata": {
    "id": "hpzudosFkvOl"
   },
   "outputs": [],
   "source": [
    "MSE = metrics.mean_squared_error(y_test, decisiontree_prediction)"
   ]
  },
  {
   "cell_type": "code",
   "execution_count": 52,
   "metadata": {
    "colab": {
     "base_uri": "https://localhost:8080/"
    },
    "id": "boUFKjwYkvOl",
    "outputId": "786fc1f9-f5b1-4dcd-d4b7-183aeda1e2bd"
   },
   "outputs": [
    {
     "data": {
      "text/plain": [
       "44748.94924832214"
      ]
     },
     "execution_count": 52,
     "metadata": {},
     "output_type": "execute_result"
    }
   ],
   "source": [
    "MSE"
   ]
  },
  {
   "cell_type": "markdown",
   "metadata": {
    "id": "7asS9EnYkvOl"
   },
   "source": [
    "We now take the square root of the Mean Squared Error to get the value of the RMSE."
   ]
  },
  {
   "cell_type": "code",
   "execution_count": 53,
   "metadata": {
    "id": "HToKyaaHkvOl",
    "outputId": "6f86fc69-d756-4019-a133-b5fdd7de6798"
   },
   "outputs": [
    {
     "data": {
      "text/plain": [
       "211.53947444465805"
      ]
     },
     "execution_count": 53,
     "metadata": {},
     "output_type": "execute_result"
    }
   ],
   "source": [
    "np.sqrt(MSE)"
   ]
  },
  {
   "cell_type": "markdown",
   "metadata": {
    "id": "8PptSJnbkvOl"
   },
   "source": [
    "Therefore, the RMSE for the Decision Tree is 215.84571333501313"
   ]
  },
  {
   "cell_type": "markdown",
   "metadata": {
    "id": "xy9FEAmPkvOl"
   },
   "source": [
    "## Models Summary"
   ]
  },
  {
   "cell_type": "markdown",
   "metadata": {
    "id": "EpP3lSJbkvOm"
   },
   "source": [
    "Having trained all the five (5) models, we can see that the best model that can accurately predict the amount of tips that would be given for a given party in the restaurant is the model with the lowest RMSE and that is Suport Vector Machine (SVM)."
   ]
  },
  {
   "cell_type": "markdown",
   "metadata": {
    "id": "bVtcZxqhkvOm"
   },
   "source": [
    "## Class Activity "
   ]
  },
  {
   "cell_type": "markdown",
   "metadata": {
    "id": "nXkXzTP0kvOm"
   },
   "source": [
    "## Importing Scikit-learn Module\n",
    "\n",
    "Use the following models to predict the amount of tips that would be given for a given party in the restuarant. Your teacher has also included how to import those models for you.\n",
    "\n",
    "* **K Nearest Neighbor**: `from sklearn.neighbors import KNeighborsRegressor`\n",
    "\n",
    "* **Ridge Regression**: ` from sklearn.linear_model import Ridge`\n",
    "\n",
    "* **Gradient Boost Classifier**: `from sklearn.ensemble import GradientBoostingRegressor`\n",
    "\n",
    "Which of the three (3) model is the best in term of RMSE?"
   ]
  },
  {
   "cell_type": "code",
   "execution_count": null,
   "metadata": {},
   "outputs": [],
   "source": []
  },
  {
   "cell_type": "code",
   "execution_count": null,
   "metadata": {},
   "outputs": [],
   "source": []
  }
 ],
 "metadata": {
  "colab": {
   "name": "Copy of Regression task.ipynb",
   "provenance": []
  },
  "kernelspec": {
   "display_name": "Python 3",
   "language": "python",
   "name": "python3"
  },
  "language_info": {
   "codemirror_mode": {
    "name": "ipython",
    "version": 3
   },
   "file_extension": ".py",
   "mimetype": "text/x-python",
   "name": "python",
   "nbconvert_exporter": "python",
   "pygments_lexer": "ipython3",
   "version": "3.8.3"
  }
 },
 "nbformat": 4,
 "nbformat_minor": 4
}
